{
 "cells": [
  {
   "cell_type": "markdown",
   "metadata": {},
   "source": [
    "# TASK 1 - Decrypt text-file"
   ]
  },
  {
   "cell_type": "markdown",
   "metadata": {},
   "source": [
    "## Read file (first 600 words for readability)"
   ]
  },
  {
   "cell_type": "code",
   "execution_count": 19,
   "metadata": {},
   "outputs": [
    {
     "name": "stdout",
     "output_type": "stream",
     "text": [
      "Encrypted text: \n",
      "qfmdhcufodvm, cf qfmdhczcum (tfca obqwsbh ufssy: κρυπτός, fcaobwnsr: yfmdhóg \"vwrrsb, gsqfsh\"; obr γράφειν ufodvswb, \"hc kfwhs\", cf -λογία -zcuwo, \"ghirm\", fsgdsqhwjszm), wg hvs dfoqhwqs obr ghirm ct hsqvbweisg tcf gsqifs qcaaibwqohwcb wb hvs dfsgsbqs ct hvwfr dofhwsg qozzsr orjsfgofwsg. acfs usbsfozzm, qfmdhcufodvm wg opcih qcbghfiqhwbu obr obozmnwbu dfchcqczg hvoh dfsjsbh hvwfr dofhwsg cf hvs dipzwq tfca fsorwbu dfwjohs asggousg; jofwcig ogdsqhg wb wbtcfaohwcb gsqifwhm giqv og roho qcbtwrsbhwozwhm, roho wbhsufwhm, oihvsbhwqohwcb, obr bcb-fsdirwohwcb ofs qsbhfoz hc acrsfb qfmdhcufodvm. acrsfb\n",
      "\n"
     ]
    }
   ],
   "source": [
    "with open(\"ciphertext_caesar.txt\", 'r', encoding=\"utf8\") as file:\r\n",
    "    file_content = file.read(600)\r\n",
    "\r\n",
    "print(\"Encrypted text: \\n\" + file_content +\"\\n\")\r\n"
   ]
  },
  {
   "cell_type": "markdown",
   "metadata": {},
   "source": [
    "## Remove non-letters, count occurence of each letter and sort the dict."
   ]
  },
  {
   "cell_type": "code",
   "execution_count": 15,
   "metadata": {},
   "outputs": [
    {
     "name": "stdout",
     "output_type": "stream",
     "text": [
      "OrderedDict([('a', 11), ('b', 36), ('c', 35), ('d', 21), ('e', 2), ('f', 46), ('g', 26), ('h', 46), ('i', 14), ('j', 6), ('k', 2), ('m', 18), ('n', 3), ('o', 41), ('p', 3), ('q', 26), ('r', 21), ('s', 48), ('t', 8), ('u', 14), ('v', 15), ('w', 39), ('y', 3), ('z', 13)])\n"
     ]
    }
   ],
   "source": [
    "import collections\r\n",
    "\r\n",
    "freq = {}\r\n",
    "for letter in file_content:\r\n",
    "    if ord(letter) >= 97 and ord(letter) <= 122:\r\n",
    "        if letter not in freq:\r\n",
    "            freq.update({letter: 1})\r\n",
    "        freq[letter] +=1\r\n",
    "\r\n",
    "sorted_freq = collections.OrderedDict(sorted(freq.items()))\r\n",
    "print(sorted_freq)\r\n"
   ]
  },
  {
   "cell_type": "markdown",
   "metadata": {},
   "source": [
    "## Plot occurences of each letter (sorted)"
   ]
  },
  {
   "cell_type": "code",
   "execution_count": 29,
   "metadata": {},
   "outputs": [
    {
     "data": {
      "text/plain": "[Text(0.5, 0, 'Letter'), Text(0, 0.5, 'Count')]"
     },
     "execution_count": 29,
     "metadata": {},
     "output_type": "execute_result"
    },
    {
     "data": {
      "image/png": "[encoded data removed]",
      "text/plain": "<Figure size 432x288 with 1 Axes>"
     },
     "metadata": {
      "needs_background": "light"
     },
     "output_type": "display_data"
    }
   ],
   "source": [
    "import numpy as np\r\n",
    "import matplotlib.pyplot as plt\r\n",
    "\r\n",
    "fix, ax = plt.subplots()\r\n",
    "letters = sorted_freq.keys()\r\n",
    "value = sorted_freq.values()\r\n",
    "ax.bar(letters, value)\r\n",
    "ax.set(xlabel='Letter', ylabel='Count')"
   ]
  },
  {
   "cell_type": "markdown",
   "metadata": {},
   "source": [
    "### The shift is 12 (looking at similar graphs representing most common english letters)"
   ]
  },
  {
   "cell_type": "markdown",
   "metadata": {},
   "source": [
    "## Decrypt the text-file using the shift found above"
   ]
  },
  {
   "cell_type": "code",
   "execution_count": 17,
   "metadata": {},
   "outputs": [
    {
     "name": "stdout",
     "output_type": "stream",
     "text": [
      "Decrypted text: \n",
      "cryptography, or cryptology (from ancient greek: άγηβζξδ, romanized: kryptås \"hidden, secret\"; and ΥγΞθΧΫί graphein, \"to write\", or -έαΥΡΣ -logia, \"study\", respectively), is the practice and study of techniques for secure communication in the presence of third parties called adversaries. more generally, cryptography is about constructing and analyzing protocols that prevent third parties or the public from reading private messages; various aspects in information security such as data confidentiality, data integrity, authentication, and non-repudiation are central to modern cryptography. modern\n"
     ]
    }
   ],
   "source": [
    "with open(\"ciphertext_caesar.txt\", 'r', encoding=\"utf8\") as file:\r\n",
    "    file_line = file.read(600)\r\n",
    "    shift = 12\r\n",
    "    new_file = \"\"\r\n",
    "    for letter in file_line:\r\n",
    "        if ord(letter) >= 97 and (ord(letter) + shift > 122):\r\n",
    "            new_file += chr(ord(letter)+shift-26)\r\n",
    "        elif ord(letter) >= 97 and (ord(letter) + shift <= 122):\r\n",
    "            new_file += chr(ord(letter)+shift)\r\n",
    "        else: \r\n",
    "            new_file += letter\r\n",
    "\r\n",
    "print(\"Decrypted text: \\n\" + new_file)\r\n",
    "\r\n",
    "        "
   ]
  }
 ],
 "metadata": {
  "kernelspec": {
   "display_name": "Python 3.8.5 64-bit ('eads': conda)",
   "metadata": {
    "interpreter": {
     "hash": "d17ca3fd1502c24ababaf0ced00c555b21847e5180bffa0375382250777d1da9"
    }
   },
   "name": "python3"
  },
  "language_info": {
   "codemirror_mode": {
    "name": "ipython",
    "version": 3
   },
   "file_extension": ".py",
   "mimetype": "text/x-python",
   "name": "python",
   "nbconvert_exporter": "python",
   "pygments_lexer": "ipython3",
   "version": "3.8.5"
  },
  "orig_nbformat": 2
 },
 "nbformat": 4,
 "nbformat_minor": 2
}