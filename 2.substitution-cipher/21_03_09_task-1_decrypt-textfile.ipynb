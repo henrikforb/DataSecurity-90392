{
 "cells": [
  {
   "cell_type": "markdown",
   "metadata": {},
   "source": [
    "# TASK 1 - Decrypt text-file"
   ]
  },
  {
   "cell_type": "markdown",
   "metadata": {},
   "source": [
    "## Read file, remove non-letters. count occurence of each letter and sort it"
   ]
  },
  {
   "cell_type": "code",
   "execution_count": 28,
   "metadata": {},
   "outputs": [
    {
     "name": "stdout",
     "output_type": "stream",
     "text": [
      "OrderedDict([('a', 1079), ('b', 2542), ('c', 2520), ('d', 1269), ('e', 84), ('f', 2657), ('g', 2596), ('h', 3426), ('i', 991), ('j', 398), ('k', 406), ('l', 116), ('m', 1142), ('n', 34), ('o', 3049), ('p', 573), ('q', 1882), ('r', 1243), ('s', 4615), ('t', 759), ('u', 758), ('v', 1631), ('w', 2948), ('x', 22), ('y', 315), ('z', 1579)])\n"
     ]
    }
   ],
   "source": [
    "import collections\r\n",
    "\r\n",
    "with open(\"ciphertext_caesar.txt\", 'r', encoding=\"utf8\") as file:\r\n",
    "    file_content = file.read()\r\n",
    "\r\n",
    "freq = {}\r\n",
    "for letter in file_content:\r\n",
    "    if ord(letter) >= 97 and ord(letter) <= 122:\r\n",
    "        if letter not in freq:\r\n",
    "            freq.update({letter: 1})\r\n",
    "        freq[letter] +=1\r\n",
    "\r\n",
    "sorted_freq = collections.OrderedDict(sorted(freq.items()))\r\n",
    "print(sorted_freq)\r\n",
    "\r\n",
    "\r\n",
    "#print(file_content)"
   ]
  },
  {
   "cell_type": "markdown",
   "metadata": {},
   "source": [
    "## Plot occurences of each letter (sorted)"
   ]
  },
  {
   "cell_type": "code",
   "execution_count": 29,
   "metadata": {},
   "outputs": [
    {
     "data": {
      "text/plain": "[Text(0.5, 0, 'Letter'), Text(0, 0.5, 'Count')]"
     },
     "execution_count": 29,
     "metadata": {},
     "output_type": "execute_result"
    },
    {
     "data": {
      "image/png": "[encoded data removed]",
      "text/plain": "<Figure size 432x288 with 1 Axes>"
     },
     "metadata": {
      "needs_background": "light"
     },
     "output_type": "display_data"
    }
   ],
   "source": [
    "import numpy as np\r\n",
    "import matplotlib.pyplot as plt\r\n",
    "\r\n",
    "fix, ax = plt.subplots()\r\n",
    "letters = sorted_freq.keys()\r\n",
    "value = sorted_freq.values()\r\n",
    "ax.bar(letters, value)\r\n",
    "ax.set(xlabel='Letter', ylabel='Count')"
   ]
  },
  {
   "cell_type": "markdown",
   "metadata": {},
   "source": [
    "### The shift is 12 (looking at similar graphs representing most common english letters)"
   ]
  },
  {
   "cell_type": "markdown",
   "metadata": {},
   "source": [
    "## Decrypt the text-file using the shift found above"
   ]
  },
  {
   "cell_type": "code",
   "execution_count": 66,
   "metadata": {},
   "outputs": [
    {
     "name": "stdout",
     "output_type": "stream",
     "text": [
      "cryptography, or cryptology (from ancient greek: άγηβζξδ, romanized: kryptås \"hidden, secret\"; and ΥγΞθΧΫί graphein, \"to write\", or -έαΥΡΣ -logia, \"study\", respectively), is the practice and study of techniques for secure communication in the presence of third parties called adversaries. more generally, cryptography is about constructing and analyzing protocols that prevent third parties or the public from reading private messages; various aspects in information security such as data confidentiality, data integrity, authentication, and non-repudiation are central to modern cryptography. modern cryptography exists at the intersection of the disciplines of mathematics, computer science, electrical engineering, communication science, and physics. applications of cryptography include electronic commerce, chip-based payment cards, digital currencies, computer passwords, and military communications.\n",
      "cryptography prior to the modern age was effectively synonymous with encryption, converting information from a readable state to unintelligible nonsense. the sender of an encrypted message shares the decoding technique only with intended recipients to preclude access from adversaries. the cryptography literature often uses the names alice (\"a\") for the sender, bob (\"b\") for the intended recipient, and eve (\"eavesdropper\") for the adversary. since the development of rotor cipher machines in world war i and the advent of computers in world war ii, cryptography methods have become increasingly complex and its applications more varied.\n",
      "modern cryptography is heavily based on mathematical theory and computer science practice; cryptographic algorithms are designed around computational hardness assumptions, making such algorithms hard to break in actual practice by any adversary. while it is theoretically possible to break into a well-designed such system, it is infeasible in actual practice to do so. such schemes, if well designed, are therefore termed \"computationally secure\"; theoretical advances, e.g., improvements in integer factorization algorithms, and faster computing technology require these designs to be continually reevaluated, and if necessary, adapted. there exist information-theoretically secure schemes that provably cannot be broken even with unlimited computing power, such as the one-time pad, but these schemes are much more difficult to use in practice than the best theoretically breakable but computationally secure schemes.\n",
      "the growth of cryptographic technology has raised a number of legal issues in the information age. cryptography's potential for use as a tool for espionage and sedition has led many governments to classify it as a weapon and to limit or even prohibit its use and export. in some jurisdictions where the use of cryptography is legal, laws permit investigators to compel the disclosure of encryption keys for documents relevant to an investigation. cryptography also plays a major role in digital rights management and copyright infringement disputes in regard to digital media.\n",
      "\n",
      "\n",
      "== terminology ==\n",
      "\n",
      "the first use of the term cryptograph (as opposed to cryptogram) dates back to the 19th century originating from the gold-bug, a story by edgar allan poe.until modern times, cryptography referred almost exclusively to encryption, which is the process of converting ordinary information (called plaintext) into unintelligible form (called ciphertext). decryption is the reverse, in other words, moving from the unintelligible ciphertext back to plaintext. a cipher (or cypher) is a pair of algorithms that carry out the encryption and the reversing decryption. the detailed operation of a cipher is controlled both by the algorithm and, in each instance, by a \"key\". the key is a secret (ideally known only to the communicants), usually a string of characters (ideally short so it can be remembered by the user), which is needed to decrypt the ciphertext.  in formal mathematical terms, a \"cryptosystem\" is the ordered list of elements of finite possible plaintexts, finite possible cyphertexts, finite possible keys, and the encryption and decryption algorithms which correspond to each key.  keys are important both formally and in actual practice, as ciphers without variable keys can be trivially broken with only the knowledge of the cipher used and are therefore useless (or even counter-productive) for most purposes.\n",
      "historically, ciphers were often used directly for encryption or decryption without additional procedures such as authentication or integrity checks. there are, generally, two kinds of cryptosystems: symmetric and asymmetric. in symmetric systems, the only ones known until the 1970s, the same key (the secret key) is used to encrypt and decrypt a message. data manipulation in symmetric systems is faster than asymmetric systems in part because they generally use shorter key lengths. asymmetric systems use a \"public key\" to encrypt a message and a related \"private key\" to decrypt it. use of asymmetric systems enhances the security of communication, largely because the relation between the two keys is very hard to discover. examples of asymmetric systems include rsa (rivest shamir adleman), and ecc (elliptic curve cryptography). quality symmetric algorithms include the commonly used aes (advanced encryption standard) which replaced the older des (data encryption standard).  not very high quality symmetric algorithms include the assorted children's language tangling schemes such as pig latin or other cant, and indeed effectively all cryptographic schemes, however seriously intended, from any source prior to the invention of the one-time pad early in the 20th century. \n",
      "in colloquial use, the term \"code\" is often used to mean any method of encryption or concealment of meaning. however, in cryptography, code has a more specific meaning: the replacement of a unit of plaintext (i.e., a meaningful word or phrase) with a code word (for example, \"wallaby\" replaces \"attack at dawn\").  a cypher, in contrast, is a scheme for changing or substituting an element below such a level (a letter, or a syllable or a pair of letters or ...) in order to produce a cyphertext.\n",
      "cryptanalysis is the term used for the study of methods for obtaining the meaning of encrypted information without access to the key normally required to do so; i.e., it is the study of how to \"crack\" encryption algorithms or their implementations.\n",
      "some use the terms cryptography and cryptology interchangeably in english, while others (including us military practice generally) use cryptography to refer specifically to the use and practice of cryptographic techniques and cryptology to refer to the combined study of cryptography and cryptanalysis. english is more flexible than several other languages in which cryptology (done by cryptologists) is always used in the second sense above. rfc 2828 advises that steganography is sometimes included in cryptology.the study of characteristics of languages that have some application in cryptography or cryptology (e.g. frequency data, letter combinations, universal patterns, etc.) is called cryptolinguistics.\n",
      "\n",
      "\n",
      "== history of cryptography and cryptanalysis ==\n",
      "\n",
      "before the modern era, cryptography focused on message confidentiality (i.e., encryption) conversion of messages from a comprehensible form into an incomprehensible one and back again at the other end, rendering it unreadable by interceptors or eavesdroppers without secret knowledge (namely the key needed for decryption of that message). encryption attempted to ensure secrecy in communications, such as those of spies, military leaders, and diplomats. in recent decades, the field has expanded beyond confidentiality concerns to include techniques for message integrity checking, sender/receiver identity authentication, digital signatures, interactive proofs and secure computation, among others.\n",
      "\n",
      "\n",
      "=== classic cryptography ===\n",
      "\n",
      "the main classical cipher types are transposition ciphers, which rearrange the order of letters in a message (e.g., 'hello world' becomes 'ehlol owrdl' in a trivially simple rearrangement scheme), and substitution ciphers, which systematically replace letters or groups of letters with other letters or groups of letters (e.g., 'fly at once' becomes 'gmz bu podf' by replacing each letter with the one following it in the latin alphabet). simple versions of either have never offered much confidentiality from enterprising opponents. an early substitution cipher was the caesar cipher, in which each letter in the plaintext was replaced by a letter some fixed number of positions further down the alphabet. suetonius reports that julius caesar used it with a shift of three to communicate with his generals. atbash is an example of an early hebrew cipher. the earliest known use of cryptography is some carved ciphertext on stone in egypt (ca 1900 bce), but this may have been done for the amusement of literate observers rather than as a way of concealing information.\n",
      "the greeks of classical times are said to have known of ciphers (e.g., the scytale transposition cipher claimed to have been used by the spartan military). steganography (i.e., hiding even the existence of a message so as to keep it confidential) was also first developed in ancient times. an early example, from herodotus, was a message tattooed on a slave's shaved head and concealed under the regrown hair. more modern examples of steganography include the use of invisible ink, microdots, and digital watermarks to conceal information.\n",
      "in india, the 2000-year-old kamasutra of vótsyóyana speaks of two different kinds of ciphers called kautiliyam and mulavediya. in the kautiliyam, the cipher letter substitutions are based on phonetic relations, such as vowels becoming consonants. in the mulavediya, the cipher alphabet consists of pairing letters and using the reciprocal ones.in sassanid persia, there were two secret scripts, according to the muslim author ibn al-nadim: the œóh-dabĝrĝya (literally \"king's script\") which was used for official correspondence, and the róz-saharĝya which was used to communicate secret messages with other countries.david kahn notes in the codebreakers that modern cryptology originated among the arabs, the first people to systematically document cryptanalytic methods. al-khalil (717 786) wrote the book of cryptographic messages, which contains the first use of permutations and combinations to list all possible arabic words with and without vowels.\n",
      "\n",
      "ciphertexts produced by a classical cipher (and some modern ciphers) will reveal statistical information about the plaintext, and that information can often be used to break the cipher. after the discovery of frequency analysis, by the arab mathematician and polymath al-kindi (also known as alkindus) in the 9th century, nearly all such ciphers could be broken by an informed attacker. such classical ciphers still enjoy popularity today, though mostly as puzzles. al-kindi wrote a book on cryptography entitled risalah fi istikhraj al-mu'amma (manuscript for the deciphering cryptographic messages), which described the first known use of frequency analysis and cryptanalysis techniques. an important contribution of ibn adlan (1187 1268) was on sample size for use of frequency analysis.\n",
      "\n",
      "language letter frequencies may offer little help for some extended historical encryption techniques such as homophonic cipher that tend to flatten the frequency distribution. for those ciphers, language letter group (or n-gram) frequencies may provide an attack.\n",
      "essentially all ciphers remained vulnerable to cryptanalysis using the frequency analysis technique until the development of the polyalphabetic cipher. while it was known to al-kindi to some extent, it was first clearly described in the work of al-qalqashandi (1355 1418), based on the earlier work of ibn al-durayhim (1312 1359), describing a polyalphabetic cipher in which each plaintext letter is assigned more than one substitute. it was later also described by leon battista alberti around the year 1467, though there is some indication that  alberti's method was to use different ciphers (i.e., substitution alphabets) for various parts of a message (perhaps for each successive plaintext letter at the limit). he also invented what was probably the first automatic cipher device, a wheel which implemented a partial realization of his invention. in the vigenÚre cipher, a polyalphabetic cipher, encryption uses a key word, which controls letter substitution depending on which letter of the key word is used. in the mid-19th century charles babbage showed that the vigenÚre cipher was vulnerable to kasiski examination, but this was first published about ten years later by friedrich kasiski.although frequency analysis can be a powerful and general technique against many ciphers, encryption has still often been effective in practice, as many a would-be cryptanalyst was unaware of the technique. breaking a message without using frequency analysis essentially required knowledge of the cipher used and perhaps of the key involved, thus making espionage, bribery, burglary, defection, etc., more attractive approaches to the cryptanalytically uninformed. it was finally explicitly recognized in the 19th century that secrecy of a cipher's algorithm is not a sensible nor practical safeguard of message security; in fact, it was further realized that any adequate cryptographic scheme (including ciphers) should remain secure even if the adversary fully understands the cipher algorithm itself. security of the key used should alone be sufficient for a good cipher to maintain confidentiality under an attack. this fundamental principle was first explicitly stated in 1883 by auguste kerckhoffs and is generally called kerckhoffs's principle; alternatively and more bluntly, it was restated by claude shannon, the inventor of information theory and the fundamentals of theoretical cryptography, as shannon's maxim 'the enemy knows the system'.\n",
      "different physical devices and aids have been used to assist with ciphers. one of the earliest may have been the scytale of ancient greece, a rod supposedly used by the spartans as an aid for a transposition cipher. in medieval times, other aids were invented such as the cipher grille, which was also used for a kind of steganography. with the invention of polyalphabetic ciphers came more sophisticated aids such as alberti's own cipher disk, johannes trithemius' tabula recta scheme, and thomas jefferson's wheel cypher (not publicly known, and reinvented independently by bazeries around 1900). many mechanical encryption/decryption devices were invented early in the 20th century, and several patented, among them rotor machines famously including the enigma machine used by the german government and military from the late 1920s and during world war ii. the ciphers implemented by better quality examples of these machine designs brought about a substantial increase in cryptanalytic difficulty after wwi.\n",
      "\n",
      "\n",
      "=== computer era ===\n",
      "prior to the early 20th century, cryptography was mainly concerned with linguistic and lexicographic patterns. since then the emphasis has shifted, and cryptography now makes extensive use of mathematics, including aspects of information theory, computational complexity, statistics, combinatorics, abstract algebra, number theory, and finite mathematics generally. cryptography is also a branch of engineering, but an unusual one since it deals with active, intelligent, and malevolent opposition; other kinds of engineering (e.g., civil or chemical engineering) need deal only with neutral natural forces. there is also active research examining the relationship between cryptographic problems and quantum physics.\n",
      "just as the development of digital computers and electronics helped in cryptanalysis, it made possible much more complex ciphers. furthermore, computers allowed for the encryption of any kind of data representable in any binary format, unlike classical ciphers which only encrypted written language texts; this was new and significant. computer use has thus supplanted linguistic cryptography, both for cipher design and cryptanalysis. many computer ciphers can be characterized by their operation on binary bit sequences (sometimes in groups or blocks), unlike classical and mechanical schemes, which generally manipulate traditional characters (i.e., letters and digits) directly. however, computers have also assisted cryptanalysis, which has compensated to some extent for increased cipher complexity. nonetheless, good modern ciphers have stayed ahead of cryptanalysis; it is typically the case that use of a quality cipher is very efficient (i.e., fast and requiring few resources, such as memory or cpu capability), while breaking it requires an effort many orders of magnitude larger, and vastly larger than that required for any classical cipher, making cryptanalysis so inefficient and impractical as to be effectively impossible.\n",
      "\n",
      "\n",
      "=== advent of modern cryptography ===\n",
      "cryptanalysis of the new mechanical devices proved to be both difficult and laborious. in the united kingdom, cryptanalytic efforts at bletchley park during wwii spurred the development of more efficient means for carrying out repetitious tasks. this culminated in the development of the colossus, the world's first fully electronic, digital, programmable computer, which assisted in the decryption of ciphers generated by the german army's lorenz sz40/42 machine.\n",
      "extensive open academic research into cryptography is relatively recent; it began only in the mid-1970s. in recent times, ibm personnel designed the algorithm that became the federal (i.e., us) data encryption standard; whitfield diffie and martin hellman published their key agreement algorithm; and the rsa algorithm was published in martin gardner's scientific american column. following their work in 1976, it became popular to consider cryptography systems based on mathematical problems that are easy to state but have been found difficult to solve. since then, cryptography has become a widely used tool in communications, computer networks, and computer security generally. some modern cryptographic techniques can only keep their keys secret if certain mathematical problems are intractable, such as the integer factorization or the discrete logarithm problems, so there are deep connections with abstract mathematics. there are very few cryptosystems that are proven to be unconditionally secure. the one-time pad is one, and was proven to be so by claude shannon. there are a few important algorithms that have been proven secure under certain assumptions. for example, the infeasibility of factoring extremely large integers is the basis for believing that rsa is secure, and some other systems, but even so proof of unbreakability is unavailable since the underlying mathematical problem remains open. in practice, these are widely used, and are believed unbreakable in practice by most competent observers.  there are systems similar to rsa, such as one by michael o. rabin that are provably secure provided factoring  n = pq is impossible;  it is quite unusable in practice. the discrete logarithm problem is the basis for believing some other cryptosystems are secure, and again, there are related, less practical systems that are provably secure relative to the solvability or insolvability discrete log problem.as well as being aware of cryptographic history, cryptographic algorithm and system designers must also sensibly consider probable future developments while working on their designs. for instance, continuous improvements in computer processing power have increased the scope of brute-force attacks, so when specifying key lengths, the required key lengths are similarly advancing. the potential effects of quantum computing are already being considered by some cryptographic system designers developing post-quantum cryptography; the announced imminence of small implementations of these machines may be making the need for preemptive caution rather more than merely speculative.\n",
      "\n",
      "\n",
      "== modern cryptography ==\n",
      "\n",
      "\n",
      "=== symmetric-key cryptography ===\n",
      "\n",
      "symmetric-key cryptography refers to encryption methods in which both the sender and receiver share the same key (or, less commonly, in which their keys are different, but related in an easily computable way). this was the only kind of encryption publicly known until june 1976.\n",
      "\n",
      "symmetric key ciphers are implemented as either block ciphers or stream ciphers. a block cipher enciphers input in blocks of plaintext as opposed to individual characters, the input form used by a stream cipher.\n",
      "the data encryption standard (des) and the advanced encryption standard (aes) are block cipher designs that have been designated cryptography standards by the us government (though des's designation was finally withdrawn after the aes was adopted). despite its deprecation as an official standard, des (especially its still-approved and much more secure triple-des variant) remains quite popular; it is used across a wide range of applications, from atm encryption to e-mail privacy and secure remote access. many other block ciphers have been designed and released, with considerable variation in quality. many, even some designed by capable practitioners, have been thoroughly broken, such as feal.stream ciphers, in contrast to the 'block' type, create an arbitrarily long stream of key material, which is combined with the plaintext bit-by-bit or character-by-character, somewhat like the one-time pad. in a stream cipher, the output stream is created based on a hidden internal state that changes as the cipher operates. that internal state is initially set up using the secret key material. rc4 is a widely used stream cipher. block ciphers can be used as stream ciphers.\n",
      "cryptographic hash functions are a third type of cryptographic algorithm. they take a message of any length as input, and output a short, fixed length hash, which can be used in (for example) a digital signature. for good hash functions, an attacker cannot find two messages that produce the same hash. md4 is a long-used hash function that is now broken; md5, a strengthened variant of md4, is also widely used but broken in practice. the us national security agency developed the secure hash algorithm series of md5-like hash functions: sha-0 was a flawed algorithm that the agency withdrew; sha-1 is widely deployed and more secure than md5, but cryptanalysts have identified attacks against it; the sha-2 family improves on sha-1, but is vulnerable to clashes as of 2011; and the us standards authority thought it \"prudent\" from a security perspective to develop a new standard to \"significantly improve the robustness of nist's overall hash algorithm toolkit.\" thus, a hash function design competition was meant to select a new u.s. national standard, to be called sha-3, by 2012. the competition ended on october 2, 2012 when the nist announced that keccak would be the new sha-3 hash algorithm. unlike block and stream ciphers that are invertible, cryptographic hash functions produce a hashed output that cannot be used to retrieve the original input data. cryptographic hash functions are used to verify the authenticity of data retrieved from an untrusted source or to add a layer of security.\n",
      "message authentication codes (macs) are much like cryptographic hash functions, except that a secret key can be used to authenticate the hash value upon receipt; this additional complication blocks an attack scheme against bare digest algorithms, and so has been thought worth the effort.\n",
      "\n",
      "\n",
      "=== public-key cryptography ===\n",
      "\n",
      "symmetric-key cryptosystems use the same key for encryption and decryption of a message, although a message or group of messages can have a different key than others. a significant disadvantage of symmetric ciphers is the key management necessary to use them securely. each distinct pair of communicating parties must, ideally, share a different key, and perhaps for each ciphertext exchanged as well. the number of keys required increases as the square of the number of network members, which very quickly requires complex key management schemes to keep them all consistent and secret.\n",
      "\n",
      "in a groundbreaking 1976 paper, whitfield diffie and martin hellman proposed the notion of public-key (also, more generally, called asymmetric key) cryptography in which two different but mathematically related keys are used a public key and a private key. a public key system is so constructed that calculation of one key (the 'private key') is computationally infeasible from the other (the 'public key'), even though they are necessarily related. instead, both keys are generated secretly, as an interrelated pair. the historian david kahn described public-key cryptography as \"the most revolutionary new concept in the field since polyalphabetic substitution emerged in the renaissance\".in public-key cryptosystems, the public key may be freely distributed, while its paired private key must remain secret. in a public-key encryption system, the public key is used for encryption, while the private or secret key is used for decryption. while diffie and hellman could not find such a system, they showed that public-key cryptography was indeed possible by presenting the diffie hellman key exchange protocol, a solution that is now widely used in secure communications to allow two parties to secretly agree on a shared encryption key. \n",
      "the x.509 standard defines the most commonly used format for public key certificates.diffie and hellman's publication sparked widespread academic efforts in finding a practical public-key encryption system. this race was finally won in 1978 by ronald rivest, adi shamir, and len adleman, whose solution has since become known as the rsa algorithm.the diffie hellman and rsa algorithms, in addition to being the first publicly known examples of high quality public-key algorithms, have been among the most widely used. other asymmetric-key algorithms include the cramer shoup cryptosystem, elgamal encryption, and various elliptic curve techniques.a document published in 1997 by the government communications headquarters (gchq), a british intelligence organization, revealed that cryptographers at gchq had anticipated several academic developments. reportedly, around 1970, james h. ellis had conceived the principles of asymmetric key cryptography. in 1973, clifford cocks invented a solution that very similar in design rationale to rsa. and in 1974, malcolm j. williamson is claimed to have developed the diffie hellman key exchange.\n",
      "\n",
      "public-key cryptography is also used for implementing digital signature schemes. a digital signature is reminiscent of an ordinary signature; they both have the characteristic of being easy for a user to produce, but difficult for anyone else to forge. digital signatures can also be permanently tied to the content of the message being signed; they cannot then be 'moved' from one document to another, for any attempt will be detectable. in digital signature schemes, there are two algorithms: one for signing, in which a secret key is used to process the message (or a hash of the message, or both), and one for verification, in which the matching public key is used with the message to check the validity of the signature. rsa and dsa are two of the most popular digital signature schemes. digital signatures are central to the operation of public key infrastructures and many network security schemes (e.g., ssl/tls, many vpns, etc.).public-key algorithms are most often based on the computational complexity of \"hard\" problems, often from number theory. for example, the hardness of rsa is related to the integer factorization problem, while diffie hellman and dsa are related to the discrete logarithm problem. the security of elliptic curve cryptography is based on number theoretic problems involving elliptic curves. because of the difficulty of the underlying problems, most public-key algorithms involve operations such as modular multiplication and exponentiation, which are much more computationally expensive than the techniques used in most block ciphers, especially with typical key sizes. as a result, public-key cryptosystems are commonly hybrid cryptosystems, in which a fast high-quality symmetric-key encryption algorithm is used for the message itself, while the relevant symmetric key is sent with the message, but encrypted using a public-key algorithm. similarly, hybrid signature schemes are often used, in which a cryptographic hash function is computed, and only the resulting hash is digitally signed.\n",
      "\n",
      "\n",
      "=== cryptanalysis ===\n",
      "\n",
      "the goal of cryptanalysis is to find some weakness or insecurity in a cryptographic scheme, thus permitting its subversion or evasion.\n",
      "it is a common misconception that every encryption method can be broken. in connection with his wwii work at bell labs, claude shannon proved that the one-time pad cipher is unbreakable, provided the key material is truly random, never reused, kept secret from all possible attackers, and of equal or greater length than the message. most ciphers, apart from the one-time pad, can be broken with enough computational effort by brute force attack, but the amount of effort needed may be exponentially dependent on the key size, as compared to the effort needed to make use of the cipher. in such cases, effective security could be achieved if it is proven that the effort required (i.e., \"work factor\", in shannon's terms) is beyond the ability of any adversary. this means it must be shown that no efficient method (as opposed to the time-consuming brute force method) can be found to break the cipher. since no such proof has been found to date, the one-time-pad remains the only theoretically unbreakable cipher.\n",
      "there are a wide variety of cryptanalytic attacks, and they can be classified in any of several ways. a common distinction turns on what eve (an attacker) knows and what capabilities are available. in a ciphertext-only attack, eve has access only to the ciphertext (good modern cryptosystems are usually effectively immune to ciphertext-only attacks). in a known-plaintext attack, eve has access to a ciphertext and its corresponding plaintext (or to many such pairs). in a chosen-plaintext attack, eve may choose a plaintext and learn its corresponding ciphertext (perhaps many times); an example is gardening, used by the british during wwii. in a chosen-ciphertext attack, eve may be able to choose ciphertexts and learn their corresponding plaintexts. finally in a man-in-the-middle attack eve gets in between alice (the sender) and bob (the recipient), accesses and modifies the traffic and then forwards it to the recipient. also important, often overwhelmingly so, are mistakes (generally in the design or use of one of the protocols involved).\n",
      "\n",
      "cryptanalysis of symmetric-key ciphers typically involves looking for attacks against the block ciphers or stream ciphers that are more efficient than any attack that could be against a perfect cipher. for example, a simple brute force attack against des requires one known plaintext and 255 decryptions, trying approximately half of the possible keys, to reach a point at which chances are better than even that the key sought will have been found. but this may not be enough assurance; a linear cryptanalysis attack against des requires 243 known plaintexts (with their corresponding ciphertexts) and approximately 243 des operations. this is a considerable improvement over brute force attacks.\n",
      "public-key algorithms are based on the computational difficulty of various problems. the most famous of these are the difficulty of integer factorization of semiprimes and the difficulty of calculating discrete logarithms, both of which are not yet proven to be solvable in polynomial time using only a classical turing-complete computer. much public-key cryptanalysis concerns designing algorithms in p that can solve these problems, or using other technologies, such as quantum computers. for instance, the best known algorithms for solving the elliptic curve-based version of discrete logarithm are much more time-consuming than the best known algorithms for factoring, at least for problems of more or less equivalent size. thus, other things being equal, to achieve an equivalent strength of attack resistance, factoring-based encryption techniques must use larger keys than elliptic curve techniques. for this reason, public-key cryptosystems based on elliptic curves have become popular since their invention in the mid-1990s.\n",
      "while pure cryptanalysis uses weaknesses in the algorithms themselves, other attacks on cryptosystems are based on actual use of the algorithms in real devices, and are called side-channel attacks. if a cryptanalyst has access to, for example, the amount of time the device took to encrypt a number of plaintexts or report an error in a password or pin character, he may be able to use a timing attack to break a cipher that is otherwise resistant to analysis. an attacker might also study the pattern and length of messages to derive valuable information; this is known as traffic analysis and can be quite useful to an alert adversary. poor administration of a cryptosystem, such as permitting too short keys, will make any system vulnerable, regardless of other virtues. social engineering and other attacks against humans (e.g., bribery, extortion, blackmail, espionage, torture, ...) are usually employed due to being more cost-effective and feasible to perform in a reasonable amount of time compared to pure cryptanalysis by a high margin.\n",
      "\n",
      "\n",
      "=== cryptographic primitives ===\n",
      "much of the theoretical work in cryptography concerns cryptographic primitives algorithms with basic cryptographic properties and their relationship to other cryptographic problems. more complicated cryptographic tools are then built from these basic primitives. these primitives provide fundamental properties, which are used to develop more complex tools called cryptosystems or cryptographic protocols, which guarantee one or more high-level security properties. note however, that the distinction between cryptographic primitives and cryptosystems, is quite arbitrary; for example, the rsa algorithm is sometimes considered a cryptosystem, and sometimes a primitive. typical examples of cryptographic primitives include pseudorandom functions, one-way functions, etc.\n",
      "\n",
      "\n",
      "=== cryptosystems ===\n",
      "one or more cryptographic primitives are often used to develop a more complex algorithm, called a cryptographic system, or cryptosystem. cryptosystems (e.g., el-gamal encryption) are designed to provide particular functionality (e.g., public key encryption) while guaranteeing certain security properties (e.g., chosen-plaintext attack (cpa) security in the random oracle model). cryptosystems use the properties of the underlying cryptographic primitives to support the system's security properties. as the distinction between primitives and cryptosystems is somewhat arbitrary, a sophisticated cryptosystem can be derived from a combination of several more primitive cryptosystems. in many cases, the cryptosystem's structure involves back and forth communication among two or more parties in space (e.g., between the sender of a secure message and its receiver) or across time (e.g., cryptographically protected backup data). such cryptosystems are sometimes called cryptographic protocols.\n",
      "some widely known cryptosystems include rsa encryption, schnorr signature, el-gamal encryption, pgp, etc. more complex cryptosystems include electronic cash systems, signcryption systems, etc. some more 'theoretical' cryptosystems include interactive proof systems, (like zero-knowledge proofs), systems for secret sharing, etc.\n",
      "\n",
      "\n",
      "== legal issues ==\n",
      "\n",
      "\n",
      "=== prohibitions ===\n",
      "cryptography has long been of interest to intelligence gathering and law enforcement agencies. secret communications may be criminal or even treasonous. because of its facilitation of privacy, and the diminution of privacy attendant on its prohibition, cryptography is also of considerable interest to civil rights supporters. accordingly, there has been a history of controversial legal issues surrounding cryptography, especially since the advent of inexpensive computers has made widespread access to high quality cryptography possible.\n",
      "in some countries, even the domestic use of cryptography is, or has been, restricted. until 1999, france significantly restricted the use of cryptography domestically, though it has since relaxed many of these rules. in china and iran, a license is still required to use cryptography. many countries have tight restrictions on the use of cryptography. among the more restrictive are laws in belarus, kazakhstan, mongolia, pakistan, singapore, tunisia, and vietnam.in the united states, cryptography is legal for domestic use, but there has been much conflict over legal issues related to cryptography. one particularly important issue has been the export of cryptography and cryptographic software and hardware. probably because of the importance of cryptanalysis in world war ii and an expectation that cryptography would continue to be important for national security, many western governments have, at some point, strictly regulated export of cryptography. after world war ii, it was illegal in the us to sell or distribute encryption technology overseas; in fact, encryption was designated as auxiliary military equipment and put on the united states munitions list. until the development of the personal computer, asymmetric key algorithms (i.e., public key techniques), and the internet, this was not especially problematic. however, as the internet grew and computers became more widely available, high-quality encryption techniques became well known around the globe.\n",
      "\n",
      "\n",
      "=== export controls ===\n",
      "\n",
      "in the 1990s, there were several challenges to us export regulation of cryptography. after the source code for philip zimmermann's pretty good privacy (pgp) encryption program found its way onto the internet in june 1991, a complaint by rsa security (then called rsa data security, inc.) resulted in a lengthy criminal investigation of zimmermann by the us customs service and the fbi, though no charges were ever filed. daniel j. bernstein, then a graduate student at uc berkeley, brought a lawsuit against the us government challenging some aspects of the restrictions based on free speech grounds. the 1995 case bernstein v. united states ultimately resulted in a 1999 decision that printed source code for cryptographic algorithms and systems was protected as free speech by the united states constitution.in 1996, thirty-nine countries signed the wassenaar arrangement, an arms control treaty that deals with the export of arms and \"dual-use\" technologies such as cryptography. the treaty stipulated that the use of cryptography with short key-lengths (56-bit for symmetric encryption, 512-bit for rsa) would no longer be export-controlled. cryptography exports from the us became less strictly regulated as a consequence of a major relaxation in 2000; there are no longer very many restrictions on key sizes in us-exported mass-market software. since this relaxation in us export restrictions, and because most personal computers connected to the internet include us-sourced web browsers such as firefox or internet explorer, almost every internet user worldwide has potential access to quality cryptography via their browsers (e.g., via transport layer security). the mozilla thunderbird and microsoft outlook e-mail client programs similarly can transmit and receive emails via tls, and can send and receive email encrypted with s/mime. many internet users don't realize that their basic application software contains such extensive cryptosystems. these browsers and email programs are so ubiquitous that even governments whose intent is to regulate civilian use of cryptography generally don't find it practical to do much to control distribution or use of cryptography of this quality, so even when such laws are in force, actual enforcement is often effectively impossible.\n",
      "\n",
      "\n",
      "=== nsa involvement ===\n",
      "\n",
      "another contentious issue connected to cryptography in the united states is the influence of the national security agency on cipher development and policy. the nsa was involved with the design of des during its development at ibm and its consideration by the national bureau of standards as a possible federal standard for cryptography. des was designed to be resistant to differential cryptanalysis, a powerful and general cryptanalytic technique known to the nsa and ibm, that became publicly known only when it was rediscovered in the late 1980s. according to steven levy, ibm discovered differential cryptanalysis, but kept the technique secret at the nsa's request. the technique became publicly known only when biham and shamir re-discovered and announced it some years later. the entire affair illustrates the difficulty of determining what resources and knowledge an attacker might actually have.\n",
      "another instance of the nsa's involvement was the 1993 clipper chip affair, an encryption microchip intended to be part of the capstone cryptography-control initiative. clipper was widely criticized by cryptographers for two reasons. the cipher algorithm (called skipjack) was then classified (declassified in 1998, long after the clipper initiative lapsed). the classified cipher caused concerns that the nsa had deliberately made the cipher weak in order to assist its intelligence efforts. the whole initiative was also criticized based on its violation of kerckhoffs's principle, as the scheme included a special escrow key held by the government for use by law enforcement (i.e. wiretapping).\n",
      "\n",
      "\n",
      "=== digital rights management ===\n",
      "\n",
      "cryptography is central to digital rights management (drm), a group of techniques for technologically controlling use of copyrighted material, being widely implemented and deployed at the behest of some copyright holders. in 1998, u.s. president bill clinton signed the digital millennium copyright act (dmca), which criminalized all production, dissemination, and use of certain cryptanalytic techniques and technology (now known or later discovered); specifically, those that could be used to circumvent drm technological schemes. this had a noticeable impact on the cryptography research community since an argument can be made that any cryptanalytic research violated the dmca. similar statutes have since been enacted in several countries and regions, including the implementation in the eu copyright directive. similar restrictions are called for by treaties signed by world intellectual property organization member-states.\n",
      "the united states department of justice and fbi have not enforced the dmca as rigorously as had been feared by some, but the law, nonetheless, remains a controversial one. niels ferguson, a well-respected cryptography researcher, has publicly stated that he will not release some of his research into an intel security design for fear of prosecution under the dmca. cryptologist bruce schneier has argued that the dmca encourages vendor lock-in, while inhibiting actual measures toward cyber-security. both alan cox (longtime linux kernel developer) and edward felten (and some of his students at princeton) have encountered problems related to the act. dmitry sklyarov was arrested during a visit to the us from russia, and jailed for five months pending trial for alleged violations of the dmca arising from work he had done in russia, where the work was legal. in 2007, the cryptographic keys responsible for blu-ray and hd dvd content scrambling were discovered and released onto the internet. in both cases, the motion picture association of america sent out numerous dmca takedown notices, and there was a massive internet backlash triggered by the perceived impact of such notices on fair use and free speech.\n",
      "\n",
      "\n",
      "=== forced disclosure of encryption keys ===\n",
      "\n",
      "in the united kingdom, the regulation of investigatory powers act gives uk police the powers to force suspects to decrypt files or hand over passwords that protect encryption keys. failure to comply is an offense in its own right, punishable on conviction by a two-year jail sentence or up to five years in cases involving national security. successful prosecutions have occurred under the act; the first, in 2009, resulted in a term of 13 months' imprisonment. similar forced disclosure laws in australia, finland, france, and india compel individual suspects under investigation to hand over encryption keys or passwords during a criminal investigation.\n",
      "in the united states, the federal criminal case of united states v. fricosu addressed whether a search warrant can compel a person to reveal an encryption passphrase or password. the electronic frontier foundation (eff) argued that this is a violation of the protection from self-incrimination given by the fifth amendment. in 2012, the court ruled that under the all writs act, the defendant was required to produce an unencrypted hard drive for the court.in many jurisdictions, the legal status of forced disclosure remains unclear.\n",
      "the 2016 fbi apple encryption dispute concerns the ability of courts in the united states to compel manufacturers' assistance in unlocking cell phones whose contents are cryptographically protected.\n",
      "as a potential counter-measure to forced disclosure some cryptographic software supports plausible deniability, where the encrypted data is indistinguishable from unused random data (for example such as that of a drive which has been securely wiped).\n",
      "\n",
      "\n",
      "== see also ==\n",
      "outline of cryptography   overview of and topical guide to cryptography\n",
      "list of cryptographers   wikipedia list article\n",
      "list of important publications in cryptography   wikipedia list article\n",
      "list of multiple discoveries   wikipedia list article\n",
      "list of unsolved problems in computer science   wikipedia list article\n",
      "syllabical and steganographical table   eighteenth-century work believed to be the first cryptography chart   first cryptography chart\n",
      "comparison of cryptography libraries\n",
      "crypto wars\n",
      "encyclopedia of cryptography and security   book by technische universiteit eindhoven\n",
      "global surveillance   mass surveillance across national borders\n",
      "information theory   theory dealing with information\n",
      "strong cryptography\n",
      "world wide web consortium's web cryptography api\n",
      "collision attack\n",
      "\n",
      "\n",
      "== references ==\n",
      "\n",
      "\n",
      "== further reading ==\n",
      "\n",
      "\n",
      "== external links ==\n",
      " the dictionary definition of cryptography at wiktionary\n",
      " media related to cryptography at wikimedia commons\n",
      "cryptography on in our time at the bbc\n",
      "crypto glossary and dictionary of technical cryptography\n",
      "nsa's cryptokids.\n",
      "overview and applications of cryptology by the cryptool team; pdf; 3.8 mb. july 2008\n",
      "a course in cryptography by raphael pass & abhi shelat   offered at cornell in the form of lecture notes.\n",
      "for more on the use of cryptographic elements in fiction, see: dooley, john f., william and marilyn ingersoll professor of computer science, knox college (23 august 2012). \"cryptology in fiction\".\n",
      "the george fabyan collection at the library of congress has early editions of works of seventeenth-century english literature, publications relating to cryptography.\n"
     ]
    }
   ],
   "source": [
    "#print(file_content)\r\n",
    "\r\n",
    "\r\n",
    "with open(\"ciphertext_caesar.txt\", 'r', encoding=\"utf8\") as file:\r\n",
    "    file_line = file.read()\r\n",
    "    shift = 12\r\n",
    "    new_file = \"\"\r\n",
    "    for letter in file_line:\r\n",
    "        if ord(letter) >= 97 and (ord(letter) + shift > 122):\r\n",
    "            new_file += chr(ord(letter)+shift-26)\r\n",
    "        elif ord(letter) >= 97 and (ord(letter) + shift <= 122):\r\n",
    "            new_file += chr(ord(letter)+shift)\r\n",
    "        else: \r\n",
    "            new_file += letter\r\n",
    "\r\n",
    "print(new_file)\r\n",
    "\r\n",
    "        "
   ]
  }
 ],
 "metadata": {
  "kernelspec": {
   "display_name": "Python 3.8.5 64-bit ('eads': conda)",
   "metadata": {
    "interpreter": {
     "hash": "d17ca3fd1502c24ababaf0ced00c555b21847e5180bffa0375382250777d1da9"
    }
   },
   "name": "python3"
  },
  "language_info": {
   "codemirror_mode": {
    "name": "ipython",
    "version": 3
   },
   "file_extension": ".py",
   "mimetype": "text/x-python",
   "name": "python",
   "nbconvert_exporter": "python",
   "pygments_lexer": "ipython3",
   "version": "3.8.5-final"
  },
  "orig_nbformat": 2
 },
 "nbformat": 4,
 "nbformat_minor": 2
}