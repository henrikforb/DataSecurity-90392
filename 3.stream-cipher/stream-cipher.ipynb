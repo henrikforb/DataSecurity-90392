{
 "cells": [
  {
   "cell_type": "markdown",
   "metadata": {
    "Collapsed": "false",
    "toc-hr-collapsed": false
   },
   "source": [
    "# Stream Cipher"
   ]
  },
  {
   "cell_type": "markdown",
   "metadata": {
    "Collapsed": "false"
   },
   "source": [
    "A stream cipher is a symmetric key cipher where the plaintext is encrypted one digit at a time. Encryption is achieved by xoring the plaintext with a stream of pseudorandom digits obtained as an expansion of the key.\n",
    "\n",
    "![stream-cipher](stream-cipher.png)"
   ]
  },
  {
   "cell_type": "code",
   "execution_count": null,
   "metadata": {
    "Collapsed": "false"
   },
   "outputs": [],
   "source": [
    "# use the class Bits of the third-part library bitstring\n",
    "# for the conversion from string to bit-stream\n",
    "from bitstring import Bits\n",
    "# use an LFSR as pseudo random number generator (PRNG)\n",
    "from lfsr import LFSR\n",
    "\n",
    "# message that Alice sends to Bob\n",
    "message = 'hello world!'\n",
    "\n",
    "# define two PRNG initialized with the same key\n",
    "poly, key = [64, 4, 3, 1, 0], 0x0123456789ABCDEF\n",
    "prngA = LFSR(poly, state=key) # Alice\n",
    "prngB = LFSR(poly, state=key) # Bob\n",
    "\n",
    "# convert message to bits\n",
    "plaintextA = Bits(bytes=bytes(message, 'utf-8'))\n",
    "# message encryption\n",
    "ciphertext = Bits([b^s for b, s in zip(plaintextA, prngA)])\n",
    "# message decryption\n",
    "plaintextB = Bits([e^s for e, s in zip(ciphertext, prngB)])\n",
    "\n",
    "# print\n",
    "print_text = lambda b: '0x{} \"{}\"'.format(\n",
    "    b.hex, b.bytes.decode('utf-8', 'replace'))\n",
    "print('plaintextA:', print_text(plaintextA))\n",
    "print('ciphertext:', print_text(ciphertext))\n",
    "print('plaintextB:', print_text(plaintextB))\n",
    "        "
   ]
  },
  {
   "cell_type": "markdown",
   "metadata": {
    "Collapsed": "false"
   },
   "source": [
    "## Task1: Stream Cipher"
   ]
  },
  {
   "cell_type": "markdown",
   "metadata": {
    "Collapsed": "false"
   },
   "source": [
    "> Define an object representing a Stream Cipher that, given a PRNG and a key, is able to encrypt and decrypt a message one bit at a time."
   ]
  },
  {
   "cell_type": "markdown",
   "metadata": {
    "Collapsed": "false"
   },
   "source": [
    "**Inputs**:\n",
    "- **key**: `int` representing the shared secret key.\n",
    "- **PRNG**: (optional, default None) Iterator implementing a PRNG that produce a pseudorandom bit stream starting from an initial seed. If None an LFSR is used as PRNG.\n",
    "\n",
    "**Methods**:\n",
    "- `encrypt`: encrypts a plaintext (`str` or `bytes`) and returns the corresponding cyphertext (`bytes`);\n",
    "- `decrypt`: decrypts a cypertext (`str` or `bytes`) and returns the corresponding plaintext (`bytes`);\n",
    "\n",
    "**Template**:\n",
    "```python\n",
    "class StreamCipher(object):\n",
    "    ''' class docstring '''\n",
    "\n",
    "    def __init__(self, key, prng=None):\n",
    "        ''' constructor docstring '''\n",
    "        # do stuff\n",
    "        self.prng = ... \n",
    "\n",
    "    def encrypt(self, plaintext): \n",
    "        # do stuff\n",
    "        return ciphertext\n",
    "\n",
    "    def decrypt(self, ciphertext):\n",
    "        # do stuff\n",
    "        return plaintext\n",
    "```"
   ]
  },
  {
   "cell_type": "code",
   "execution_count": null,
   "metadata": {
    "Collapsed": "false"
   },
   "outputs": [],
   "source": [
    "class StreamCipher(object):\n",
    "    '''\n",
    "    Stream cipher.\n",
    "\n",
    "    Methods\n",
    "    -------\n",
    "    encrypt(self, plaintext):\n",
    "        encrypt a plaintext\n",
    "    decrypt(self, ciphertext): \n",
    "        decrypt a ciphertext\n",
    "    '''\n",
    "    def __init__(self, key, prng=None, **kwargs):        \n",
    "        '''\n",
    "        Parameters\n",
    "        ----------\n",
    "        key: int,\n",
    "            secret key for PRNG initialization\n",
    "        prng: class, optional (default None),\n",
    "            pseudo-random-number-generator (PRNG) for the generation of\n",
    "            the random bit-stream used for encryption and decryption\n",
    "        kwargs: dict,\n",
    "            keyword arguments for `prng`\n",
    "        '''\n",
    "        if prng is None:\n",
    "            poly = [64, 4, 3, 1, 0]\n",
    "            state = key if key > 0 else None\n",
    "            self.prng = LFSR(poly, state=state)\n",
    "        else:\n",
    "            self.prng = prng(key, **kwargs)\n",
    "        \n",
    "    def encrypt(self, plaintext):\n",
    "        '''encrypt a `plaintext` (str, bytes, bitstring.Bits) and \n",
    "        return the corresponding cyphertext (bytes) '''\n",
    "        return self._crypt(plaintext)\n",
    "    \n",
    "    def decrypt(self, ciphertext):\n",
    "        ''' decrypt a `cypertext` (str, bytes, bitstring.Bits) and \n",
    "        return the corresponding plaintext (bytes) '''\n",
    "        return self._crypt(ciphertext)\n",
    "    \n",
    "    def _crypt(self, text):\n",
    "        if isinstance(text, Bits):\n",
    "            bits = text\n",
    "        if isinstance(text, bytes):\n",
    "            bits = Bits(bytes=text)\n",
    "        elif isinstance(text, str):\n",
    "            bits = Bits(bytes=text.encode('utf-8'))\n",
    "        else:\n",
    "            raise TypeError('input type is not supported')\n",
    "        return Bits([b^s for b, s in zip(bits, self.prng)]).bytes\n",
    "        "
   ]
  },
  {
   "cell_type": "code",
   "execution_count": null,
   "metadata": {
    "Collapsed": "false"
   },
   "outputs": [],
   "source": [
    "message = 'hello world!'\n",
    "key = 0x0123456789ABCDEF \n",
    "\n",
    "# define a function that create an instance of an LFSR\n",
    "prng = lambda key: LFSR([64, 4, 3, 1, 0], state=key)\n",
    "\n",
    "# create a StreamCipher instance for both Alice and Bob\n",
    "alice = StreamCipher(key, prng=prng) \n",
    "bob   = StreamCipher(key, prng=prng)\n",
    "\n",
    "plaintextA = message.encode('utf-8')   # string to bytes \n",
    "ciphertext = alice.encrypt(plaintextA) # encryption by Alice\n",
    "plaintextB = bob.decrypt(ciphertext)   # decryption by Bob\n",
    "\n",
    "print(plaintextA) # -> b'hello world!' \n",
    "print(ciphertext) # -> b'\\x87\\x02\\xc7O\\xa2e\\xfen\\x14\\xfb\\xafv' \n",
    "print(plaintextB) # -> b'hello world!' \n"
   ]
  },
  {
   "cell_type": "markdown",
   "metadata": {
    "Collapsed": "false"
   },
   "source": [
    "## Task2: A5/1"
   ]
  },
  {
   "cell_type": "markdown",
   "metadata": {
    "Collapsed": "false"
   },
   "source": [
    "> Define an iterator that implements a PRNG based on the A5/1 architecture and use it in a `StreamCipher` instance to encrypt/decrypt a message."
   ]
  },
  {
   "cell_type": "markdown",
   "metadata": {
    "Collapsed": "false"
   },
   "source": [
    "A5/1 is a stream cipher used to provide privacy in the GSM cellular telephone standard.\n",
    "\n",
    "It is based on a combination of three LFSRs with irregular clocking. At each cycle, the clocking bit of all three registers is examined and the majority bit is determined. A register is clocked if the clocking bit agrees with the majority bit.\n",
    "\n",
    "| LFSR | length | &nbsp; &nbsp; Feedback Polynomial &nbsp; &nbsp; | clocking bit |\n",
    "|:----:|:------:|:-----------------------------------------------:|:------------:|\n",
    "|   1  |   19   |      \\\\( x^{19}+x^{18}+x^{17}+x^{14}+1 \\\\)      |      10      |\n",
    "|   2  |   22   |      \\\\(               x^{22}+x^{21}+1 \\\\)      |      11      |\n",
    "|   3  |   23   |      \\\\(    x^{23}+x^{22}+x^{21}+x^8+1 \\\\)      |      12      |\n",
    "\n",
    "![A5/1](A5_1.png)\n",
    "\n",
    "\n",
    "**Initialization**\n",
    "\n",
    "A5/1 is initialised using a 64-bit private key together with a publicly known 22-bit frame number.\n",
    "- Initially, the registers are set to zero. \n",
    "- The 64-bit secret key is mixed: in cycle $i$ (with 0≤$i$<64), the $i$-th key bit is added to the most significant bit of each register using XOR.\n",
    "- Similarly, the 22-bits frame number is added in 22 cycles.\n",
    "\n",
    "Then, the cipher is clocked using the normal majority clocking mechanism for 100 cycles, with the output discarded.\n",
    "\n",
    "Finally, the cipher is ready to produce two 114 bit sequences of output keystream, first 114 for downlink, last 114 for uplink."
   ]
  },
  {
   "cell_type": "code",
   "execution_count": null,
   "metadata": {
    "Collapsed": "false"
   },
   "outputs": [],
   "source": [
    "from functools import reduce\n",
    "from operator import xor\n",
    "\n",
    "from lfsr import LFSR, reverse"
   ]
  },
  {
   "cell_type": "code",
   "execution_count": null,
   "metadata": {
    "Collapsed": "false"
   },
   "outputs": [],
   "source": [
    "\n",
    "class A5_1(object):\n",
    "    '''\n",
    "    A5/1 stream cipher.\n",
    "    \n",
    "    Attributes\n",
    "    ----------\n",
    "    output: bool,\n",
    "        stream cipher output bit.\n",
    "    LFSRs: lfsr.LFSR,\n",
    "        linear feedback shift registers that compose the A5/1 stream cipher\n",
    "    majority: bool,\n",
    "        majority bit\n",
    "    '''\n",
    "    \n",
    "    def __init__(self, key, frame=0, verbose=False):\n",
    "        '''\n",
    "        key: int, list/string of 0/1, bytes, \n",
    "            64-bit key, bytes are considered little endian.\n",
    "        frame: int or list/string of 0/1, \n",
    "            22-bit frame\n",
    "        '''\n",
    "        key_length = 64\n",
    "        frame_length = 22\n",
    "        polys = [\n",
    "            [19, 18, 17, 14, 0],\n",
    "            [22, 21, 0],\n",
    "            [23, 22, 21, 8, 0],\n",
    "        ]\n",
    "                \n",
    "        if isinstance(key, (bytes, bytearray)):\n",
    "            key = int.from_bytes(key, byteorder='little')#wrong\n",
    "        if isinstance(key, int):\n",
    "            key_str = '{:0{}b}'.format(\n",
    "                key & ((1 << key_length)-1), key_length)[::-1]\n",
    "            key = [bool(int(b)) for b in key_str]\n",
    "        elif (not hasattr(key, '__iter__')) \\\n",
    "            or (not len(key) == key_length) \\\n",
    "            or (not all(int(b) in (0, 1) for b in key)):\n",
    "            raise TypeError('input type is not supported')\n",
    "            \n",
    "        if type(frame) is int:\n",
    "            frame_string = '{:0{}b}'.format(\n",
    "                frame & ((1 << frame_length)-1), frame_length)[::-1]\n",
    "            frame = [bool(int(b)) for b in frame_string]\n",
    "        elif (not hasattr(frame, '__iter__')) \\\n",
    "            or (not len(frame) == frame_length) \\\n",
    "            or (not all(int(b) in (0, 1) for b in frame)):\n",
    "            raise TypeError('input type is not supported')\n",
    "        \n",
    "        self.vebose = verbose\n",
    "        self._LFSRs = [LFSR(poly, state=0) for poly in polys]\n",
    "        self._ckbits = [10, 11, 12]\n",
    "        self._output = self._compute_output()\n",
    "        self._majority = self._compute_majority()\n",
    "        self._count = 0\n",
    "        \n",
    "            \n",
    "        # LFSRs initialization\n",
    "        if verbose: \n",
    "            header = ' iter  LFSR1  LFSR2  LFSR3 maj out'\n",
    "            print('--- key insertion ----')\n",
    "            print(''.join([str(int(b)) for b in key]))\n",
    "            print(header)\n",
    "        for bit in key:\n",
    "            self._insert_bit(bit)\n",
    "        self._count = 0\n",
    "            \n",
    "        if verbose: \n",
    "            print('--- frame insertion ----')\n",
    "            print(''.join([str(int(b)) for b in frame]))\n",
    "            print(header)\n",
    "        for bit in frame:\n",
    "            self._insert_bit(bit)\n",
    "        self._count = 0\n",
    "            \n",
    "        if verbose: print('--- key mixing ----')\n",
    "        if verbose: print(header)\n",
    "        for _ in range(100): \n",
    "            next(self)\n",
    "        self._count = 0\n",
    "            \n",
    "        if verbose: print('--- stream cipher ----')\n",
    "        if verbose: print(header)\n",
    "            \n",
    "\n",
    "    @property\n",
    "    def LFSRs(self):\n",
    "        return self._LFSRs\n",
    "    \n",
    "    @LFSRs.setter\n",
    "    def LFSRs(self, val):\n",
    "        raise AttributeError('Denied')\n",
    "\n",
    "    @property\n",
    "    def output(self):\n",
    "        return self._output\n",
    "    \n",
    "    @output.setter\n",
    "    def output(self, val):\n",
    "        raise AttributeError('Denied')\n",
    "\n",
    "    @property\n",
    "    def majority(self):\n",
    "        return self._majority\n",
    "    \n",
    "    @majority.setter\n",
    "    def majority(self, val):\n",
    "        raise AttributeError('Denied')\n",
    "        \n",
    "    def __iter__(self):\n",
    "        return self\n",
    "        \n",
    "    def __next__(self):\n",
    "        ''' clock stream cipher and returns the outputbit '''\n",
    "        # clock LFSR_i if ckbit_i is equal to majority bit\n",
    "        for lfsr, ckbit in zip(self.LFSRs, self._ckbits):\n",
    "            if bool(lfsr.state & (1 << ckbit)) == self._majority:\n",
    "                next(lfsr)\n",
    "        # update output and majority bit\n",
    "        self._output = self._compute_output()\n",
    "        self._majority = self._compute_majority()\n",
    "        self._count += 1\n",
    "        self._log()\n",
    "        \n",
    "        return self._output  \n",
    "    \n",
    "    def _insert_bit(self, bit):\n",
    "        ''' Insert `bit` (bool) in each LFSR '''\n",
    "        # every LFSR is clocked independently from majority bit\n",
    "        for lfsr in self.LFSRs:\n",
    "            lfsr.feedback ^= bit\n",
    "            next(lfsr)\n",
    "        # update output and majority bit\n",
    "        self._output = self._compute_output()\n",
    "        self._majority = self._compute_majority()\n",
    "        self._count += 1\n",
    "        self._log()\n",
    "        \n",
    "    def _compute_majority(self):\n",
    "        ''' Compute majority bit '''\n",
    "        # get the values of ckbits for each LFSR\n",
    "        bits = [bool(lfsr.state & (1 << bit))\n",
    "               for lfsr, bit in zip(self.LFSRs, self._ckbits)]\n",
    "        # compute majority\n",
    "        majority = sum(bits) > (len(bits)//2)\n",
    "        return majority\n",
    "        \n",
    "    def _compute_output(self):\n",
    "        ''' Compute output bit '''\n",
    "        output = reduce(xor, [lfsr.output for lfsr in self.LFSRs])\n",
    "        return output\n",
    "    \n",
    "    def __str__(self):\n",
    "        _str = 'state: ({}), majority: {}, output: {}'.format(\n",
    "            ', '.join(['0x{:0{}x}'.format(lfsr.state, 1+len(lfsr)//4) \n",
    "                       for lfsr in self.LFSRs]),\n",
    "            int(self._majority),\n",
    "            int(self._output),\n",
    "        )\n",
    "        return _str\n",
    "        \n",
    "    def __repr__(self):\n",
    "        return 'A5/1({})'.format(self.__str__())\n",
    "    \n",
    "    def _log(self):\n",
    "        if self.vebose:\n",
    "            print(' {:4d}  {}  {}   {}'.format(\n",
    "                self._count,\n",
    "                ' '.join(['{:0{}x}'.format(\n",
    "                            lfsr.state, #reverse(lfsr.state, len(lfsr)), \n",
    "                            1+len(lfsr)//4)\n",
    "                          for lfsr in self.LFSRs]),\n",
    "                int(self._majority),\n",
    "                int(self._output),\n",
    "            ))\n",
    "        "
   ]
  },
  {
   "cell_type": "code",
   "execution_count": null,
   "metadata": {
    "Collapsed": "false"
   },
   "outputs": [],
   "source": [
    "key, frame = 0x0123456789ABCDEF, 0x2F695A # my key\n",
    "a51 = A5_1(key, frame=frame, verbose=True)"
   ]
  },
  {
   "cell_type": "code",
   "execution_count": null,
   "metadata": {
    "Collapsed": "false"
   },
   "outputs": [],
   "source": [
    "message = 'hello world!'\n",
    "key, frame = 0x0123456789ABCDEF, 0x2F695A # my key\n",
    "\n",
    "# create a StreamCipher instance for both Alice and Bob\n",
    "alice = StreamCipher(key, prng=A5_1, frame=frame)\n",
    "bob = StreamCipher(key, prng=A5_1, frame=frame)\n",
    "\n",
    "plaintextA = message.encode('utf-8')\n",
    "ciphertext = alice.encrypt(plaintextA)\n",
    "plaintextB = bob.decrypt(ciphertext)\n",
    "print('plaintextA:', plaintextA, plaintextA.decode('utf-8', 'replace'))\n",
    "print('ciphertext:', ciphertext, ciphertext.decode('utf-8', 'replace'))\n",
    "print('plaintextB:', plaintextB, plaintextB.decode('utf-8', 'replace'))"
   ]
  },
  {
   "cell_type": "markdown",
   "metadata": {
    "Collapsed": "false"
   },
   "source": [
    "## Task3: Stream Cipher (2)"
   ]
  },
  {
   "cell_type": "markdown",
   "metadata": {
    "Collapsed": "false"
   },
   "source": [
    "> Add to the `StreamCipher` class the possibility to encrypt/decrypt a message using bytes as digits instead of bits."
   ]
  },
  {
   "cell_type": "markdown",
   "metadata": {
    "Collapsed": "false"
   },
   "source": [
    "**Inputs**:\n",
    "- **key**: `int` representing the shared secret key.\n",
    "- **PRNG**: (optional, default None) Iterator implementing a PRNG that produce a pseudorandom *digit* stream starting from an initial seed. *A digit can be either a bit or a byte depending on the value of the digit parameter*. If None an LFSR is used as PRNG.\n",
    "- **digit**: (optional, default \"bit\") `str` that determines the type of bigit: \"bit\" or \"byte\".\n",
    "\n",
    "**Methods**:\n",
    "- `encrypt`: encrypts a plaintext (`str` or `bytes`) and returns the corresponding cyphertext (`bytes`);\n",
    "- `decrypt`: decrypts a cypertext (`str` or `bytes`) and returns the corresponding plaintext (`bytes`);\n",
    "\n",
    "**Template**:\n",
    "```python\n",
    "class StreamCipher(object):\n",
    "    ''' class docstring '''\n",
    "\n",
    "    def __init__(self, key, prng=None, digit='bit'):\n",
    "        ''' constructor docstring '''\n",
    "        # do stuff\n",
    "        self.prng = ... \n",
    "\n",
    "    def encrypt(self, plaintext): \n",
    "        # do stuff\n",
    "        return ciphertext\n",
    "\n",
    "    def decrypt(self, ciphertext):\n",
    "        # do stuff\n",
    "        return plaintext\n",
    "```"
   ]
  },
  {
   "cell_type": "code",
   "execution_count": null,
   "metadata": {
    "Collapsed": "false"
   },
   "outputs": [],
   "source": [
    "# message that Alice sends to Bob\n",
    "message = 'hello world!'\n",
    "key = 0x0123456789ABCDEF\n",
    "\n",
    "# define a function that generate a random byte\n",
    "def prng(seed):\n",
    "    import random\n",
    "    _prng = random.Random(seed)\n",
    "    while True:\n",
    "        yield _prng.randint(0, 255)\n",
    "\n",
    "# define two PRNG initialized with the same key\n",
    "prngA = prng(key) # Alice\n",
    "prngB = prng(key) # Bob\n",
    "\n",
    "# convert message to bits\n",
    "plaintextA = bytes(message, 'utf-8')\n",
    "# message encryption\n",
    "ciphertext = bytes([b^s for b, s in zip(plaintextA, prngA)])\n",
    "# message decryption\n",
    "plaintextB = bytes([e^s for e, s in zip(ciphertext, prngB)])\n",
    "\n",
    "# print\n",
    "print_text = lambda B: '0x{} \"{}\"'.format(\n",
    "    int.from_bytes(B, byteorder='little'), B)\n",
    "print('plaintextA:', print_text(plaintextA))\n",
    "print('ciphertext:', print_text(ciphertext))\n",
    "print('plaintextB:', print_text(plaintextB))\n",
    "        "
   ]
  },
  {
   "cell_type": "code",
   "execution_count": null,
   "metadata": {
    "Collapsed": "false"
   },
   "outputs": [],
   "source": [
    "class StreamCipher(object):\n",
    "    '''\n",
    "    Stream cipher.\n",
    "\n",
    "    Methods\n",
    "    -------\n",
    "    encrypt(self, plaintext):\n",
    "        encrypt a plaintext\n",
    "    decrypt(self, ciphertext): \n",
    "        decrypt a ciphertext\n",
    "    '''\n",
    "    def __init__(self, key, prng=None, digit='bit', **kwargs):        \n",
    "        '''\n",
    "        Parameters\n",
    "        ----------\n",
    "        key: int,\n",
    "            secret key for PRNG initialization\n",
    "        prng: class, optional (default None),\n",
    "            pseudo-random-number-generator (PRNG) for the generation of\n",
    "            the random bit-stream used for encryption and decryption\n",
    "        kwargs: dict,\n",
    "            keyword arguments for `prng`\n",
    "        '''\n",
    "        if prng is None:\n",
    "            poly = [64, 4, 3, 1, 0]\n",
    "            state = key if key > 0 else None\n",
    "            self.prng = LFSR(poly, state=state)\n",
    "            self._crypt = self._crypt_bit \n",
    "        else:\n",
    "            if digit == 'bit':\n",
    "                self._crypt = self._crypt_bit\n",
    "            elif digit == 'byte':\n",
    "                self._crypt = self._crypt_byte\n",
    "            else:\n",
    "                raise ValueError('digit not valid')\n",
    "            self.prng = prng(key, **kwargs)\n",
    "        \n",
    "    def encrypt(self, plaintext):\n",
    "        '''encrypt a `plaintext` (str, bytes, bitstring.Bits) and \n",
    "        return the corresponding cyphertext (bytes) '''\n",
    "        return self._crypt(plaintext)\n",
    "    \n",
    "    def decrypt(self, ciphertext):\n",
    "        ''' decrypt a `cypertext` (str, bytes, bitstring.Bits) and \n",
    "        return the corresponding plaintext (bytes) '''\n",
    "        return self._crypt(ciphertext)\n",
    "    \n",
    "    def _crypt_bit(self, text):\n",
    "        if isinstance(text, Bits):\n",
    "            bits = text\n",
    "        if isinstance(text, bytes):\n",
    "            bits = Bits(bytes=text)\n",
    "        elif isinstance(text, str):\n",
    "            bits = Bits(bytes=text.encode('utf-8'))\n",
    "        else:\n",
    "            raise TypeError('input type is not supported')\n",
    "        return Bits([b^s for b, s in zip(bits, self.prng)]).bytes\n",
    "    \n",
    "    def _crypt_byte(self, text):\n",
    "        if isinstance(text, Bits):\n",
    "            _bytes = text.bytes\n",
    "        if isinstance(text, bytes):\n",
    "            _bytes = text\n",
    "        elif isinstance(text, str):\n",
    "            _bytes = text.encode('utf-8')\n",
    "        else:\n",
    "            raise TypeError('input type is not supported')\n",
    "        return bytes([b^s for b, s in zip(_bytes, self.prng)])\n",
    "        "
   ]
  },
  {
   "cell_type": "code",
   "execution_count": null,
   "metadata": {
    "Collapsed": "false"
   },
   "outputs": [],
   "source": [
    "message = 'hello world!'\n",
    "key = 0x0123456789ABCDEF\n",
    "\n",
    "# define a function that generate a random byte\n",
    "def prng(seed):\n",
    "    import random\n",
    "    _prng = random.Random(seed)\n",
    "    while True:\n",
    "        yield _prng.randint(0, 255)\n",
    "        \n",
    "# create a StreamCipher instance for both Alice and Bob\n",
    "alice = StreamCipher(key, prng=prng, digit='byte') \n",
    "bob   = StreamCipher(key, prng=prng, digit='byte')\n",
    "\n",
    "plaintextA = message.encode('utf-8')   # string to bytes \n",
    "ciphertext = alice.encrypt(plaintextA) # encryption by Alice\n",
    "plaintextB = bob.decrypt(ciphertext)   # decryption by Bob\n",
    "\n",
    "print(plaintextA) # -> b'hello world!' \n",
    "print(ciphertext) # -> b'\\x87\\x02\\xc7O\\xa2e\\xfen\\x14\\xfb\\xafv' \n",
    "print(plaintextB) # -> b'hello world!' \n"
   ]
  },
  {
   "cell_type": "markdown",
   "metadata": {
    "Collapsed": "false"
   },
   "source": [
    "## Task4: Rivest Cipher 4 (RC4)"
   ]
  },
  {
   "cell_type": "markdown",
   "metadata": {
    "Collapsed": "false"
   },
   "source": [
    "> Define an iterator that implements a PRNG based on the RC4 architecture and use it in the new `StreamCipher` class to encrypt/decrypt a message."
   ]
  },
  {
   "cell_type": "markdown",
   "metadata": {
    "Collapsed": "false"
   },
   "source": [
    "RC4 is a stream cipher that generates the keystream from a secret internal state which consists of two parts:\n",
    "- A permutation $P$ of all 256 possible bytes.\n",
    "- Two 8-bit index-pointers (denoted $i$ and $j$).\n",
    "\n",
    "$P$ is initialized with a variable length key by means of the *key-scheduling algorithm* (**KSA**).\n",
    "\n",
    "Then, the keystream is generated using the *pseudo-random generation algorithm* (**PRGA**) that updates the indexes $i$ and $j$, modifies the permutation $P$ and generates a random byte.\n"
   ]
  },
  {
   "cell_type": "markdown",
   "metadata": {
    "Collapsed": "false"
   },
   "source": [
    "**Key Scheduling Algorithm (KSA)**\n",
    "\n",
    "The KSA is used to initialize the permutation $P$ starting from a key composed by 𝐿 bytes. Typical values for 𝐿 range from 40 to 256.\n",
    "\n",
    "- $P$ is initialized with an identity permutation ($P[i]=i$).\n",
    "- Then, bytes of $P$ are mixed iteratively in a way that depends on the key.\n",
    "\n",
    "**Pseudocode**:\n",
    "> **Input** \\\\( k = [k_0, k_1, \\dots, k_{L-1}]\\\\), with \\\\( k_i \\in {0, 1, \\dots, 255} \\\\) <br>\n",
    "> \\\\( j \\leftarrow 0 \\\\) <br>\n",
    "> **for** \\\\( i = 0, 1, \\dots, 255 \\\\) <br>\n",
    "> \\\\( \\qquad P[i] \\leftarrow i \\\\) <br>\n",
    "> **endfor** <br>\n",
    "> **for** \\\\( i = 0, 1, \\dots, 255 \\\\) <br>\n",
    "> \\\\( \\qquad j \\leftarrow (j + P[i] + k[i \\\\) mod \\\\( L]) \\\\) mod \\\\( 256 \\\\) <br>\n",
    "> \\\\( \\qquad P[i], P[j] \\leftarrow P[j], P[i] \\\\) <br>\n",
    "> **endfor** <br>\n",
    "> **Output** \\\\( P \\\\) <br>"
   ]
  },
  {
   "cell_type": "markdown",
   "metadata": {
    "Collapsed": "false"
   },
   "source": [
    "**Pseudo-random generation Algorithm (PRGA)**\n",
    "\n",
    "For each iteration, PRGA modifies the state (represented by the permutation $P$ and the pair of indexes $i$, $j$) and outputs a byte.\n",
    "\n",
    "In each iteration:\n",
    "- $i$ is incremented, \n",
    "- $j$ is updated by adding the value $P[i]$, \n",
    "- $P[i]$ and $P[j]$ are swapped.\n",
    "- the output byte is element of $P$ ant the location $P[i]+P[j]$  (mod 256)\n",
    "\n",
    "\n",
    "**Pseudocode**:\n",
    "> **State** \\\\( P, i, j \\\\) <br>\n",
    "> \\\\( i \\leftarrow (i + 1) \\\\) mod \\\\( 256 \\\\) <br>\n",
    "> \\\\( j \\leftarrow (j + P[i]) \\\\) mod \\\\( 256 \\\\) <br>\n",
    "> \\\\(  P[i], P[j] \\leftarrow P[j], P[i] \\\\) <br>\n",
    "> \\\\( K \\leftarrow P[(P[j] + P[i]) \\\\) mod \\\\( 256] \\\\) <br>\n",
    "> **Output** \\\\( K \\\\) <br>"
   ]
  },
  {
   "cell_type": "markdown",
   "metadata": {
    "Collapsed": "false"
   },
   "source": [
    "**RC4-drop[$n$]**\n",
    "\n",
    "RC4 has many known vulnerabilities mainly related to the correlation between the key and the first bytes of the permutation $P$. \n",
    "Most of them can be avoided by discarding the first 𝑛 bytes of the output stream, from where it becomes RC4-drop[$n$].\n",
    "Typical values for $n$ are:\n",
    "- $n = 768$\n",
    "- $n = 3072$ (more conservative value)\n"
   ]
  },
  {
   "cell_type": "code",
   "execution_count": null,
   "metadata": {
    "Collapsed": "false"
   },
   "outputs": [],
   "source": [
    "class RC4(object):\n",
    "    '''\n",
    "    Rivest Cipher 4 (RC4) Stream Cipher.\n",
    "    \n",
    "    Attributes\n",
    "    ----------\n",
    "    P: list of int,\n",
    "        RC4 Permutation\n",
    "    i, j: int,\n",
    "        RC4 indices\n",
    "    '''\n",
    "    \n",
    "    def __init__(self, key, key_length=None, drop=0):\n",
    "        ''' \n",
    "        Parameters\n",
    "        ----------\n",
    "        key: int, bytes, str, list of int,\n",
    "            secret key\n",
    "        key_length: bytes, optional (default None)\n",
    "            number of bytes composing the key in case key is an int.\n",
    "        drop: int, optional (default 0)\n",
    "            number of output bytes to drop after initialization\n",
    "        '''    \n",
    "        # check parameters\n",
    "        if isinstance(key, int):\n",
    "            key = int(key).to_bytes(byteorder='little', length=key_length)\n",
    "        elif isinstance(key, (bytes, bytearray))\\\n",
    "            or (hasattr(key, '__iter__') \\\n",
    "                and all(isinstance(B, int) for B in key)):\n",
    "            key = bytes(key)\n",
    "        elif isinstance(key, str):\n",
    "            key = key.encode('utf-8')\n",
    "        else:\n",
    "            raise TypeError('key format is not supported')\n",
    "            \n",
    "        if not isinstance(drop, int) or drop < 0:\n",
    "            raise ValueError('drop must be an integer >= 0')\n",
    "        \n",
    "        # initialization\n",
    "        self.P = self.ksa(key)\n",
    "        self.i, self.j = 0, 0\n",
    "        \n",
    "        # dropping output bytes for safety issues\n",
    "        for _, byte in zip(range(drop), self):\n",
    "            pass\n",
    "    \n",
    "    @staticmethod\n",
    "    def ksa(key):\n",
    "        ''' returns the permutation P initialized by means of the \n",
    "        Key-scheduling Algorithm (KSA) with the input key (bytes)\n",
    "        '''\n",
    "        P = list(range(256)) # identity permutation\n",
    "        j = 0\n",
    "        for i in range(256):\n",
    "            j = (j + P[i] + key[i % len(key)]) % 256\n",
    "            P[i], P[j] = P[j], P[i]\n",
    "        return P\n",
    "    \n",
    "    def prga(self):\n",
    "        ''' Pseudo-random generation algorithm (PRGA) that generates a random\n",
    "        byte starting from the Permutation P and the pair of indexes i, j.\n",
    "        '''\n",
    "        self.i = (self.i + 1) % 256\n",
    "        self.j = (self.j + self.P[self.i]) % 256\n",
    "        self.P[self.i], self.P[self.j] = self.P[self.j], self.P[self.i]\n",
    "        byte = self.P[(self.P[self.i] + self.P[self.j]) % 256]\n",
    "        return byte\n",
    "        \n",
    "    def __iter__(self):\n",
    "        return self\n",
    "        \n",
    "    def __next__(self):\n",
    "        return self.prga() \n",
    "    \n",
    "    def __str__(self):\n",
    "        _str = 'i: 0x{:02x}, j: 0x{:02x}, P: 0x{:0512x}'.format(\n",
    "            self.i, self.j, int.from_bytes(bytes(self.P), byteorder='little')\n",
    "        )\n",
    "        return _str\n",
    "    \n",
    "    def __repr__(self):\n",
    "        return 'RC4({})'.format(self.__str__())\n",
    "        "
   ]
  },
  {
   "cell_type": "code",
   "execution_count": null,
   "metadata": {
    "Collapsed": "false"
   },
   "outputs": [],
   "source": [
    "message = 'hello world!'\n",
    "key = b'0123456789ABCDEF'\n",
    "ndrop = 3072\n",
    "        \n",
    "# create a StreamCipher instance for both Alice and Bob\n",
    "alice = StreamCipher(key, digit='byte', prng=RC4, drop=ndrop) \n",
    "bob   = StreamCipher(key, digit='byte', prng=RC4, drop=ndrop)\n",
    "\n",
    "plaintextA = message.encode('utf-8')   # string to bytes \n",
    "ciphertext = alice.encrypt(plaintextA) # encryption by Alice\n",
    "plaintextB = bob.decrypt(ciphertext)   # decryption by Bob\n",
    "\n",
    "print(plaintextA) # -> b'hello world!' \n",
    "print(ciphertext) # -> b'/\\x9e\\xf9\\x83@\\x81}\\xa9\\xd0\\xd4\\xd5\\xf4' \n",
    "print(plaintextB) # -> b'hello world!' \n"
   ]
  }
 ],
 "metadata": {
  "kernelspec": {
   "display_name": "Python 3",
   "language": "python",
   "name": "python3"
  },
  "language_info": {
   "codemirror_mode": {
    "name": "ipython",
    "version": 3
   },
   "file_extension": ".py",
   "mimetype": "text/x-python",
   "name": "python",
   "nbconvert_exporter": "python",
   "pygments_lexer": "ipython3",
   "version": "3.7.6"
  }
 },
 "nbformat": 4,
 "nbformat_minor": 4
}
