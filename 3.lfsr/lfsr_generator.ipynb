{
 "cells": [
  {
   "cell_type": "markdown",
   "metadata": {},
   "source": [
    "# TASK 1 - LFSR Generator"
   ]
  },
  {
   "cell_type": "code",
   "execution_count": 1337,
   "metadata": {},
   "outputs": [
    {
     "name": "stdout",
     "output_type": "stream",
     "text": [
      "1110100111010011"
     ]
    }
   ],
   "source": [
    "from operator import xor\r\n",
    "from functools import reduce\r\n",
    "from itertools import islice\r\n",
    "\r\n",
    "def lfsr_generator(poly, state=None):\r\n",
    "    \"\"\"\r\n",
    "    LFSR Generator. Given a polynomial and an initial state, it generates an infinite stream\r\n",
    "    of bits.\r\n",
    "\r\n",
    "    Args:\r\n",
    "        poly (List): List of integers representing a polynomial. x^3 + x + 1 = 101\r\n",
    "        state (List, optional): List of binominals representning the state. Defaults to None.\r\n",
    "\r\n",
    "    Returns:\r\n",
    "        b (List): List of bits (formated as an integer)\r\n",
    "    \"\"\"\r\n",
    "\r\n",
    "    # Feedback Polynomial -->\r\n",
    "    feedbackPolynomial = [i in poly for i in range(max(poly)+1)] # True for values in poly, else False\r\n",
    "    feedbackPolynomial.reverse()\r\n",
    "    feedbackPolynomial.pop()\r\n",
    "\r\n",
    "    # LFSR State -->\r\n",
    "    if state is None:\r\n",
    "        stateList = [True for i in range(max(poly))]\r\n",
    "    else:\r\n",
    "        stateList = [i == 1 for i in state] # True for 1s, else False\r\n",
    "\r\n",
    "    # AND and XOR operations -->\r\n",
    "    while True:\r\n",
    "        b = stateList[0] \r\n",
    "\r\n",
    "        andedValues = [stateList[i] and feedbackPolynomial[i] for i in range(len(feedbackPolynomial))]\r\n",
    "        fb = reduce(xor, andedValues)\r\n",
    "\r\n",
    "        stateList.pop(0)\r\n",
    "        stateList.append(fb)\r\n",
    "        yield b\r\n",
    "\r\n",
    "lfsr = lfsr_generator([3,1])\r\n",
    "\r\n",
    "# The first 16 digits printed as numbers instead of booleans\r\n",
    "for b in islice(lfsr, 16):\r\n",
    "    print(f'{b:d}', end=\"\")\r\n",
    "\r\n"
   ]
  },
  {
   "cell_type": "code",
   "execution_count": null,
   "metadata": {},
   "outputs": [],
   "source": []
  },
  {
   "cell_type": "markdown",
   "metadata": {},
   "source": [
    "# TASK 2 - LFSR Iterator"
   ]
  },
  {
   "cell_type": "code",
   "execution_count": 1338,
   "metadata": {},
   "outputs": [
    {
     "name": "stdout",
     "output_type": "stream",
     "text": [
      "LFSR:\n",
      "Poly: [True, False, True]\n",
      "One cycle: [True, True, True, False, True, False, False]\n"
     ]
    }
   ],
   "source": [
    "class LFSR(object):\r\n",
    "\r\n",
    "    from operator import xor\r\n",
    "    from functools import reduce\r\n",
    "    from itertools import islice\r\n",
    "\r\n",
    "    \"\"\"\r\n",
    "    [summary]\r\n",
    "    \"\"\"\r\n",
    "\r\n",
    "    def __init__(self, poly, state=None):\r\n",
    "        \"\"\"\r\n",
    "        [summary]\r\n",
    "        \"\"\"\r\n",
    "        self.poly = [i in poly for i in range(max(poly) + 1)]\r\n",
    "        self.poly.reverse()\r\n",
    "        self.poly.pop()\r\n",
    "\r\n",
    "        self.length = max(poly)\r\n",
    "\r\n",
    "        if state is None:\r\n",
    "            self.state = [True for i in range(max(poly))]\r\n",
    "        else: \r\n",
    "            self.state = [i == 1 for i in state]\r\n",
    "\r\n",
    "        self.output = None # Hmm?\r\n",
    "        self.feedback = None # Hmm?\r\n",
    "\r\n",
    "    def __iter__(self):\r\n",
    "        return self\r\n",
    "\r\n",
    "    def __next__(self):\r\n",
    "        \"\"\"\r\n",
    "        [summary]\r\n",
    "        \"\"\"\r\n",
    "        self.output = self.state[0]\r\n",
    "\r\n",
    "        andedValues = [self.poly[i] and self.state[i] for i in range(len(self.poly))]\r\n",
    "\r\n",
    "        self.feedback = reduce(xor, andedValues)\r\n",
    "        self.state.pop(0)\r\n",
    "        self.state.append(self.feedback)\r\n",
    "\r\n",
    "        return self.output\r\n",
    "\r\n",
    "    def run_steps(self, N=1):\r\n",
    "        \"\"\"\r\n",
    "        [summary]\r\n",
    "\r\n",
    "        Args:\r\n",
    "            N (int, optional): [description]. Defaults to 1.\r\n",
    "        \"\"\"\r\n",
    "        list_of_bool = [self.__next__() for i in range(N)]\r\n",
    "        return list_of_bool\r\n",
    "\r\n",
    "    def cycle(self, state=None):\r\n",
    "        \"\"\"\r\n",
    "        [summary]\r\n",
    "\r\n",
    "        Args:\r\n",
    "            state ([type], optional): [description]. Defaults to None.\r\n",
    "        \"\"\"\r\n",
    "        oneCycle = (2**self.length)-1\r\n",
    "        list_of_bool = (self.run_steps(oneCycle))\r\n",
    "        return list_of_bool\r\n",
    "    \r\n",
    "    def __str__(self):\r\n",
    "        return \"LFSR:\\nPoly: \" + str(self.poly) + \"\\nOne cycle: \" + str(self.cycle())\r\n",
    "\r\n",
    "    def main():\r\n",
    "        lfsr = LFSR([3,1])\r\n",
    "        print(lfsr.__str__())\r\n",
    "\r\n",
    "    if __name__ == \"__main__\":\r\n",
    "        main()\r\n"
   ]
  }
 ],
 "metadata": {
  "kernelspec": {
   "display_name": "Python 3.8.5 64-bit ('eads': conda)",
   "metadata": {
    "interpreter": {
     "hash": "d17ca3fd1502c24ababaf0ced00c555b21847e5180bffa0375382250777d1da9"
    }
   },
   "name": "python3"
  },
  "language_info": {
   "codemirror_mode": {
    "name": "ipython",
    "version": 3
   },
   "file_extension": ".py",
   "mimetype": "text/x-python",
   "name": "python",
   "nbconvert_exporter": "python",
   "pygments_lexer": "ipython3",
   "version": "3.8.5"
  },
  "orig_nbformat": 2
 },
 "nbformat": 4,
 "nbformat_minor": 2
}