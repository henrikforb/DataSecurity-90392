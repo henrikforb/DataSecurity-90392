{
 "cells": [
  {
   "cell_type": "markdown",
   "metadata": {},
   "source": [
    "# TASK 1 - LFSR Generator"
   ]
  },
  {
   "cell_type": "code",
   "execution_count": 683,
   "metadata": {},
   "outputs": [
    {
     "name": "stdout",
     "output_type": "stream",
     "text": [
      "1110100111010011"
     ]
    }
   ],
   "source": [
    "from operator import xor\r\n",
    "from functools import reduce\r\n",
    "from itertools import islice\r\n",
    "\r\n",
    "def lfsr_generator(poly, state=None):\r\n",
    "    \"\"\"\r\n",
    "    LFSR Generator. Given a polynomial and an initial state, it generates an infinite stream\r\n",
    "    of bits.\r\n",
    "\r\n",
    "    Args:\r\n",
    "        poly (List): List of integers representing a polynomial. x^3 + x + 1 = 101\r\n",
    "        state (List, optional): List of binominals representning the state. Defaults to None.\r\n",
    "\r\n",
    "    Returns:\r\n",
    "        b (List): List of bits (formated as an integer)\r\n",
    "    \"\"\"\r\n",
    "\r\n",
    "    # Feedback Polynomial -->\r\n",
    "    feedbackPolynomial = [i in poly for i in range(max(poly)+1)] # True for values in poly, else False\r\n",
    "    feedbackPolynomial.reverse()\r\n",
    "    feedbackPolynomial.pop()\r\n",
    "\r\n",
    "    # LFSR State -->\r\n",
    "    if state is None:\r\n",
    "        stateList = [True for i in range(max(poly))]\r\n",
    "    else:\r\n",
    "        stateList = [i == 1 for i in state] # True for 1s, else False\r\n",
    "\r\n",
    "    # AND and XOR operations -->\r\n",
    "    while True:\r\n",
    "        b = stateList[0] \r\n",
    "\r\n",
    "        andedValues = []\r\n",
    "        for i in range(len(feedbackPolynomial)):\r\n",
    "            andedValues.append(stateList[i] and feedbackPolynomial[i])\r\n",
    "        fb = reduce(xor, andedValues)\r\n",
    "\r\n",
    "        stateList.pop(0)\r\n",
    "        stateList.append(fb)\r\n",
    "        yield b\r\n",
    "\r\n",
    "lfsr = lfsr_generator([3,1])\r\n",
    "\r\n",
    "# The first 16 digits printed as numbers instead of booleans\r\n",
    "for b in islice(lfsr, 16):\r\n",
    "    print(f'{b:d}', end=\"\")\r\n",
    "\r\n"
   ]
  },
  {
   "cell_type": "code",
   "execution_count": null,
   "metadata": {},
   "outputs": [],
   "source": []
  }
 ],
 "metadata": {
  "kernelspec": {
   "display_name": "Python 3.8.5 64-bit ('eads': conda)",
   "metadata": {
    "interpreter": {
     "hash": "d17ca3fd1502c24ababaf0ced00c555b21847e5180bffa0375382250777d1da9"
    }
   },
   "name": "python3"
  },
  "language_info": {
   "codemirror_mode": {
    "name": "ipython",
    "version": 3
   },
   "file_extension": ".py",
   "mimetype": "text/x-python",
   "name": "python",
   "nbconvert_exporter": "python",
   "pygments_lexer": "ipython3",
   "version": "3.8.5"
  },
  "orig_nbformat": 2
 },
 "nbformat": 4,
 "nbformat_minor": 2
}