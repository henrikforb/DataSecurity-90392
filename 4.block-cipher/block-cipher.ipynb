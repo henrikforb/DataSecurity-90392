{
 "cells": [
  {
   "cell_type": "markdown",
   "metadata": {
    "Collapsed": "false"
   },
   "source": [
    "# Block Cipher"
   ]
  },
  {
   "cell_type": "markdown",
   "metadata": {
    "Collapsed": "false"
   },
   "source": [
    "Unlike Stream Ciphers that encrypt one bit at a time, Block Ciphers encrypt a **block of text**. For example, AES encrypts 128 bit blocks. \n",
    "\n",
    "Since a block cipher is suitable only for the encryption of a single block under a fixed key, a multitude of **modes of operation** have been designed to allow their repeated use in a secure way.\n",
    "\n",
    "Moreover, block ciphers may also feature as **building blocks** in other cryptographic protocols, such as universal hash functions and pseudo-random number generators.\n",
    "\n",
    "Most block cipher algorithms are obtained by iterating an invertible transformation. Each iteration is called **round** and the repeated transformation is known as **round function**.\n",
    "Usually, the round function takes different **round keys**, which are derived by expanding the original key.\n",
    "\n",
    "\n"
   ]
  },
  {
   "cell_type": "markdown",
   "metadata": {
    "Collapsed": "false"
   },
   "source": [
    "### Advanced Encryption Standard (AES)"
   ]
  },
  {
   "cell_type": "markdown",
   "metadata": {
    "Collapsed": "false"
   },
   "source": [
    "AES is a specification for the symmetric-key encryption established by the [NIST](https://www.nist.gov/) in 2001 and then adopted by the U.S. government.\n",
    "The standard comprises three block ciphers from a larger collection originally published as **Rijndael**. Each of these ciphers has a 128-bit block size, with key sizes of 128, 192 and 256 bits.\n",
    "\n",
    "Rijndael is designed to resist against all known attacks and to be fast and compact when implemented in most platforms. It is composed of a **key expansion** block and a **data path** that can be viewed as an iterated block cipher, where each iteration is called **round**. The number of rounds depends on the block (for AES fixed to 128bit) and key length.\n",
    "\n",
    "| key length | #rounds $N_r$ |\n",
    "|:----------:|:-------------:|\n",
    "|        128 |            10 |\n",
    "|        192 |            12 |\n",
    "|        256 |            14 |\n",
    "\n",
    "\n",
    "[1] *FIPS PUB 197, Advanced Encryption Standard (AES), National Institute of Standards and Technology, U.S. Department of Commerce, November 2001.*\n",
    "\n",
    "[2] *Joan Daemen and Vincent Rijmen, The Design of Rijndael, AES - The Advanced Encryption Standard, Springer-Verlag 2002 (238 pp.)*\n",
    "\n"
   ]
  },
  {
   "cell_type": "markdown",
   "metadata": {
    "Collapsed": "false"
   },
   "source": [
    "### Python Packages for Cryptography"
   ]
  },
  {
   "cell_type": "markdown",
   "metadata": {
    "Collapsed": "false"
   },
   "source": [
    "\n",
    "Here a short list of the most used libraries for Cryptography:\n",
    "- [**Pycryptodome**](https://github.com/Legrandin/pycryptodome): self contained Python package of low level cryptographic primitives. It is a fork of [PyCrypto](https://github.com/dlitz/pycrypto) that has been enhanced to add more implementations and fixes to the original library.\n",
    "- [**PyNaCl**](https://github.com/pyca/pynacl): Python binding to [libsodium](https://github.com/jedisct1/libsodium) , which is a fork of the [Networking and Cryptography library](https://nacl.cr.yp.to/). These libraries have a stated goal of improving usability, security and speed.\n",
    "- [**Cryptography**](https://github.com/pyca/cryptography): cryptography is a package which provides cryptographic recipes and primitives to Python developers. It includes both high level recipes and low level interfaces to common cryptographic algorithms such as symmetric ciphers, message digests, and key derivation functions."
   ]
  },
  {
   "cell_type": "markdown",
   "metadata": {
    "Collapsed": "false"
   },
   "source": [
    "#### Pycryptodome"
   ]
  },
  {
   "cell_type": "markdown",
   "metadata": {
    "Collapsed": "false"
   },
   "source": [
    "PyCryptodome is a self contained Python package of low level cryptographic primitives. It is organized in sub packages dedicated to solving a specific class of problems:\n",
    "\n",
    "- `Crypto.Cipher`: Modules for protecting confidentiality that is, for encrypting and decrypting data (example: AES).\n",
    "- `Crypto.Signature`: Modules for assuring authenticity , that is, for creating and verifying digital signatures of messages ( example: PKCS#1)\n",
    "- `Crypto.Hash`: Modules for creating cryptographic digests (example: SHA 256).\n",
    "- `Crypto.PublicKey`: Modules for generating, exporting or importing public keys (example: RSA or ECC)."
   ]
  },
  {
   "cell_type": "markdown",
   "metadata": {
    "Collapsed": "false"
   },
   "source": [
    "##### `Crypto.Cipher` subpackage"
   ]
  },
  {
   "cell_type": "markdown",
   "metadata": {
    "Collapsed": "false"
   },
   "source": [
    "The base API of a cipher is fairly simple:\n",
    "- You instantiate a cipher object by calling the `new()` function from the relevant cipher module. The first parameter is always the cryptographic key . You can (and sometimes must) pass additional cipher or mode specific parameters such as a nonce or a mode of operation.\n",
    "- For encrypting data, you call the `encrypt()` method of the cipher object with the plaintext. The method returns the piece of ciphertext. For most algorithms, you may call `encrypt()` multiple times (i.e. once for each piece of plaintext).\n",
    "- For decrypting data, you call the `decrypt()` method of the cipher object with the ciphertext. The method returns the piece of plaintext.\n"
   ]
  },
  {
   "cell_type": "code",
   "execution_count": null,
   "metadata": {
    "Collapsed": "false"
   },
   "outputs": [],
   "source": [
    "from Cryptodome.Cipher import AES\n",
    "\n",
    "# Example of AES in Electronic Codebook\n",
    "key = b'0123456701234567'        # 128bit key\n",
    "aes = AES.new(key, AES.MODE_ECB) # AES instance\n",
    "\n",
    "# in ECB plaintext must have length equal to block-size (128bit)\n",
    "plaintextA = b'this is a secret' \n",
    "ciphertext = aes.encrypt(plaintextA) # encryption\n",
    "plaintextB = aes.decrypt(ciphertext) # decryption\n",
    "\n",
    "print(plaintextA) # b'this is a secret'\n",
    "print(ciphertext) # b'\\x8dk\\x84\\xcey*h\\xach\\x9b\\xd0[\\xb6pR\\x95'\n",
    "print(plaintextB) # b'this is a secret'"
   ]
  },
  {
   "cell_type": "markdown",
   "metadata": {
    "Collapsed": "false"
   },
   "source": [
    "## Task 1: Estimation of $\\pi$ with MonteCarlo Simulations"
   ]
  },
  {
   "cell_type": "markdown",
   "metadata": {
    "Collapsed": "false"
   },
   "source": [
    "> Get familiarity with MonteCarlo Simulations by estimating the value of $\\pi$"
   ]
  },
  {
   "cell_type": "markdown",
   "metadata": {
    "Collapsed": "false"
   },
   "source": [
    "### MonteCarlo Simulations (MCS)"
   ]
  },
  {
   "cell_type": "markdown",
   "metadata": {
    "Collapsed": "false"
   },
   "source": [
    "A Monte Carlo simulation is a statistical technique that allows for the modelling of complex situations where many random variables are involved. It uses the process of repeated random sampling to model stochastic systems and determine the odds for a variety of outcomes.\n",
    "\n",
    "The idea comes from the Law of Large Numbers that states: \n",
    "> *the average of the results obtained from a large number of trials should be close to the expected value and will tend to become closer to the expected value as more trials are performed.*\n",
    "\n",
    "Roughly speaking, If you do not know some parameters of your sistem, you can make several trials and then take the average."
   ]
  },
  {
   "cell_type": "markdown",
   "metadata": {
    "Collapsed": "false"
   },
   "source": [
    "### Estimating $\\pi$ with MCS"
   ]
  },
  {
   "cell_type": "markdown",
   "metadata": {
    "Collapsed": "false"
   },
   "source": [
    "A classical example is the estimation of $\\pi$.\n",
    "We know that $\\pi r^2$ corresponds to the area of a circle with radius $r$, so we can estimate the value of $\\pi$ as four times the ratio between the area of a square and the inscribed circle.\n",
    "\n",
    "$$ 4 \\frac{A_{\\circ}}{A_{\\Box}} = 4 \\frac{\\pi r^2}{(2r)^2} = 4 \\frac{\\pi}{4} = \\pi $$\n",
    "\n",
    "The ratio between the two areas can be estimate by drawing $N$ coordinates $(x,y)$ as instances of uniform random variables $x,y \\in U(0,1)$ and count how many fall into the circle with respect to the total."
   ]
  },
  {
   "cell_type": "code",
   "execution_count": null,
   "metadata": {
    "Collapsed": "false"
   },
   "outputs": [],
   "source": [
    "import matplotlib.pyplot as plt\n",
    "import numpy as np\n",
    "from scipy import random"
   ]
  },
  {
   "cell_type": "code",
   "execution_count": null,
   "metadata": {
    "Collapsed": "false"
   },
   "outputs": [],
   "source": [
    "random.seed(2) # set a seed for repeatablity\n",
    "\n",
    "N = 10000 # number of MonteCarlo trials\n",
    "\n",
    "# generate N pairs of random coordinates uniformely \n",
    "# distributed in the square [0,1]x[0,1]\n",
    "x, y = random.rand(2, N)\n",
    "\n",
    "# compute the distance from the origin for each pair of coordinates\n",
    "r = np.sqrt(x**2 + y**2)\n",
    "\n",
    "# count how many points lay inside the unit circle\n",
    "inside = sum(r <= 1)\n",
    "\n",
    "# estimate pi\n",
    "pi = 4*inside/N\n",
    "\n",
    "print('estimate value of $\\pi$ after {} trials: {}'.format(N, pi))"
   ]
  },
  {
   "cell_type": "code",
   "execution_count": null,
   "metadata": {
    "Collapsed": "false"
   },
   "outputs": [],
   "source": [
    "# create a figure\n",
    "fig, ax = plt.subplots(figsize=(8,4))\n",
    "\n",
    "# scatter plot of the generated coordinates with different colors for\n",
    "# the points that lay inside and outside the unit circle\n",
    "ax.scatter(x, y, s=16, c=(r > 1), alpha=0.8, cmap='Paired')\n",
    "\n",
    "# plot of the unit circle circonference\n",
    "theta = np.linspace(0, np.pi/2, 100)\n",
    "ax.plot(np.cos(theta), np.sin(theta), '--k')\n",
    "\n",
    "# make the plot prettier\n",
    "ax.set(xlabel='$x$', ylabel='$y$', aspect='equal', xlim=(0, 1), ylim=(0, 1))\n",
    "ax.text(0.05, 0.1, 'N = {}, $ \\hat{{\\pi}} $ = {}'.format(N, pi))\n",
    "# plt.savefig('pi_N={}.png'.format(N)) # save figure as .png"
   ]
  },
  {
   "cell_type": "markdown",
   "metadata": {
    "Collapsed": "false"
   },
   "source": [
    "plot the same figure for three different values of N."
   ]
  },
  {
   "cell_type": "code",
   "execution_count": null,
   "metadata": {
    "Collapsed": "false"
   },
   "outputs": [],
   "source": [
    "Ns = 100, 1000, 10000\n",
    "\n",
    "# create a figure with subplots\n",
    "fig, axs = plt.subplots(1, len(Ns), figsize=(4*len(Ns),4))\n",
    "\n",
    "# x and y coordinates of the unit circle circonference\n",
    "theta = np.linspace(0, np.pi/2, 100)\n",
    "circx, circy = np.cos(theta), np.sin(theta)\n",
    "\n",
    "# a scatter plot for each value of Ns\n",
    "for ax, n in zip(axs, Ns):\n",
    "    ax.scatter(x[:n], y[:n], s=16, c=(r[:n] > 1), alpha=0.8, cmap='Paired')\n",
    "    ax.plot(circx, circy, '--k')\n",
    "    ax.set(xlabel='$x$', ylabel='$y$', aspect='equal', xlim=(0, 1), ylim=(0, 1))\n",
    "    pin = 4*sum(r[:n] <= 1)/n\n",
    "    ax.text(0.05, 0.1, 'N = {}, $ \\hat{{\\pi}} $ = {}'.format(n, pin))\n",
    "\n",
    "fig.tight_layout() # automatically adjust spaces between axes and borders"
   ]
  },
  {
   "cell_type": "markdown",
   "metadata": {
    "Collapsed": "false"
   },
   "source": [
    "### MCS convergence"
   ]
  },
  {
   "cell_type": "markdown",
   "metadata": {
    "Collapsed": "false"
   },
   "source": [
    "As first attempt, we can observe how estimation error depends on the number of trials $N$. We can define the estimation error as the absolute value of the difference between the estimate and the actual value of $\\pi$\n",
    "$$ \\text{error} = |\\hat{\\pi} - \\pi| $$"
   ]
  },
  {
   "cell_type": "code",
   "execution_count": null,
   "metadata": {
    "Collapsed": "false"
   },
   "outputs": [],
   "source": [
    "# estimate $\\pi$ for each new trial\n",
    "def estimate_pi(x, y):\n",
    "    ''' return an estimate of the value of \\pi (float) from a set of \n",
    "    coordinates x and y (1D-numpy.ndarray) '''\n",
    "    # check x and y arrays have the same length\n",
    "    assert len(x) == len(y)\n",
    "    N = len(x)\n",
    "    # compute distance from the origin for each point and estimate pi\n",
    "    r = np.sqrt(x**2 + y**2)\n",
    "    pi = 4*sum(r <= 1)/N\n",
    "    return pi\n",
    "\n",
    "pi = np.array([estimate_pi(x[:1+i], y[:1+i]) for i in range(N)])"
   ]
  },
  {
   "cell_type": "code",
   "execution_count": null,
   "metadata": {
    "Collapsed": "false"
   },
   "outputs": [],
   "source": [
    "err = abs(pi - np.pi)"
   ]
  },
  {
   "cell_type": "code",
   "execution_count": null,
   "metadata": {
    "Collapsed": "false"
   },
   "outputs": [],
   "source": [
    "fig, (ax1, ax2) = plt.subplots(2, 1, figsize=(8,5), sharex=True)\n",
    "\n",
    "n = 1+np.arange(N)\n",
    "\n",
    "ax1.axhline(np.pi, ls='--', c='k', label='$\\pi$')\n",
    "ax1.plot(n, pi, label='$\\hat{\\pi}$')\n",
    "ax1.set(ylabel='$\\hat{\\pi}$')\n",
    "\n",
    "ax2.plot(n, err, label='$|\\hat{\\pi} - \\pi|$')\n",
    "ax2.plot(n, 1/np.sqrt(n), label='$1/\\sqrt{N}$')\n",
    "ax2.set(yscale='log')\n",
    "ax2.set(xlabel='N', ylabel='$|\\hat{\\pi} - \\pi|$')\n",
    "\n",
    "for ax in (ax1, ax2):\n",
    "    ax.set(xscale='log')\n",
    "    ax.legend()\n",
    "    ax.grid(True)\n",
    "fig.tight_layout(h_pad=0)"
   ]
  },
  {
   "cell_type": "markdown",
   "metadata": {
    "Collapsed": "false"
   },
   "source": [
    "From the plots above, it is evident that, as expected, the more trials are computed the more accurate is the estimate. We can also notice that the convergence goes as $1/\\sqrt{N}$. Thus, there is a law that rules the trade-off between accuracy and number of trials."
   ]
  },
  {
   "cell_type": "markdown",
   "metadata": {
    "Collapsed": "false"
   },
   "source": [
    "However, MonteCarlo simulations are not used to estimate quantities that are already well known. As a consequence, one needs criteria to set the number of trials that are independent from the actual values of the parameters one wants to estimate.\n",
    "\n",
    "Let's have a look on the estimate changes everytime a new trial is performed."
   ]
  },
  {
   "cell_type": "code",
   "execution_count": null,
   "metadata": {
    "Collapsed": "false"
   },
   "outputs": [],
   "source": [
    "# compute the difference between the current estimate and the previous one\n",
    "dpi = np.diff(pi)\n",
    "dpi"
   ]
  },
  {
   "cell_type": "code",
   "execution_count": null,
   "metadata": {
    "Collapsed": "false"
   },
   "outputs": [],
   "source": [
    "# savgol_pars = {'window_length': 101, 'polyorder': 1}\n",
    "# dpi_filt = signal.savgol_filter(abs(dpi), **savgol_pars)\n",
    "\n",
    "fig, ax = plt.subplots(figsize=(8,4))\n",
    "ax.plot(n, err, label='$|\\hat{\\pi} - \\pi|$')\n",
    "ax.plot(n, 1/np.sqrt(n), label='$1/\\sqrt{N}$')\n",
    "ax.plot(n[1:], abs(dpi), label='$|\\Delta \\hat{\\pi}|$')\n",
    "ax.plot(n, 1/n, label='$1/N$')\n",
    "# ax.plot(n[1:], dpi_filt, label='$|\\Delta \\hat{\\pi}}|$ filtered')\n",
    "\n",
    "ax.set(\n",
    "    title='variation of estimate',\n",
    "    xlabel='N', ylabel='$|\\Delta \\hat{\\pi}|$',\n",
    "    xscale='log', yscale='log')\n",
    "ax.legend()\n",
    "ax.grid(True)\n",
    "\n",
    "fig.tight_layout()"
   ]
  },
  {
   "cell_type": "markdown",
   "metadata": {
    "Collapsed": "false"
   },
   "source": [
    "It is evident that while the estimate coverges to the actual value as $1/\\sqrt{N}$, the variation of the estimete goes as $1/N$. This relationship allows us to make an idea of the estimation error (that we cannot know) by observing how the estimate varys by increasing $N$."
   ]
  },
  {
   "cell_type": "markdown",
   "metadata": {
    "Collapsed": "false"
   },
   "source": [
    "## Task 2: Diffusion and Confusion in AES"
   ]
  },
  {
   "cell_type": "markdown",
   "metadata": {
    "Collapsed": "false"
   },
   "source": [
    "> Apply MonteCarlo Simulations to AES with the aim of observing the effect of diffusion and confusion."
   ]
  },
  {
   "cell_type": "markdown",
   "metadata": {
    "Collapsed": "false"
   },
   "source": [
    "### Diffusion"
   ]
  },
  {
   "cell_type": "markdown",
   "metadata": {
    "Collapsed": "false"
   },
   "source": [
    "- **Diffusion**: *if we change a single bit of the plaintext, then (statistically) half of the bits in the ciphertext should change.*\n",
    "\n",
    "We want to test qualitatively if AES provides diffusion. \n",
    "To do so, we can randomly draw a plaintext and a key, change a bit in the plaintext and then observe how this change affects the ciphertext.\n",
    "\n",
    "We can define $\\text{d}(y,y')$ the distance between $y$ and $y'$ as the number of bit $y'$ differs from $y$. This distance is the quantity we want to estimate by means of Monte Carlo simulation and more than its average we are interested in its **distribution**.\n",
    "\n",
    "We do not expect to find that $\\text{d}(y,y')$ is always $n/2$ (where $n$ is the number of bits in the ciphertext) but we expect to find a distribution that is concentrated around $n/2$."
   ]
  },
  {
   "cell_type": "markdown",
   "metadata": {
    "Collapsed": "false"
   },
   "source": [
    "#### single MonteCarlo Trial"
   ]
  },
  {
   "cell_type": "markdown",
   "metadata": {
    "Collapsed": "false"
   },
   "source": [
    "Firstly, we set up the code for a single simulation and we leave for a second moment the repeatition the trial for many times."
   ]
  },
  {
   "cell_type": "code",
   "execution_count": null,
   "metadata": {
    "Collapsed": "false"
   },
   "outputs": [],
   "source": [
    "# here we define two function that will be helpful for the execution of the MCS\n",
    "\n",
    "def flip_bit(text, ibit):\n",
    "    ''' return `text` (bytes) with the bit at position `ibit` (int) flipped '''\n",
    "    # copy text in a bytesarray to allow changes\n",
    "    flipped_text = bytearray(text) \n",
    "    # flip the bit by xoring it with a 1\n",
    "    flipped_text[ibit//8] ^= 1 << (ibit%8) \n",
    "    # turn text back into bytes\n",
    "    return bytes(flipped_text)\n",
    "\n",
    "def text_distance(textA, textB):\n",
    "    ''' return the distance between `textA` (bytes) and `textB` (bytes) \n",
    "    defined as the number of bits they differ from each other '''\n",
    "    \n",
    "    # by xoring textA and textB, I get a bytes string where bits equal to 0\n",
    "    # correspond to bits that have the same value in textA and textB, while\n",
    "    # bits equal to 1 correspond to bits that are different.\n",
    "    \n",
    "    # xor textA and textB one byte at a time\n",
    "    AxorB = bytes(a ^ b for (a, b) in zip(textA, textB))\n",
    "    # counting 1s in AxorB\n",
    "    distance = sum([bin(byte).count('1') for byte in AxorB])\n",
    "    \n",
    "    return distance"
   ]
  },
  {
   "cell_type": "code",
   "execution_count": null,
   "metadata": {
    "Collapsed": "false"
   },
   "outputs": [],
   "source": [
    "# set a key and initiate AES cipher\n",
    "key = b'0123456789ABCDEF'\n",
    "aes = AES.new(key, AES.MODE_ECB)\n",
    "\n",
    "# set a plaintext and flip one of its bit\n",
    "x = b'\\x00\\x01\\x02\\x03\\x04\\x05\\x06\\x07\\x08\\x09\\x0A\\x0B\\x0C\\x0D\\x0E\\x0F'\n",
    "x1 = flip_bit(x, 10)\n",
    "plain_dist = text_distance(x, x1)\n",
    "\n",
    "print('original plaintext:', x)\n",
    "print(' flipped plaintext:', x1)\n",
    "print('distance between plaintexts:', plain_dist)\n",
    "\n",
    "# encrypt both plaintexts and measure their distance\n",
    "y = aes.encrypt(x)\n",
    "y1 = aes.encrypt(x1)\n",
    "cipher_dist = text_distance(y, y1)\n",
    "print('original ciphertext:', y)\n",
    "print(' flipped ciphertext:', y1)\n",
    "print('distance between ciphertexts:', cipher_dist)"
   ]
  },
  {
   "cell_type": "markdown",
   "metadata": {
    "Collapsed": "false"
   },
   "source": [
    "#### MonteCarlo simulation (fixed key length)"
   ]
  },
  {
   "cell_type": "markdown",
   "metadata": {
    "Collapsed": "false"
   },
   "source": [
    "Once the code for a single trial is ready, we can repeat it for $N$ times.\n",
    "Here we consider the case for a single key length."
   ]
  },
  {
   "cell_type": "code",
   "execution_count": null,
   "metadata": {
    "Collapsed": "false"
   },
   "outputs": [],
   "source": [
    "def mcs_diffusion(key_length):\n",
    "    ''' perform a single trial of a MonteCarlo simulation that measure the \n",
    "    distance between two ciphertexts obtained by encrypting two plaintexts \n",
    "    that differ by only one bit by means of AES with a fixed key. \n",
    "    The key has length `key_length` bytes (int, (16, 24, 32)) '''\n",
    "    \n",
    "    # check key_length is allowed\n",
    "    assert key_length in AES.key_size\n",
    "    \n",
    "    # randomly generate a key and initiate AES cipher\n",
    "    key = bytes(random.randint(256, size=(key_length,), dtype='uint8'))\n",
    "    aes = AES.new(key, AES.MODE_ECB)\n",
    "    \n",
    "    # randomly generate a plaintext and flip a bit in a random position\n",
    "    x = bytes(random.randint(256, size=(AES.block_size,), dtype='uint8'))\n",
    "    x1 = flip_bit(x, random.randint(8*AES.block_size))\n",
    "    \n",
    "    # encrypt both plaintexts and measure their distance\n",
    "    y = aes.encrypt(x)\n",
    "    y1 = aes.encrypt(x1)\n",
    "    distance = text_distance(y, y1)\n",
    "    \n",
    "    return distance"
   ]
  },
  {
   "cell_type": "code",
   "execution_count": null,
   "metadata": {
    "Collapsed": "false"
   },
   "outputs": [],
   "source": [
    "N = 10000 # number of MonteCarlo trials\n",
    "key_length = 16 # key length in bytes (16, 24, 32)\n",
    "\n",
    "results = np.zeros((N,), dtype=int)\n",
    "for i in range(N):\n",
    "    results[i] = mcs_diffusion(key_length)\n",
    "    \n",
    "print('average: {}'.format(np.mean(results)))\n",
    "print('min, max: {}, {}'.format(min(results), max(results)))"
   ]
  },
  {
   "cell_type": "code",
   "execution_count": null,
   "metadata": {
    "Collapsed": "false"
   },
   "outputs": [],
   "source": [
    "fig, ax = plt.subplots(figsize=(8,4))\n",
    "ax.hist(results, bins=np.arange(1+8*AES.block_size), density=True)[0]\n",
    "ax.set(xticks=8*np.arange(AES.block_size+1, step=2))\n",
    "ax.set(title='distance distribution', xlabel='distance', ylabel='prob.density')\n",
    "ax.grid(True)\n",
    "fig.tight_layout()"
   ]
  },
  {
   "cell_type": "markdown",
   "metadata": {
    "Collapsed": "false"
   },
   "source": [
    "As we expected, we find that $\\text{d}(y,y')$ has a distribution concentrated in $N/2=64$."
   ]
  },
  {
   "cell_type": "markdown",
   "metadata": {
    "Collapsed": "false"
   },
   "source": [
    "#### Convergence"
   ]
  },
  {
   "cell_type": "markdown",
   "metadata": {
    "Collapsed": "false"
   },
   "source": [
    "We can characterize our distribution by considering its mean and standard deviation (stdev). So we will consider these two quantities to observe the convergence."
   ]
  },
  {
   "cell_type": "code",
   "execution_count": null,
   "metadata": {
    "Collapsed": "false"
   },
   "outputs": [],
   "source": [
    "mean = np.array([np.mean(results[:1+i]) for i in range(N)])\n",
    "stdev = np.array([np.std(results[:1+i]) for i in range(N)])"
   ]
  },
  {
   "cell_type": "code",
   "execution_count": null,
   "metadata": {
    "Collapsed": "false"
   },
   "outputs": [],
   "source": [
    "fig, (ax1, ax2) = plt.subplots(2, 1, figsize=(6,4), sharex=True)\n",
    "ax1.plot(1+np.arange(N), mean)\n",
    "ax2.plot(1+np.arange(N), stdev)\n",
    "\n",
    "ax1.set(title=\"mean and stdev of d($y$, $y$')\", ylabel='mean')\n",
    "ax2.set(xlabel='N', ylabel='stdev')\n",
    "for ax in (ax1, ax2):\n",
    "    ax.set(xscale='log')\n",
    "    ax.grid(True)\n",
    "fig.tight_layout(h_pad=0)"
   ]
  },
  {
   "cell_type": "markdown",
   "metadata": {
    "Collapsed": "false"
   },
   "source": [
    "As we expected the mean approaches to $N/2$ as the number of trials increases. On the contrary, we did not have any idea about the stdev and now it is evident that its estimate tend to a value slightly below 6."
   ]
  },
  {
   "cell_type": "markdown",
   "metadata": {
    "Collapsed": "false"
   },
   "source": [
    "So, let's observe their variation over $N$."
   ]
  },
  {
   "cell_type": "code",
   "execution_count": null,
   "metadata": {
    "Collapsed": "false"
   },
   "outputs": [],
   "source": [
    "from scipy import signal"
   ]
  },
  {
   "cell_type": "code",
   "execution_count": null,
   "metadata": {
    "Collapsed": "false"
   },
   "outputs": [],
   "source": [
    "dmean = np.diff(mean)\n",
    "dstdev = np.diff(stdev)"
   ]
  },
  {
   "cell_type": "code",
   "execution_count": null,
   "metadata": {
    "Collapsed": "false"
   },
   "outputs": [],
   "source": [
    "savgol_pars = {'window_length': 101, 'polyorder': 1}\n",
    "\n",
    "fig, (ax1, ax2) = plt.subplots(2, 1, figsize=(6,4), sharex=True)\n",
    "ax1.plot(2+np.arange(N-1), abs(dmean))\n",
    "ax1.plot(2+np.arange(N-1), signal.savgol_filter(abs(dmean), **savgol_pars))\n",
    "ax2.plot(2+np.arange(N-1), abs(dstdev))\n",
    "ax2.plot(2+np.arange(N-1), signal.savgol_filter(abs(dstdev), **savgol_pars))\n",
    "\n",
    "ax1.set(title=\"variation of mean and stdev of d($y$, $y$')\", ylabel='mean')\n",
    "ax2.set(xlabel='N', ylabel='stdev')\n",
    "for ax in (ax1, ax2):\n",
    "    ax.set(xscale='log', yscale='log')\n",
    "    ax.grid(True)\n",
    "fig.tight_layout(h_pad=0)"
   ]
  },
  {
   "cell_type": "markdown",
   "metadata": {
    "Collapsed": "false"
   },
   "source": [
    "#### MonteCarlo simulation"
   ]
  },
  {
   "cell_type": "markdown",
   "metadata": {
    "Collapsed": "false"
   },
   "source": [
    "Now we extend the analysis by considering all three values of key length allowed by the AES block cipher."
   ]
  },
  {
   "cell_type": "code",
   "execution_count": null,
   "metadata": {
    "Collapsed": "false"
   },
   "outputs": [],
   "source": [
    "N = 10000 # number of MonteCarlo trials"
   ]
  },
  {
   "cell_type": "code",
   "execution_count": null,
   "metadata": {
    "Collapsed": "false"
   },
   "outputs": [],
   "source": [
    "# building a dict where key lengths are the keys and the correspondant\n",
    "# results are the values.\n",
    "results = dict(\n",
    "    (key_length, np.array([mcs_diffusion(key_length) for _ in range(N)]))\n",
    "    for key_length in AES.key_size\n",
    ")\n",
    "\n",
    "display(results)\n",
    "\n",
    "# print summary table\n",
    "print('| key length | average | min | max |')\n",
    "print('|------------|---------|-----|-----|')\n",
    "for key_length, dist in results.items():\n",
    "    print('| {:10d} | {:7.3f} | {:3d} | {:3d} |'.format(\n",
    "        key_length, np.mean(dist), min(dist), max(dist)))\n",
    "    \n",
    "    "
   ]
  },
  {
   "cell_type": "code",
   "execution_count": null,
   "metadata": {
    "Collapsed": "false"
   },
   "outputs": [],
   "source": [
    "fig, axs = plt.subplots(1, len(results), figsize=(4*len(results),4), sharey=True)\n",
    "for ax, (key_length, dist) in zip(axs, results.items()):\n",
    "    ax.hist(dist, bins=np.arange(1+8*AES.block_size), density=True)[0]\n",
    "    ax.set(xticks=8*np.arange(AES.block_size+1, step=4))\n",
    "    ax.set(title='{}bit key'.format(8*key_length), xlabel='distance', )\n",
    "    ax.grid(True)\n",
    "\n",
    "axs[0].set(ylabel='prob.density')\n",
    "fig.tight_layout(w_pad=0)"
   ]
  },
  {
   "cell_type": "markdown",
   "metadata": {
    "Collapsed": "false"
   },
   "source": [
    "### Confusion"
   ]
  },
  {
   "cell_type": "markdown",
   "metadata": {
    "Collapsed": "false"
   },
   "source": [
    "- **Confusion**: *the relationship between the key and the ciphertext must be very complicated and impossible (hard) to invert.*\n",
    "\n",
    "At bit level, it means that each bit of the ciphertext depends on several parts of the key. As a result, if a single bit is changed in the key, many bits in the ciphertext change.\n",
    "\n",
    "Again, we want to assess qualitatively confusion of AES qualitatively."
   ]
  },
  {
   "cell_type": "code",
   "execution_count": null,
   "metadata": {
    "Collapsed": "false"
   },
   "outputs": [],
   "source": [
    "def mcs_confusion(key_length):\n",
    "    ''' perform a single trial of a MonteCarlo simulation that measure the \n",
    "    distance between two ciphertexts obtained by encrypting with AES the same \n",
    "    plaintext with two keys that differ by only one bit. \n",
    "    The key has length `key_length` bytes (int, (16, 24, 32)) '''\n",
    "    \n",
    "    # check key_length is allowed\n",
    "    assert key_length in AES.key_size\n",
    "    \n",
    "    # randomly generate a plaintext\n",
    "    x = bytes(random.randint(256, size=(AES.block_size,), dtype='uint8'))\n",
    "    \n",
    "    # randomly generate a key and initiate AES cipher\n",
    "    key = bytes(random.randint(256, size=(key_length,), dtype='uint8'))\n",
    "    aes = AES.new(key, AES.MODE_ECB)\n",
    "    # generate a second key by flipping one bit of the previous key\n",
    "    # and initiate a new AES cipher\n",
    "    key1 = flip_bit(text, random.randint(8*key_length))\n",
    "    aes1 = AES.new(key, AES.MODE_ECB)\n",
    "    \n",
    "    # encrypt both plaintexts and measure their distance\n",
    "    y = aes.encrypt(x)\n",
    "    y1 = aes1.encrypt(x1)\n",
    "    distance = text_distance(y, y1)\n",
    "    \n",
    "    return distance"
   ]
  },
  {
   "cell_type": "code",
   "execution_count": null,
   "metadata": {
    "Collapsed": "false"
   },
   "outputs": [],
   "source": [
    "N = 10000 # number of MonteCarlo trials"
   ]
  },
  {
   "cell_type": "code",
   "execution_count": null,
   "metadata": {
    "Collapsed": "false"
   },
   "outputs": [],
   "source": [
    "results = dict(\n",
    "    (key_length, np.array([mcs_diffusion(key_length) for _ in range(N)]))\n",
    "    for key_length in AES.key_size\n",
    ")\n",
    "\n",
    "display(results)\n",
    "\n",
    "# print summary table\n",
    "print('| key length | average | min | max |')\n",
    "print('|------------|---------|-----|-----|')\n",
    "for key_length, dist in results.items():\n",
    "    print('| {:10d} | {:7.3f} | {:3d} | {:3d} |'.format(\n",
    "        key_length, np.mean(dist), min(dist), max(dist)))"
   ]
  },
  {
   "cell_type": "code",
   "execution_count": null,
   "metadata": {
    "Collapsed": "false"
   },
   "outputs": [],
   "source": [
    "fig, axs = plt.subplots(1, len(results), figsize=(4*len(results),4), sharey=True)\n",
    "for ax, (key_length, dist) in zip(axs, results.items()):\n",
    "    ax.hist(dist, bins=np.arange(1+8*AES.block_size), density=True)[0]\n",
    "    ax.set(xticks=8*np.arange(AES.block_size+1, step=4))\n",
    "    ax.set(title='{}bit key'.format(8*key_length), xlabel='distance', )\n",
    "    ax.grid(True)\n",
    "\n",
    "axs[0].set(ylabel='prob.density')\n",
    "fig.tight_layout(w_pad=0)"
   ]
  }
 ],
 "metadata": {
  "kernelspec": {
   "display_name": "Python 3",
   "language": "python",
   "name": "python3"
  },
  "language_info": {
   "codemirror_mode": {
    "name": "ipython",
    "version": 3
   },
   "file_extension": ".py",
   "mimetype": "text/x-python",
   "name": "python",
   "nbconvert_exporter": "python",
   "pygments_lexer": "ipython3",
   "version": "3.8.1"
  }
 },
 "nbformat": 4,
 "nbformat_minor": 4
}
