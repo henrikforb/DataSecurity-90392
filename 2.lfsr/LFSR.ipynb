{
 "cells": [
  {
   "cell_type": "markdown",
   "metadata": {
    "Collapsed": "false",
    "toc-hr-collapsed": false
   },
   "source": [
    "# Linear-Feedback Shift Register (LFSR)"
   ]
  },
  {
   "cell_type": "markdown",
   "metadata": {
    "Collapsed": "false"
   },
   "source": [
    "In an LFSR, the output from a standard shift register is fed back into its input in such a way as to cause the function to endlessly cycle through a sequence of patterns.\n",
    "\n",
    "\n",
    "![LFSR](LFSR.png)\n",
    "\n",
    "\\\\(\n",
    "\\begin{align}\n",
    "    b[t]       = &\\; s_0[t] \\\\\n",
    "    s_j[t]     = &\\; s_{j+1}[t-1] \\\\\n",
    "    s_{m-1}[t] = &\\; \\oplus_{j=0}^{m-1} p_{m-j} \\otimes s_{j}[t-1] \\\\\n",
    "\\end{align}\n",
    "\\\\)"
   ]
  },
  {
   "cell_type": "markdown",
   "metadata": {
    "Collapsed": "false"
   },
   "source": [
    "**Example**:\n",
    "- LFSR length: 3\n",
    "- feeedback polynomial: \\\\( x^3 + x + 1 \\\\)\n",
    "- initial state: 0b111\n",
    "- LFSR cycle:\n",
    "|     state | output | feedback |\n",
    "|:---------:|:------:|:--------:|\n",
    "| 0b111 (7) |    1   |     0    |\n",
    "| 0b011 (3) |    1   |     1    |\n",
    "| 0b101 (5) |    1   |     0    |\n",
    "| 0b010 (2) |    0   |     0    |\n",
    "| 0b001 (1) |    1   |     1    |\n",
    "| 0b100 (4) |    0   |     1    |\n",
    "| 0b110 (6) |    0   |     1    |\n",
    "| 0b111 (7) |    1   |     0    |"
   ]
  },
  {
   "cell_type": "markdown",
   "metadata": {
    "Collapsed": "false",
    "toc-hr-collapsed": false
   },
   "source": [
    "## Task 1: LFSR generator"
   ]
  },
  {
   "cell_type": "markdown",
   "metadata": {
    "Collapsed": "false"
   },
   "source": [
    "> Define a **generator** that implements an LFSR. Given feeedback polynomial and an initial state, it generates an infinite stream of bit."
   ]
  },
  {
   "cell_type": "markdown",
   "metadata": {
    "Collapsed": "false"
   },
   "source": [
    "**Inputs**:\n",
    " - **Feedback Polynomial**: `list` of `int` representing the degrees of the non-zeros coefficients. Example: [12, 6, 4, 1, 0] represents the polynomial \\\\( x^{12}+x^6+x^4+x+1 \\\\).\n",
    " - **shift-register initial state** (optional, default all bits to 1): `int` or `list` of bits representing the LFSR initial state. Example: 0xA65 for 0b101001100101.\n",
    " \n",
    "**Yield**:\n",
    "- **Output bit**: `bool` representing the LFSR output bit\n",
    "\n",
    "**Template**:\n",
    "```python\n",
    "def lfsr_generator(poly, state=None):\n",
    "    ''' generator docstring '''\n",
    "    \n",
    "    # check inputs validity\n",
    "    # define variables storing the internal state\n",
    "    \n",
    "    while True:\n",
    "        # LFSR iteration:\n",
    "        # - update state\n",
    "        # - compute output\n",
    "        yield output\n",
    "```"
   ]
  },
  {
   "cell_type": "markdown",
   "metadata": {
    "Collapsed": "false"
   },
   "source": [
    "### implentation with lists"
   ]
  },
  {
   "cell_type": "markdown",
   "metadata": {
    "Collapsed": "false"
   },
   "source": [
    "In this first implementation both the shift register `state` and the feedback polynomial `poly` are `list` of `bool`. This is the most straightforward choice as it directly maps the LFSR block scheme.\n",
    "\n",
    "| variable/<br>operation | &nbsp; &nbsp; &nbsp; &nbsp; definition &nbsp; &nbsp; &nbsp; &nbsp; | implementation |\n",
    "|:-:|:-:|:--|\n",
    "| feeedback <br> polynomial | &nbsp; \\\\( x^3 + x + 1 \\\\) | `poly = [True, True, False, True]` |\n",
    "| initial state | 0b111 | `state = [True, True, True]` |\n",
    "| state update | &nbsp; \\\\( s_j[t] = s_{j+1}[t-1] \\\\) | `state = state[1:] + [feedback]`\n",
    "|\n",
    "| output bit | &nbsp; \\\\( s_0[t] \\\\) | `output = state[0]` |\n",
    "| feedback bit | &nbsp; \\\\( \\oplus_{j=0}^{m-1} p_{m-j} \\otimes s_{j}[t] \\\\) &nbsp; | `feedback = reduce(xor, compress(state[::-1], poly[1:]))` |"
   ]
  },
  {
   "cell_type": "code",
   "execution_count": 3,
   "metadata": {
    "Collapsed": "false"
   },
   "outputs": [],
   "source": [
    "# xor and reduce from the built-in library operator and functools allows us to\n",
    "# compute the parity of a bitstring in a nice and clean way\n",
    "from operator import xor\n",
    "from functools import reduce\n",
    "from itertools import compress\n",
    "\n",
    "def lfsr_generator(poly, state=None, verbose=False):\n",
    "    '''\n",
    "    Generator implementing a Linear Feedback Shift Register (LFSR)\n",
    "    \n",
    "    Parameters\n",
    "    ----------\n",
    "    poly: list of int,\n",
    "        feedback polynomial expressed as list of integers corresponding to\n",
    "        the degrees of the non-zero coefficients.\n",
    "    state: int, optional (default=None),\n",
    "        shift register initial state. If None, all bits of state are set to 1.\n",
    "    verbose: bool, optional (default=False),\n",
    "        If True, the internal state is printed at each iteration\n",
    "    \n",
    "    Return\n",
    "    ------\n",
    "    bool, LFSR output bit\n",
    "    '''\n",
    "    \n",
    "\n",
    "    if verbose:\n",
    "        print_lfsr = lambda b, s, f, l: print('{} ({})  {}  {}'.format(\n",
    "            ''.join(str(int(b)) for b in state)[::-1], \n",
    "            int(''.join(str(int(b)) for b in state)[::-1], 2), \n",
    "            int(b), int(f),\n",
    "        ))\n",
    "    \n",
    "    # compute LFSR length as the max degree of the feedback polynomial\n",
    "    length = max(poly)\n",
    "    \n",
    "    # both poly and state stored as list of bool\n",
    "    poly = [i in poly for i in range(length+1)]\n",
    "    \n",
    "    if state is None:\n",
    "        # default value for state is all ones (True)\n",
    "        state = [True for _ in range(length)]\n",
    "    else:\n",
    "        # convert integer to list of bool\n",
    "        state = [bool(int(b)) for b in '{:0{}b}'.format(state, length)[::-1]]\n",
    "        \n",
    "    output = state[0]\n",
    "    feedback = reduce(xor, compress(state[::-1], poly[1:]))\n",
    "    \n",
    "    if verbose: print(' state   b fb')\n",
    "    if verbose: print_lfsr(output, state, feedback, length)\n",
    "    \n",
    "    # infinite loop\n",
    "    while True:\n",
    "        # update state by feeding with the feedback bit \n",
    "        state = state[1:] + [feedback]\n",
    "        # get output from current state\n",
    "        output = state[0]\n",
    "        # update feedback bit \n",
    "        feedback = reduce(xor, compress(state[::-1], poly[1:]))\n",
    "        \n",
    "        if verbose: print_lfsr(output, state, feedback, length)\n",
    "        \n",
    "        yield output"
   ]
  },
  {
   "cell_type": "code",
   "execution_count": 4,
   "metadata": {
    "Collapsed": "false"
   },
   "outputs": [
    {
     "name": "stdout",
     "output_type": "stream",
     "text": [
      " state   b fb\n",
      "111 (7)  1  0\n",
      "011 (3)  1  1\n",
      "101 (5)  1  0\n",
      "010 (2)  0  0\n",
      "001 (1)  1  1\n",
      "100 (4)  0  1\n",
      "110 (6)  0  1\n",
      "111 (7)  1  0\n"
     ]
    }
   ],
   "source": [
    "# islice from the built-in itertools library allows you to perdorm a finite\n",
    "# number of iteration on a iterator with infinite elements \n",
    "from itertools import islice\n",
    "\n",
    "poly = [3, 1, 0] # feedback polynomial x^3 + x + 1\n",
    "state = 0x7      # initial state\n",
    "lfsr = lfsr_generator(poly, state, verbose=True) # lfsr definition\n",
    "\n",
    "niter = 7        # number of iterations\n",
    "\n",
    "# just iter over the LFSR generator to see the printed internal status\n",
    "for b in islice(lfsr, niter):\n",
    "    pass"
   ]
  },
  {
   "cell_type": "markdown",
   "metadata": {
    "Collapsed": "false"
   },
   "source": [
    "### implentation with integers"
   ]
  },
  {
   "cell_type": "markdown",
   "metadata": {
    "Collapsed": "false"
   },
   "source": [
    "In this first implementation both the shift register `state` and the feedback polynomial `poly` are `int`. With this choice, bit-wise logical operation, as well as bit-shift, are easy to perform, while XOR of multiple bits or reversing the bit order are less straightforward.\n",
    "\n",
    "| variable/<br>operation | &nbsp; &nbsp; &nbsp; &nbsp; definition &nbsp; &nbsp; &nbsp; &nbsp; | implementation |\n",
    "|:-:|:-:|:--|\n",
    "| feeedback <br> polynomial | &nbsp; \\\\( x^3 + x + 1 \\\\) | `poly = 0b1011`, `length = 3` |\n",
    "| initial state | 0b111 | `state = 0b111` |\n",
    "| state update | &nbsp; \\\\( s_j[t] = s_{j+1}[t-1] \\\\) | `statemask = (1 << length) - 1` <br> `state = ((state << 1) \\| feedback) & statemask`\n",
    "|\n",
    "| output bit | &nbsp; \\\\( s_0[t] \\\\) | `outmask = 1 << (length-1)` <br> `output = bool(state & outmask)` |\n",
    "| feedback bit | &nbsp; \\\\( \\oplus_{j=0}^{m-1} p_{m-j} \\otimes s_{j}[t] \\\\) &nbsp; | `feedback = parity(state & poly)` |"
   ]
  },
  {
   "cell_type": "code",
   "execution_count": 5,
   "metadata": {
    "Collapsed": "false"
   },
   "outputs": [],
   "source": [
    "def lfsr_generator(poly, state=None, verbose=False):\n",
    "    '''\n",
    "    Generator implementing a Linear Feedback Shift Register (LFSR)\n",
    "    \n",
    "    Parameters\n",
    "    ----------\n",
    "    poly: list of int,\n",
    "        feedback polynomial expressed as list of integers corresponding to\n",
    "        the degrees of the non-zero coefficients.\n",
    "    state: int, optional (default=None),\n",
    "        shift register initial state. If None, all bits of state are set to 1.\n",
    "    verbose: bool, optional (default=False),\n",
    "        If True, the internal state is printed at each iteration\n",
    "    \n",
    "    Return\n",
    "    ------\n",
    "    bool, LFSR output bit\n",
    "    '''\n",
    "    \n",
    "    # reverse takes an integer and returns the integer obtained by reversing\n",
    "    # all bits (e.g., input: 11 = 0b1011 -> output: 13 = 0b1101)\n",
    "    reverse = lambda x, n: int('{:0{n}b}'.format(x, n=n)[::-1], 2)\n",
    "    # parity compute the parity bit ('0' even number of '1', '1' odd number\n",
    "    # of '1') of an integer (e.g., input: 11 = 0b1011 -> output: True)\n",
    "    parity = lambda x: bool(sum(int(b) for b in '{:b}'.format(x)) % 2)\n",
    "    \n",
    "    # print internal status in case verbose is set\n",
    "    if verbose:\n",
    "        print_lfsr = lambda b, s, f, l: print('{:0{}b} ({})  {}  {}'.format(\n",
    "            reverse(s, l), l, reverse(s, l), int(b), int(f),))\n",
    "    \n",
    "    # compute LFSR length as the max degree of the feedback polynomial\n",
    "    length = max(poly)\n",
    "    # since state is kept as integer masks are needed\n",
    "    outmask = 1 << (length-1)\n",
    "    statemask = (1 << length) - 1\n",
    "    \n",
    "    # also poly stored as integer, ignoring first coefficient (always 1)\n",
    "    poly = sum([2**p for p in poly]) >> 1\n",
    "    \n",
    "    # default value for state is all ones\n",
    "    if state is None:\n",
    "        state = statemask\n",
    "    # reverse the bit order of state\n",
    "    state = reverse(state, length)\n",
    "    # get output from current state\n",
    "    output = bool(state & outmask)\n",
    "    # compute feedback bit as the parity bit (xor over each element)\n",
    "    feedback = parity(state & poly)\n",
    "    \n",
    "    if verbose: print(' state   b fb')\n",
    "    if verbose: print_lfsr(output, state, feedback, length)\n",
    "    \n",
    "    # infinite loop\n",
    "    while True:\n",
    "        # update state by feeding with the feedback bit \n",
    "        state = ((state << 1) | feedback) & statemask\n",
    "        # get output from current state\n",
    "        output = bool(state & outmask)\n",
    "        # update feedback bit \n",
    "        feedback = parity(state & poly) \n",
    "        \n",
    "        if verbose: print_lfsr(output, state, feedback, length)\n",
    "        \n",
    "        yield output"
   ]
  },
  {
   "cell_type": "code",
   "execution_count": 6,
   "metadata": {
    "Collapsed": "false"
   },
   "outputs": [
    {
     "name": "stdout",
     "output_type": "stream",
     "text": [
      " state   b fb\n",
      "111 (7)  1  0\n",
      "011 (3)  1  1\n",
      "101 (5)  1  0\n",
      "010 (2)  0  0\n",
      "001 (1)  1  1\n",
      "100 (4)  0  1\n",
      "110 (6)  0  1\n",
      "111 (7)  1  0\n"
     ]
    }
   ],
   "source": [
    "# islice from the built-in itertools library allows you to perdorm a finite\n",
    "# number of iteration on a iterator with infinite elements \n",
    "from itertools import islice\n",
    "\n",
    "poly = [3, 1, 0] # feedback polynomial x^3 + x + 1\n",
    "state = 0x7      # initial state\n",
    "lfsr = lfsr_generator(poly, state, verbose=True) # lfsr definition\n",
    "\n",
    "niter = 7        # number of iterations\n",
    "\n",
    "# just iter over the LFSR generator to see the printed internal status\n",
    "for b in islice(lfsr, niter):\n",
    "    pass"
   ]
  },
  {
   "cell_type": "code",
   "execution_count": 7,
   "metadata": {
    "Collapsed": "false"
   },
   "outputs": [
    {
     "name": "stdout",
     "output_type": "stream",
     "text": [
      "1101001110100111010011101001110100111010011101001110100111010011101001110100111010011101001110100111\n"
     ]
    }
   ],
   "source": [
    "# now we can use it to generate a random bit string\n",
    "\n",
    "nbits = 100 # number of bits to generate\n",
    "lfsr = lfsr_generator(poly, state) # lfsr definition\n",
    "\n",
    "# iter over LFSR and store its output in a list\n",
    "bits = [b for b in islice(lfsr_generator(poly, state), nbits)]\n",
    "\n",
    "print(''.join([str(int(b)) for b in bits])) # each bool converted to '0'/'1'"
   ]
  },
  {
   "cell_type": "markdown",
   "metadata": {
    "Collapsed": "false"
   },
   "source": [
    "### implementation with bitstream"
   ]
  },
  {
   "cell_type": "markdown",
   "metadata": {
    "Collapsed": "false"
   },
   "source": [
    "We can also try to implement an LFSR by using the classes `Bits` and `Bitarray` defined in the third-part package [`bitstring`](https://github.com/scott-griffiths/bitstring). Both Bits and Bitarray are containers for binary data but the former is immutable while the latter is mutable. Thanks to these two classes, you can manage bits as if they were either list of bool or int.\n",
    "\n",
    "| variable/<br>operation | &nbsp; &nbsp; &nbsp; &nbsp; definition &nbsp; &nbsp; &nbsp; &nbsp; | implementation |\n",
    "|:-:|:-:|:--|\n",
    "| feeedback <br> polynomial | &nbsp; \\\\( x^3 + x + 1 \\\\) | `length = 3` <br> `Bits(uint=0b1101, length=length+1)` |\n",
    "| initial state | 0b111 | `BitArray(uint=0b111, length=length)` |\n",
    "| state update | &nbsp; \\\\( s_j[t] = s_{j+1}[t-1] \\\\) | `state.ror(1)` <br> `state[0] = feedback`\n",
    "|\n",
    "| output bit | &nbsp; \\\\( s_0[t] \\\\) | `output = state[-1]` |\n",
    "| feedback bit | &nbsp; \\\\( \\oplus_{j=0}^{m-1} p_{m-j} \\otimes s_{j}[t] \\\\) &nbsp; | `feedback = reduce(xor, state[::-1] & poly[:-1])` |"
   ]
  },
  {
   "cell_type": "code",
   "execution_count": 8,
   "metadata": {
    "Collapsed": "false"
   },
   "outputs": [],
   "source": [
    "# Bits is a immutable object that can be used for the feedback polynomial\n",
    "# BitArray is a mutable object that can be used to deal with the LFSR state\n",
    "from bitstring import Bits, BitArray\n",
    "\n",
    "# xor and reduce from the built-in library operator and functools allows us to\n",
    "# compute the parity of a bitstring in a nice and clean way\n",
    "from operator import xor\n",
    "from functools import reduce\n",
    "\n",
    "\n",
    "def lfsr_generator(poly, state=None, verbose=False):\n",
    "    '''\n",
    "    Generator implementing a Linear Feedback Shift Register (LFSR)\n",
    "    \n",
    "    Parameters\n",
    "    ----------\n",
    "    poly: list of int,\n",
    "        feedback polynomial expressed as list of integers corresponding to\n",
    "        the degrees of the non-zero coefficients.\n",
    "    state: int, optional (default=None),\n",
    "        shift register initial state. If None, all bits of state are set to 1.\n",
    "    verbose: bool, optional (default=False),\n",
    "        If True, the internal state is printed at each iteration\n",
    "    \n",
    "    Return\n",
    "    ------\n",
    "    bool, LFSR output bit\n",
    "    '''\n",
    "    \n",
    "    if verbose:\n",
    "        print_lfsr = lambda b, s, f, l: print('{} ({})  {}  {}'.format(\n",
    "            s.bin, s.uint, int(b), int(f),))\n",
    "    \n",
    "    length = max(poly)\n",
    "    poly = Bits(uint=sum([2**p for p in poly]), length=length+1)\n",
    "    \n",
    "    if state is None:\n",
    "        state = BitArray([True for i in range(length)])\n",
    "    else:\n",
    "        state = BitArray(uint=state, length=length)\n",
    "    \n",
    "    output = state[-1]\n",
    "    feedback = reduce(xor, state[::-1] & poly[:-1])\n",
    "    \n",
    "    if verbose: print(' state   b fb')\n",
    "    if verbose: print_lfsr(output, state, feedback, length)\n",
    "        \n",
    "    while True:\n",
    "        # update state by feeding with the feedback bit \n",
    "        state.ror(1)\n",
    "        state[0] = feedback\n",
    "        # get output from current state\n",
    "        output = state[-1]\n",
    "        # update feedback bit \n",
    "        feedback = reduce(xor, state[::-1] & poly[:-1])\n",
    "        \n",
    "        if verbose: print_lfsr(output, state, feedback, length)\n",
    "            \n",
    "        yield output"
   ]
  },
  {
   "cell_type": "code",
   "execution_count": 9,
   "metadata": {
    "Collapsed": "false"
   },
   "outputs": [
    {
     "name": "stdout",
     "output_type": "stream",
     "text": [
      " state   b fb\n",
      "111 (7)  1  0\n",
      "011 (3)  1  1\n",
      "101 (5)  1  0\n",
      "010 (2)  0  0\n",
      "001 (1)  1  1\n",
      "100 (4)  0  1\n",
      "110 (6)  0  1\n",
      "111 (7)  1  0\n"
     ]
    }
   ],
   "source": [
    "from itertools import islice\n",
    "\n",
    "poly = [3, 1, 0] # feedback polynomial x^3 + x + 1\n",
    "state = 0x7      # initial state\n",
    "\n",
    "niter = 7        # number of iterations\n",
    "\n",
    "for b in islice(lfsr_generator(poly, state, verbose=True), niter):\n",
    "    pass"
   ]
  },
  {
   "cell_type": "code",
   "execution_count": 10,
   "metadata": {
    "Collapsed": "false"
   },
   "outputs": [
    {
     "name": "stdout",
     "output_type": "stream",
     "text": [
      "1101001110100111010011101001110100111010011101001110100111010011101001110100111010011101001110100111\n"
     ]
    }
   ],
   "source": [
    "nbits = 100\n",
    "lfsr = lfsr_generator(poly, state)\n",
    "\n",
    "bits = [b for b in islice(lfsr, nbits)]\n",
    "\n",
    "print(''.join([str(int(b)) for b in bits])) # each bool converted to '0'/'1'"
   ]
  },
  {
   "cell_type": "markdown",
   "metadata": {
    "Collapsed": "false",
    "toc-hr-collapsed": false
   },
   "source": [
    "## Task 2: LFSR Iterator"
   ]
  },
  {
   "cell_type": "markdown",
   "metadata": {
    "Collapsed": "false"
   },
   "source": [
    "> Transform the LFSR generator in an **iterator**, so that it is possible to access to the internal state."
   ]
  },
  {
   "cell_type": "markdown",
   "metadata": {
    "Collapsed": "false"
   },
   "source": [
    "**Inputs**:\n",
    " - **Feedback Polynomial**: `list` of `int` representing the degrees of the non-zeros coefficients. Example: [12, 6, 4, 1, 0] represents the polynomial \\\\(x^{12}+x^6+x^4+x+1\\\\).\n",
    " - **shift-register initial state** (optional, default all bits to 1): `int` or `list` of bits representing the LFSR initial state. Example: 0xA65 for 0b101001100101.\n",
    " \n",
    "**Attributes**:\n",
    "- `poly`: (`list` of `int`) list of the polynomial coefficients;\n",
    "- `length`: (`int`) polynomial degree and length of the shift register;\n",
    "- `state`: (`int`) LFSR state;\n",
    "- `output`: (`bool`) output bit;\n",
    "- `feedback`: (`bool`) feedback bit.\n",
    " \n",
    "**Methods**:\n",
    "- `__init__`: class constructor;\n",
    "- `__iter__`: necessary to be an iterable;\n",
    "- `__next__`: update LFSR state and returns output bit;\n",
    "- `cycle`: returns a list of bool representing the full LFSR cycle ;\n",
    "- `run_steps`: execute N LFSR steps and returns the corresponding output as list of bool (N is a input parameter, default N=1);\n",
    "- `__str__`: return a string describing the LFSR class instance.\n",
    "\n",
    "\n",
    "**Template**:\n",
    "```python\n",
    "class LFSR(object):\n",
    "    ''' class docstring '''\n",
    "\n",
    "    def __init__(self, poly, state=None):\n",
    "        ''' constructor docstring '''\n",
    "        ...\n",
    "        self.poly = ... \n",
    "        self.length = ... \n",
    "        self.state = ... \n",
    "        self.output = ... \n",
    "        self.feedback = ...\n",
    "\n",
    "    def __iter__(self): \n",
    "        return self\n",
    "\n",
    "    def __next__(self): \n",
    "        ''' next docstring ''' \n",
    "        ... \n",
    "        return self.output\n",
    "\n",
    "    def run_steps(self, N=1): \n",
    "        ''' run_steps docstring ''' \n",
    "        ... \n",
    "        return list_of_bool\n",
    "\n",
    "    def cycle(self, state=None): \n",
    "        ''' cycle docstring ''' \n",
    "        ... \n",
    "        return list_of_bool\n",
    "```"
   ]
  },
  {
   "cell_type": "code",
   "execution_count": 12,
   "metadata": {
    "Collapsed": "false"
   },
   "outputs": [],
   "source": [
    "class LFSR(object):\n",
    "    '''\n",
    "    Class implementing a Linear Feedback Shift Register (LFSR)\n",
    "    \n",
    "    Attributes\n",
    "    ----------\n",
    "    poly: list of int,\n",
    "        feedback polynomial expressed as list of integers corresponding to\n",
    "        the degrees of the non-zero coefficients.\n",
    "    state: int, bytes,\n",
    "        state of the shift register. bytes are considered little endian.\n",
    "    output: bool,\n",
    "        last shift register output,\n",
    "    length: int,\n",
    "        length of the shift register as well as  maximum degree of the feedback\n",
    "        polynomial.\n",
    "    \n",
    "    Methods\n",
    "    -------\n",
    "    run_steps(self, N=1)\n",
    "        Execute multiple LFSR steps\n",
    "    cycle(self, state=None)\n",
    "        Execute a full cycle.\n",
    "    \n",
    "    '''\n",
    "    \n",
    "    def __init__(self, poly, state=None):\n",
    "        '''\n",
    "        Parameters\n",
    "        ----------\n",
    "        poly: list of int/bool, string,\n",
    "            feedback polynomial expressed as list of integers corresponding to\n",
    "            the degrees of the non-zero coefficients, or as list of 0/1\n",
    "            coefficients in the form of list of bools or string.\n",
    "        state: int, list of int/bool, string, optional (default=None)\n",
    "            shift register initial state expressed as integer or as bit\n",
    "            sequence in the form of list of bool or string.\n",
    "            If None, state is set to all ones.\n",
    "        '''\n",
    "        if hasattr(poly, '__iter__') and len(poly) > 1:\n",
    "            if all(int(p) in (0, 1) for p in poly):\n",
    "                length = len(poly)\n",
    "                _poly = sum([int(p) << i for i, p in enumerate(poly)])\n",
    "            elif all(type(p) is int for p in poly):\n",
    "                length = max(poly)\n",
    "                _poly = sum([2**p for p in poly])\n",
    "            else:\n",
    "                raise TypeError('input type is not supported')\n",
    "        else:\n",
    "            raise TypeError('input type is not supported')\n",
    "\n",
    "        self._statemask = (1 << length) - 1\n",
    "        self._outmask = 1 << (length-1)\n",
    "        \n",
    "        if state is None:\n",
    "            state = self._statemask\n",
    "            \n",
    "        self._poly = _poly >> 1\n",
    "        self._len = length\n",
    "        self.state = state\n",
    "        self._feedback = self.parity(self._state & self._poly) \n",
    "        self._output = bool(self._state & self._outmask)\n",
    "\n",
    "    @property\n",
    "    def state(self):\n",
    "        return self.reverse(self._state, len(self))\n",
    "    \n",
    "    @state.setter\n",
    "    def state(self, state):\n",
    "        if isinstance(state, int):\n",
    "            _state = state\n",
    "        elif isinstance(state, (bytes, bytearray)):\n",
    "            _state = int.from_bytes(state, byteorder='little')\n",
    "        elif hasattr(state, '__iter__')\\\n",
    "            and all(int(p) in (0, 1) for s in state):\n",
    "            _state = sum([int(s) << i for i, s in enumerate(state)])\n",
    "        else:\n",
    "            raise TypeError('input type is not supported')\n",
    "        self._state = self.reverse(_state & self._statemask, len(self))\n",
    "\n",
    "    @property\n",
    "    def len(self):\n",
    "        return self._len\n",
    "    \n",
    "    @len.setter\n",
    "    def len(self, val):\n",
    "        raise AttributeError('Denied')\n",
    "    \n",
    "    @property\n",
    "    def poly(self):\n",
    "        poly_bin = '{:0{}b}'.format(self._poly, len(self))[::-1]\n",
    "        poly = [0] + [i+1 for i, b in enumerate(poly_bin) if int(b) > 0]\n",
    "        return list(reversed(poly))\n",
    "    \n",
    "    @poly.setter\n",
    "    def poly(self, poly):\n",
    "        raise AttributeError('Denied')\n",
    "\n",
    "    @property\n",
    "    def output(self):\n",
    "        return self._output\n",
    "    \n",
    "    @output.setter\n",
    "    def output(self, val):\n",
    "        raise AttributeError('Denied')\n",
    "\n",
    "    @property\n",
    "    def feedback(self):\n",
    "        return self._feedback\n",
    "    \n",
    "    @feedback.setter\n",
    "    def feedback(self, feedback):\n",
    "        if not (type(feedback) is bool):\n",
    "            raise TypeError('feedback must be bool')\n",
    "        self._feedback = feedback\n",
    "        \n",
    "    def __str__(self):\n",
    "        poly_str = ' + '.join(\n",
    "            [('x^'+str(d) if d > 1 else 'x' if d == 1 else '1') \n",
    "             for d in self.poly])\n",
    "        output = None if self.output is None else int(self.output)\n",
    "        _str = 'poly: \"{}\", state: 0x{:0{}x}, output: {}'\\\n",
    "            .format(poly_str, self.state, (self.len+1)//4, output)\n",
    "        return _str\n",
    "        \n",
    "    def __repr__(self):\n",
    "        return 'LSFR({})'.format(self.__str__())\n",
    "    \n",
    "    def __len__(self):\n",
    "        return self.len\n",
    "    \n",
    "    def __iter__(self):\n",
    "        return self\n",
    "    \n",
    "    def __next__(self):\n",
    "        '''Execute a LFSR step and returns the output bit (bool)'''\n",
    "        self._state = ((self._state << 1) | self._feedback) & self._statemask\n",
    "        self._output = bool(self._state & self._outmask)\n",
    "        self._feedback = self.parity(self._state & self._poly) \n",
    "        return self._output\n",
    "    \n",
    "    def run_steps(self, N=1):\n",
    "        '''\n",
    "        Execute multiple LFSR steps.\n",
    "        \n",
    "        Parameters\n",
    "        ----------\n",
    "        N: int, optional (default=1)\n",
    "            number of steps to execute.\n",
    "        \n",
    "        Output\n",
    "        ------\n",
    "        list of bool (len=N),\n",
    "            LFSR output bit stream.\n",
    "        '''\n",
    "        return [next(self) for _ in range(N)]\n",
    "#         return [b for b in islice(self, N)]\n",
    "   \n",
    "    def cycle(self, state=None):\n",
    "        '''\n",
    "        Execute a full LFSR cycle (LFSR.len steps).\n",
    "        \n",
    "        Parameters\n",
    "        ----------\n",
    "        state: int or list of int or bools, optional (default=None)\n",
    "            shift register state. If None, state is kept as is.\n",
    "        \n",
    "        Output\n",
    "        ------\n",
    "        list of bool (len=2**myLFSR.len - 1),\n",
    "            LFSR output bit stream.\n",
    "        '''\n",
    "        if state is not None:\n",
    "            self.state = state\n",
    "        return self.run_steps(N=int(2**self.len) - 1)\n",
    "    \n",
    "    @staticmethod\n",
    "    def parity(x):\n",
    "        '''Returns the parity bit (bool) of the input `x` (int)'''\n",
    "        return bool(sum(int(b) for b in '{:b}'.format(x)) % 2)\n",
    "    \n",
    "    @staticmethod\n",
    "    def reverse(x, n):\n",
    "        '''Reverses the order of the `n` (int) bits in the input `x` (int)'''\n",
    "        return int('{:0{}b}'.format(x, n)[::-1], 2)\n"
   ]
  },
  {
   "cell_type": "code",
   "execution_count": 13,
   "metadata": {
    "Collapsed": "false"
   },
   "outputs": [
    {
     "name": "stdout",
     "output_type": "stream",
     "text": [
      " state   b fb\n",
      "111 (7)  1  0\n",
      "011 (3)  1  1\n",
      "101 (5)  1  0\n",
      "010 (2)  0  0\n",
      "001 (1)  1  1\n",
      "100 (4)  0  1\n",
      "110 (6)  0  1\n",
      "111 (7)  1  0\n"
     ]
    }
   ],
   "source": [
    "poly = [3, 1, 0] # feedback polynomial x^3 + x + 1\n",
    "state = 0x7      # initial state\n",
    "\n",
    "niter = 7        # number of iterations\n",
    "\n",
    "\n",
    "print_lfsr = lambda lfsr: print('{:0{}b} ({:d})  {:d}  {:d}'.format(\n",
    "    lfsr.state, len(lfsr), lfsr.state, int(lfsr.output), int(lfsr.feedback)))\n",
    "\n",
    "# create and instance of the LFSR\n",
    "lfsr = LFSR(poly, state)\n",
    "\n",
    "print(' state   b fb')\n",
    "print_lfsr(lfsr)\n",
    "for b in islice(lfsr, niter):\n",
    "    print_lfsr(lfsr)"
   ]
  },
  {
   "cell_type": "markdown",
   "metadata": {
    "Collapsed": "false"
   },
   "source": [
    "## Task 3: Comparison with pylfsr"
   ]
  },
  {
   "cell_type": "markdown",
   "metadata": {
    "Collapsed": "false"
   },
   "source": [
    "> Compare the LFSR iterator with the one provided by the pylfsr Python package.\n"
   ]
  },
  {
   "cell_type": "markdown",
   "metadata": {
    "Collapsed": "false"
   },
   "source": [
    "[`pylfsr`](https://github.com/Nikeshbajaj/Linear_Feedback_Shift_Register) implements a class `LFSR` similar to the one implemented above. Here are some of the methods available in the that class:\n",
    "- `next()`: run one cycle on LFSR with given feedback polynomial and update the state, feedback bit, and output bit.\n",
    "- `runKCycle(k)`: run k cycles and update all the Parameters.\n",
    "- `runFullCycle()`: run full cycle ( = 2^M-1, where M is the poly degree)\n",
    "- `info()`: display the information about LFSR\n"
   ]
  },
  {
   "cell_type": "code",
   "execution_count": 15,
   "metadata": {
    "Collapsed": "false"
   },
   "outputs": [],
   "source": [
    "from pylfsr import LFSR as pyLFSR"
   ]
  },
  {
   "cell_type": "code",
   "execution_count": 16,
   "metadata": {
    "Collapsed": "false"
   },
   "outputs": [
    {
     "name": "stdout",
     "output_type": "stream",
     "text": [
      "poly: [11, 2, 0], state: 0x7ff\n",
      "\n",
      "**** myLFSR ****\n",
      "poly: \"x^11 + x^2 + 1\", state: 0x7ff, output: 1\n",
      "1111111111001100110010110100101110001011100101000110100010100100000100001010100000010001010101111101110110011100100101100001011100000010011111111010011001101111000011100111111001011001101000111100010100110101110100100011011110101101100100011100001010011111101111001100011000011111000000110010101011010001000111010111110010001100101111100001001100000010110101010001110111010110001101110000011100101010011110111010011011000101101101011100011101100000110110101011011011101101101100011100011111001010011000010000111111010100110010001011010000010010000000101111111110110011001110000111100101011001011101101000110110111110001110011010110000111011010100111000100001101011111100010011001010000111101111110011100110000110100101011011110111000110001101011010110111000100100111110100001100100000011110101010011011101111000110110010100100101110100001001110101000011011101010010011101111010011100111010011110010000110000101011010100010010001010000101000101011101011101100010011100000101100000001001010101000010001000000101000000001000000000010101010101110111011100100111001011110010111001111011000011000111111000001100111111100001100110101001011011101000111001000001101000000011101010101100010001001010000010111010101110010001001111010111100111011001011000111101101011001001000111101000001100010101001010001000010000010101111111011100110010011110000101100101011100001000110101000001110111111100100110011110100101100100001001011111101000110011101011010011101101111001001001101000010110111111011011001101101101001001001000010111101010001100010000011111010101100111011100001101100000011100000000110101010100100010001011111010111001101110010110110000100100101011110100010011011111010010011000101111000001001101010111100010001100000101001010100010111011111011000110010010100101111011110110010011011010000111000101011000001000111111101011001100010010110101111011011100111000110100111110001011001111101101001100011101001010011101000101100010100011111011111001101100111100011110011111001111001101001101001000011101000000110111111110001100110000011110000000110000000001\n",
      "\n",
      "**** pyLFSR ****\n",
      "11 bit LFSR with feedback polynomial  x^11 + x^2 + 1\n",
      "Expected Period (if polynomial is primitive) =  2047\n",
      "Current :\n",
      " State        :  [1 1 1 1 1 1 1 1 1 1 1]\n",
      " Count        :  0\n",
      " Output bit   :  -1\n",
      " feedback bit :  -1\n",
      "1111111111001100110010110100101110001011100101000110100010100100000100001010100000010001010101111101110110011100100101100001011100000010011111111010011001101111000011100111111001011001101000111100010100110101110100100011011110101101100100011100001010011111101111001100011000011111000000110010101011010001000111010111110010001100101111100001001100000010110101010001110111010110001101110000011100101010011110111010011011000101101101011100011101100000110110101011011011101101101100011100011111001010011000010000111111010100110010001011010000010010000000101111111110110011001110000111100101011001011101101000110110111110001110011010110000111011010100111000100001101011111100010011001010000111101111110011100110000110100101011011110111000110001101011010110111000100100111110100001100100000011110101010011011101111000110110010100100101110100001001110101000011011101010010011101111010011100111010011110010000110000101011010100010010001010000101000101011101011101100010011100000101100000001001010101000010001000000101000000001000000000010101010101110111011100100111001011110010111001111011000011000111111000001100111111100001100110101001011011101000111001000001101000000011101010101100010001001010000010111010101110010001001111010111100111011001011000111101101011001001000111101000001100010101001010001000010000010101111111011100110010011110000101100101011100001000110101000001110111111100100110011110100101100100001001011111101000110011101011010011101101111001001001101000010110111111011011001101101101001001001000010111101010001100010000011111010101100111011100001101100000011100000000110101010100100010001011111010111001101110010110110000100100101011110100010011011111010010011000101111000001001101010111100010001100000101001010100010111011111011000110010010100101111011110110010011011010000111000101011000001000111111101011001100010010110101111011011100111000110100111110001011001111101101001100011101001010011101000101100010100011111011111001101100111100011110011111001111001101001101001000011101000000110111111110001100110000011110000000110000000001\n",
      "\n",
      "**** Do both LFSRs give the same bit stream? ****\n",
      "True\n"
     ]
    }
   ],
   "source": [
    "# poly, state = [3, 1, 0], 0x7\n",
    "# poly, state = [4, 1, 0], 0xf\n",
    "# poly, state = [5, 2, 0], 0x1f\n",
    "# poly, state = [6, 1, 0], 0x3f\n",
    "# poly, state = [7, 1, 0], 0x7f\n",
    "# poly, state = [8, 4, 3, 2, 0], 0xff\n",
    "# poly, state = [9, 4, 0], 0x1ff\n",
    "# poly, state = [10, 3, 0], 0x3ff\n",
    "poly, state = [11, 2, 0], 0x7ff\n",
    "\n",
    "print('poly: {}, state: 0x{:0{}x}'.format(poly, state, (max(poly)+1)//4))\n",
    "\n",
    "print('\\n**** myLFSR ****')\n",
    "mylfsr = LFSR(poly, state)\n",
    "print(mylfsr)\n",
    "mycycle = mylfsr.cycle()\n",
    "print(''.join([str(int(b)) for b in mycycle]))\n",
    "\n",
    "\n",
    "print('\\n**** pyLFSR ****')\n",
    "m = max(poly)\n",
    "pylfsr = pyLFSR(\n",
    "    fpoly=[p for p in poly if p > 0], \n",
    "    initstate=[int(b) for b in '{:0{}b}'.format(state, max(poly))],\n",
    "    verbose=False,\n",
    ")\n",
    "pylfsr.info()\n",
    "pycycle = pylfsr.runFullCycle()\n",
    "print(('{}'*len(pycycle)).format(*pycycle))\n",
    "\n",
    "\n",
    "print('\\n**** Do both LFSRs give the same bit stream? ****')\n",
    "print(all(int(my) == int(py) for my, py in zip(mycycle, pycycle)))"
   ]
  },
  {
   "cell_type": "markdown",
   "metadata": {
    "Collapsed": "false"
   },
   "source": [
    "## Task 4: Berlekamp-Massey Algorithm"
   ]
  },
  {
   "cell_type": "markdown",
   "metadata": {
    "Collapsed": "false"
   },
   "source": [
    "> Define a function that implements the Berlekamp-Massey Algorithm which finds the shortest LFSR that can generate the input bit stream."
   ]
  },
  {
   "cell_type": "markdown",
   "metadata": {
    "Collapsed": "false"
   },
   "source": [
    "**Pseudocode**:\n",
    "> **Input** \\\\( b = [b_0, b_1, \\dots, b_N]\\\\) <br>\n",
    "> \\\\( P(x) \\leftarrow 1, \\quad m \\leftarrow 0 \\\\) <br>\n",
    "> \\\\( Q(x) \\leftarrow 1, \\quad r \\leftarrow 1 \\\\) <br>\n",
    "> **for** \\\\( \\tau = 0, 1, \\dots, N-1 \\\\) <br>\n",
    "> \\\\( \\qquad d \\leftarrow \\oplus_{j=0}^{m} p_j \\otimes b[\\tau-j] \\\\) <br>\n",
    "> \\\\( \\qquad \\\\) **if** \\\\( d = 1 \\\\) **then** <br>\n",
    "> \\\\( \\qquad \\qquad \\\\) **if** \\\\( 2m \\le \\tau \\\\) **then** <br>\n",
    "> \\\\( \\qquad \\qquad \\qquad R(x) \\leftarrow P(x) \\\\) <br>\n",
    "> \\\\( \\qquad \\qquad \\qquad P(x) \\leftarrow P(x) + Q(x)x^r \\\\) <br>\n",
    "> \\\\( \\qquad \\qquad \\qquad Q(x) \\leftarrow R(x) \\\\) <br>\n",
    "> \\\\( \\qquad \\qquad \\qquad m \\leftarrow \\tau + 1 - m \\\\) <br>\n",
    "> \\\\( \\qquad \\qquad \\qquad r \\leftarrow 0 \\\\) <br>\n",
    "> \\\\( \\qquad \\qquad \\\\) **else** <br>\n",
    "> \\\\( \\qquad \\qquad \\qquad P(x) \\leftarrow P(x) + Q(x)x^r \\\\) <br>\n",
    "> \\\\( \\qquad \\qquad \\\\) **endif** <br>\n",
    "> \\\\( \\qquad \\\\) **endif** <br>\n",
    "> \\\\( \\qquad r \\leftarrow r + 1 \\\\) <br>\n",
    "> **endfor** <br>\n",
    "> **Output** \\\\( P(x), m \\\\) <br>\n",
    "\n",
    "**Template**:\n",
    "```python\n",
    "def berlekamp_massey(b):\n",
    "    ''' function docstring '''\n",
    "    # algorithm implementation\n",
    "    return poly, m\n",
    "```\n",
    "\n",
    "**Example**:\n",
    "\n",
    "Input: \\\\( b = [1, 0, 1, 0, 0, 1, 1, 1] \\\\)\n",
    "\n",
    "| \\\\( \\tau \\\\) | \\\\( b_\\tau \\\\) | \\\\( d \\\\) | \\\\( P(x) \\\\) | \\\\( m \\\\) | \\\\( Q(x) \\\\) | \\\\( r \\\\) |\n",
    "|:-:|:-:|:-:|:-:|:-:|:-:|:-:|\n",
    "| - | - | - | \\\\( 1           \\\\) | 0 | \\\\( 1       \\\\) | 1 |\n",
    "| 0 | 1 | 1 | \\\\( 1 + x       \\\\) | 1 | \\\\( 1       \\\\) | 1 |\n",
    "| 1 | 0 | 1 | \\\\( 1           \\\\) | 1 | \\\\( 1       \\\\) | 2 |\n",
    "| 2 | 1 | 1 | \\\\( 1 + x^2     \\\\) | 2 | \\\\( 1       \\\\) | 1 |\n",
    "| 3 | 0 | 0 | \\\\( 1 + x^2     \\\\) | 2 | \\\\( 1       \\\\) | 2 |\n",
    "| 4 | 0 | 1 | \\\\( 1           \\\\) | 3 | \\\\( 1 + x^2 \\\\) | 1 |\n",
    "| 5 | 1 | 1 | \\\\( 1 + x + x^3 \\\\) | 3 | \\\\( 1 + x^2 \\\\) | 2 |\n",
    "| 6 | 1 | 0 | \\\\( 1 + x + x^3 \\\\) | 3 | \\\\( 1 + x^2 \\\\) | 3 |\n",
    "| 7 | 1 | 0 | \\\\( 1 + x + x^3 \\\\) | 3 | \\\\( 1 + x^2 \\\\) | 4 |\n",
    "\n",
    "Output: \\\\( P(x) = 1 + x + x^3 \\\\), \\\\( m = 3 \\\\)"
   ]
  },
  {
   "cell_type": "code",
   "execution_count": 17,
   "metadata": {
    "Collapsed": "false"
   },
   "outputs": [],
   "source": [
    "def parity(x):\n",
    "    '''Returns the parity bit (bool) of the input `x` (int)'''\n",
    "    return bool(sum(int(b) for b in '{:b}'.format(x)) % 2)\n",
    "\n",
    "def reverse(x, n):\n",
    "    '''Reverses the order of the `n` (int) bits in the input `x` (int)'''\n",
    "    return int('{:0{}b}'.format(x, n)[::-1], 2)\n",
    "\n",
    "def discrepancy(P, m, b, t):\n",
    "    '''\n",
    "    Compute discrepancy (bool) between the Polynomial `P` (int) with degree `m`\n",
    "    (int) and the bit sequence `b` (list/string of 0/1) at time `t` (int)\n",
    "    '''\n",
    "    # select bits b_t, b_{t-1}, ..., b_{t-j} in reverse order\n",
    "    bbits = b[t:t-m-1 if t > m else None:-1]\n",
    "    # transform bits in integer\n",
    "    bint = sum([1 << i for i, bit in enumerate(bbits) if bool(int(bit))])\n",
    "    # compute discrepancy \n",
    "    d = parity(P & bint)\n",
    "    return d\n",
    "\n",
    "def berlekamp_massey(b, verbose=False):\n",
    "    '''\n",
    "    Find the shortest LFSR for a given binary sequence.\n",
    "    \n",
    "    Parameters\n",
    "    ----------\n",
    "    b: list/string of 0/1,\n",
    "        stream of bits.\n",
    "        \n",
    "    Return\n",
    "    ------\n",
    "    list of int,\n",
    "        linear feedback polynomial expressed as list of the exponents related\n",
    "        to the non-zero coefficients\n",
    "    '''\n",
    "    \n",
    "    # variables initialization\n",
    "    P, m = 0x1, 0\n",
    "    Q, r = 0x1, 1\n",
    "    \n",
    "    if verbose:\n",
    "        from math import log2\n",
    "        lenP = 1 + int(log2(len(b)+1))\n",
    "        print('t b d {:>{}} m {:>{}} r'.format('poly', lenP, 'Q', lenP))\n",
    "        print('- - - {:{}} 0 {:{}} 1'.format(P, lenP, Q, lenP))\n",
    "    \n",
    "    for t in range(len(b)):\n",
    "        # compute discrepancy\n",
    "        d = discrepancy(P, m, b, t)\n",
    "        if d:\n",
    "            if 2*m <=t: # A                \n",
    "                P, Q = P^(Q<<r), P\n",
    "                m, r = t+1-m, 0\n",
    "            else: # B\n",
    "                P = P^(Q<<r)\n",
    "        r += 1\n",
    "        \n",
    "        if verbose:\n",
    "            print(t, int(b[t]), int(d), '{:{}b}'.format(P, lenP), m, \n",
    "                  '{:{}b}'.format(Q, lenP), r)\n",
    "            \n",
    "    # convert poly from integer to list of degree of non-zero coefficients\n",
    "    poly = [i for i, p in enumerate('{:b}'.format(P)[::-1]) if bool(int(p))]\n",
    "    return list(reversed(sorted(poly)))"
   ]
  },
  {
   "cell_type": "code",
   "execution_count": 18,
   "metadata": {
    "Collapsed": "false"
   },
   "outputs": [
    {
     "name": "stdout",
     "output_type": "stream",
     "text": [
      "t b d poly m    Q r\n",
      "- - -    1 0    1 1\n",
      "0 1 1   11 1    1 1\n",
      "1 0 1    1 1    1 2\n",
      "2 1 1  101 2    1 1\n",
      "3 0 0  101 2    1 2\n",
      "4 0 1    1 3  101 1\n",
      "5 1 1 1011 3  101 2\n",
      "6 1 0 1011 3  101 3\n",
      "7 1 0 1011 3  101 4\n",
      "8 0 0 1011 3  101 5\n",
      "9 1 0 1011 3  101 6\n",
      "[3, 1, 0]\n"
     ]
    }
   ],
   "source": [
    "b = '1010011101'\n",
    "poly = berlekamp_massey(b, verbose=True)\n",
    "print(poly)"
   ]
  },
  {
   "cell_type": "code",
   "execution_count": null,
   "metadata": {
    "Collapsed": "false"
   },
   "outputs": [],
   "source": [
    "# poly, state = [3, 1, 0], 0x5\n",
    "# poly, state = [4, 1, 0], 0x1\n",
    "# poly, state = [5, 2, 0], 0x1\n",
    "# poly, state = [6, 1, 0], 0x1\n",
    "# poly, state = [7, 1, 0], 0x1\n",
    "# poly, state = [8, 4, 3, 2, 0], 0x1\n",
    "# poly, state = [9, 4, 0], 0x1\n",
    "# poly, state = [10, 3, 0], 0x1\n",
    "poly, state = [11, 2, 0], 0x1\n",
    "\n",
    "lfsr = LFSR(poly, state)\n",
    "print(lfsr)\n",
    "# bitstream = lfsr.run_steps(N=2**len(lfsr))\n",
    "bitstream = lfsr.cycle()\n",
    "print(''.join([str(int(b)) for b in bitstream]))\n",
    "\n",
    "\n",
    "bm_poly = berlekamp_massey(bitstream)\n",
    "print(bm_poly)"
   ]
  }
 ],
 "metadata": {
  "kernelspec": {
   "display_name": "Python 3",
   "language": "python",
   "name": "python3"
  },
  "language_info": {
   "codemirror_mode": {
    "name": "ipython",
    "version": 3
   },
   "file_extension": ".py",
   "mimetype": "text/x-python",
   "name": "python",
   "nbconvert_exporter": "python",
   "pygments_lexer": "ipython3",
   "version": "3.8.1"
  }
 },
 "nbformat": 4,
 "nbformat_minor": 4
}
