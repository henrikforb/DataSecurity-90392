{
 "cells": [
  {
   "cell_type": "markdown",
   "metadata": {
    "Collapsed": "false"
   },
   "source": [
    "# A very hurried course in Python"
   ]
  },
  {
   "cell_type": "markdown",
   "metadata": {
    "Collapsed": "false"
   },
   "source": [
    "Derived from [SOCS2018-PYTHON-HANDSON](https://github.com/calde12/SOSC2018-PYTHON-HANDSON) by Stefano Calderan\n",
    "(Stefano Calderan's disclaimer: parts of this notebook are taken from [this awesome tutorial](https://github.com/joaopfonseca/introduction_to_programming) )"
   ]
  },
  {
   "cell_type": "markdown",
   "metadata": {
    "Collapsed": "false"
   },
   "source": [
    "- [Statistics with Scipy](#SciPy.stats)\n",
    "- [Plotting with Matplotlib](#Matplotlib)\n",
    "    - [Adding labels and title](#Axis-labels-and-title)\n",
    "    - [Overlaying plots](#Multiple-plots)\n",
    "    - [Increase control with the function subplots()](#Increase-control-with-subplots)\n",
    "    - [Marker and lines styling](#More-on-lines-and-markers-styling)\n",
    "    - [Many-plots figure and plot range settings](#Plot-range-and-multiple-axis)\n",
    "    - [Logarithmic scale](#Logarithmic-scale)\n",
    "    - [Histograms](#Histograms)\n",
    "    - [Other 2d plots](#Other-2d-plots)"
   ]
  },
  {
   "cell_type": "markdown",
   "metadata": {
    "Collapsed": "false"
   },
   "source": [
    "## SciPy.stats"
   ]
  },
  {
   "cell_type": "markdown",
   "metadata": {
    "Collapsed": "false"
   },
   "source": [
    "`SciPy` is an awesome library for scientific computing. Its submodule `stats` is full of nice probability distributions, statistical measures and hypothesis testing.  \n",
    "Here you can find a lot about all what this module can offer: https://docs.scipy.org/doc/scipy/reference/stats.html.  \n",
    "\n",
    "Let's now see a little example of statistical functions"
   ]
  },
  {
   "cell_type": "code",
   "execution_count": null,
   "metadata": {
    "Collapsed": "false"
   },
   "outputs": [],
   "source": [
    "import numpy as np\n",
    "import scipy.stats as stat"
   ]
  },
  {
   "cell_type": "code",
   "execution_count": null,
   "metadata": {
    "Collapsed": "false"
   },
   "outputs": [],
   "source": [
    "x = np.arange(5)\n",
    "y = np.arange(10, 60, 10)\n",
    "y_noise = y + np.random.randint(1, 20, 5)\n",
    "\n",
    "# Let's calculate the Pearson coefficient\n",
    "r, p_val = stat.pearsonr(x, y)\n",
    "print(r, p_val)\n",
    "r, p_val = stat.pearsonr(x, y_noise)\n",
    "print(r, p_val)"
   ]
  },
  {
   "cell_type": "markdown",
   "metadata": {
    "Collapsed": "false"
   },
   "source": [
    "## Matplotlib"
   ]
  },
  {
   "cell_type": "markdown",
   "metadata": {
    "Collapsed": "false"
   },
   "source": [
    "Matplotlib is a great library for scientific visualization. It provides all the basic plot like scatter, histogram, bar graphs and exctera.  \n",
    "We'll see just how to create basic plots; you can read about all its potential in the vast documentation"
   ]
  },
  {
   "cell_type": "code",
   "execution_count": null,
   "metadata": {
    "Collapsed": "false"
   },
   "outputs": [],
   "source": [
    "import matplotlib.pyplot as plt  # Standard abbreviation for pyplot\n",
    "\n",
    "# magic command to display the plots in the notebook\n",
    "%matplotlib inline                   "
   ]
  },
  {
   "cell_type": "code",
   "execution_count": null,
   "metadata": {
    "Collapsed": "false"
   },
   "outputs": [],
   "source": [
    "# Let's plot the data used above\n",
    "# You begin by calling the plot() function and then pass your x and y arguments\n",
    "\n",
    "# 'bo' says that I want 'o' markers with color blue (b)\n",
    "plt.plot(x, y, 'bo')"
   ]
  },
  {
   "cell_type": "markdown",
   "metadata": {
    "Collapsed": "false"
   },
   "source": [
    "### Axis labels and title"
   ]
  },
  {
   "cell_type": "code",
   "execution_count": null,
   "metadata": {
    "Collapsed": "false"
   },
   "outputs": [],
   "source": [
    "# Let's style it a bit\n",
    "\n",
    "plt.plot(x, y_noise, 'bo')\n",
    "plt.xlabel('x_axis')\n",
    "plt.ylabel('y_axis')\n",
    "plt.title(\"My first plot\")"
   ]
  },
  {
   "cell_type": "markdown",
   "metadata": {
    "Collapsed": "false"
   },
   "source": [
    "### Multiple plots"
   ]
  },
  {
   "cell_type": "code",
   "execution_count": null,
   "metadata": {
    "Collapsed": "false"
   },
   "outputs": [],
   "source": [
    "# You can add more plots in the same figure\n",
    "\n",
    "x = np.arange(0, 10, 0.5)\n",
    "y1 = x ** 2\n",
    "y2 = x ** 3\n",
    "\n",
    "plt.plot(x, y1, 'r-', label='y = x^2')\n",
    "plt.plot(x, y2, 'g--', label='y = x^3')\n",
    "plt.legend()\n",
    "plt.title(\"My first mutltiple plot\")"
   ]
  },
  {
   "cell_type": "markdown",
   "metadata": {
    "Collapsed": "false"
   },
   "source": [
    "## Increase control with `subplots`"
   ]
  },
  {
   "cell_type": "markdown",
   "metadata": {
    "Collapsed": "false"
   },
   "source": [
    "Let's have more control on the figure. We can use the `subplots` method that allow us to set the size of the figure. \n",
    "`subplots` returns 2 element, the figure (think of it as the image frame) and the `axis`, which is the Matplotlib classes that contains the various plotting objects.  \n",
    "You can find more on `subplots` [reading here](https://matplotlib.org/api/_as_gen/matplotlib.pyplot.subplots.html#matplotlib-pyplot-subplots)."
   ]
  },
  {
   "cell_type": "code",
   "execution_count": null,
   "metadata": {
    "Collapsed": "false"
   },
   "outputs": [],
   "source": [
    "# We are increasing the size of the figure!\n",
    "fig, ax = plt.subplots(figsize=(10, 6))\n",
    "\n",
    "# this special string having an outside r and \n",
    "# starting and ending with dollar sign gives us Latex functionality\n",
    "ax.plot(x, y1, 'r-', label= r'$y = x^2$')\n",
    "ax.plot(x, y2, 'g--', label= r'$y = x^3$')\n",
    "ax.legend()\n",
    "ax.set_title(\"My second multiple plot\", fontsize=20)\n",
    "ax.set_xlabel('x', fontsize=15)\n",
    "ax.set_ylabel('y', fontsize=15)"
   ]
  },
  {
   "cell_type": "markdown",
   "metadata": {
    "Collapsed": "false"
   },
   "source": [
    "### Formatting the legend"
   ]
  },
  {
   "cell_type": "markdown",
   "metadata": {
    "Collapsed": "false"
   },
   "source": [
    "Here we list some of the many ways to control the legend position.  \n",
    "```python\n",
    "ax.legend((loc=0))  # let matplotlib decide the optimal location# let ma \n",
    "ax.legend(loc=1) # upper right corner\n",
    "ax.legend(loc=2) # upper left corner\n",
    "ax.legend(loc=3) # lower left corner\n",
    "ax.legend(loc=4) # lower right corner\n",
    "```"
   ]
  },
  {
   "cell_type": "markdown",
   "metadata": {
    "Collapsed": "false"
   },
   "source": [
    "### More on lines and markers styling"
   ]
  },
  {
   "cell_type": "code",
   "execution_count": null,
   "metadata": {
    "Collapsed": "false"
   },
   "outputs": [],
   "source": [
    "fig, ax = plt.subplots(figsize=(12, 8))\n",
    "\n",
    "ax.plot(x, x+1, color=\"blue\", linewidth=0.25, label='Line width options')\n",
    "ax.plot(x, x+2, c=\"blue\", lw=0.50)\n",
    "ax.plot(x, x+3, c=\"blue\", lw=1.00)\n",
    "ax.plot(x, x+4, c=\"blue\", lw=2.00)\n",
    "\n",
    "# possible linestype options ‘-‘, ‘--’, ‘-.’, ‘:’, ‘steps’\n",
    "ax.plot(x, x+5, c=\"red\", lw=2, linestyle='-', label='Line styles options')\n",
    "ax.plot(x, x+6, c=\"red\", lw=2, ls='-.')\n",
    "ax.plot(x, x+7, c=\"red\", lw=2, ls=':')\n",
    "\n",
    "# custom dash\n",
    "line, = ax.plot(x, x+8, c=\"black\", lw=1.50, label='Customize dashed line')\n",
    "line.set_dashes([5, 10, 15, 10]) # format: line length, space length, ...\n",
    "\n",
    "# possible marker symbols: \n",
    "# marker = '+', 'o', '*', 's', ',', '.', '1', '2', '3', '4', ...\n",
    "kwargs = {'c': \"green\", 'lw': 2, 'ls': '--'}\n",
    "ax.plot(x, x+ 9, **kwargs, marker='+', label='Marker styles')\n",
    "ax.plot(x, x+10, **kwargs, marker='o')\n",
    "ax.plot(x, x+11, **kwargs, marker='s')\n",
    "ax.plot(x, x+12, **kwargs, marker='1')\n",
    "\n",
    "# marker size and color\n",
    "kwargs = {'c': \"purple\", 'lw': 1, 'ls': '-', 'marker': 'o'}\n",
    "ax.plot(x, x+13, **kwargs, markersize=2, label='Marker size and color')\n",
    "ax.plot(x, x+14, **kwargs, ms=4)\n",
    "ax.plot(x, x+15, **kwargs, ms=8, markerfacecolor=\"red\")\n",
    "ax.plot(x, x+16, **kwargs, ms=8, mfc=\"yellow\", markeredgecolor=\"blue\")\n",
    "ax.plot(x, x+17, **kwargs, ms=8, mfc=\"yellow\", mec=\"blue\", markeredgewidth=2)\n",
    "ax.plot(x, x+18, **kwargs, ms=8, mfc=\"yellow\", mec=\"red\", mew=2)\n",
    "\n",
    "ax.legend(loc='upper left');"
   ]
  },
  {
   "cell_type": "markdown",
   "metadata": {
    "Collapsed": "false"
   },
   "source": [
    "## Plot range and multiple axis"
   ]
  },
  {
   "cell_type": "markdown",
   "metadata": {
    "Collapsed": "false"
   },
   "source": [
    "Here we see how to modify plot ranges and how to insert multiple graphs in one figure.  \n",
    "The latter procedure is done by giving `nrows` and `ncols` parameters to `subplots()` function: in this way you are dividing the figure in `nrows`x`ncols` parts, each of them holding a plot.  \n",
    "These parts are called **`axes`**. They are returned by the `subplot()` function as an array; it can be 1 or 2-dimensional.  \n",
    "\n",
    "To modify the plot range, you can use the functions `set_ylim` and `set_xlim`."
   ]
  },
  {
   "cell_type": "code",
   "execution_count": null,
   "metadata": {
    "Collapsed": "false"
   },
   "outputs": [],
   "source": [
    "fig, axes = plt.subplots(nrows=1, ncols=3, figsize=(12, 4))  # we're creating more plots!!\n",
    "\n",
    "axes[0].plot(x, x**2, x, x**3)\n",
    "axes[0].set_title(\"default axes ranges\")\n",
    "\n",
    "axes[1].plot(x, x**2, x, x**3)\n",
    "axes[1].axis('tight')\n",
    "axes[1].set_title(\"tight axes\")\n",
    "\n",
    "axes[2].plot(x, x**2, x, x**3)\n",
    "axes[2].set_ylim([0, 60])                # this limits the y axis range\n",
    "axes[2].set_xlim([2, 5])                 # this limits the x axis range\n",
    "axes[2].set_title(\"custom axes range\");"
   ]
  },
  {
   "cell_type": "markdown",
   "metadata": {
    "Collapsed": "false"
   },
   "source": [
    "## Logarithmic scale"
   ]
  },
  {
   "cell_type": "code",
   "execution_count": null,
   "metadata": {
    "Collapsed": "false"
   },
   "outputs": [],
   "source": [
    "fig, axes = plt.subplots(1, 2, figsize=(10,4))\n",
    "      \n",
    "axes[0].plot(x, x**2, x, np.exp(x))\n",
    "axes[0].set_title(\"Normal scale\")\n",
    "\n",
    "axes[1].plot(x, x**2, x, np.exp(x))\n",
    "axes[1].set_yscale(\"log\")\n",
    "axes[1].set_title(\"Logarithmic scale (y)\");"
   ]
  },
  {
   "cell_type": "markdown",
   "metadata": {
    "Collapsed": "false"
   },
   "source": [
    "## Histograms"
   ]
  },
  {
   "cell_type": "code",
   "execution_count": null,
   "metadata": {
    "Collapsed": "false"
   },
   "outputs": [],
   "source": [
    "n = np.random.normal(1, 2, 100000)               # generate data from normal distribution\n",
    "fig, axes = plt.subplots(1, 2, figsize=(12,4))\n",
    "\n",
    "axes[0].hist(n, bins=50)              \n",
    "axes[0].set_title(\"Normal histogram\")\n",
    "axes[0].set_xlim((min(n), max(n)))\n",
    "\n",
    "axes[1].hist(n, cumulative=True, bins=50)\n",
    "axes[1].set_title(\"Cumulative detailed histogram\")\n",
    "axes[1].set_xlim((min(n), max(n)));"
   ]
  },
  {
   "cell_type": "markdown",
   "metadata": {
    "Collapsed": "false"
   },
   "source": [
    "## Other 2d plots"
   ]
  },
  {
   "cell_type": "code",
   "execution_count": null,
   "metadata": {
    "Collapsed": "false"
   },
   "outputs": [],
   "source": [
    "\n",
    "\n",
    "n = np.arange(0, 6)\n",
    "fig, axes = plt.subplots(1, 3, figsize=(12,3))\n",
    "\n",
    "axes[0].scatter(x, x + 0.5*np.random.randn(len(x)))\n",
    "axes[0].set_title(\"scatter\")\n",
    "\n",
    "axes[1].step(n, n**2, lw=2)\n",
    "axes[1].set_title(\"step\")\n",
    "\n",
    "axes[2].bar(n, n**2, align=\"center\", width=0.5, alpha=0.5)\n",
    "axes[2].set_title(\"bar\")"
   ]
  },
  {
   "cell_type": "code",
   "execution_count": null,
   "metadata": {
    "Collapsed": "false"
   },
   "outputs": [],
   "source": []
  }
 ],
 "metadata": {
  "kernel_info": {
   "name": "anaconda3-5.1.0"
  },
  "kernelspec": {
   "display_name": "Python 3",
   "language": "python",
   "name": "python3"
  },
  "language_info": {
   "codemirror_mode": {
    "name": "ipython",
    "version": 3
   },
   "file_extension": ".py",
   "mimetype": "text/x-python",
   "name": "python",
   "nbconvert_exporter": "python",
   "pygments_lexer": "ipython3",
   "version": "3.7.4"
  },
  "nteract": {
   "version": "0.11.7"
  }
 },
 "nbformat": 4,
 "nbformat_minor": 4
}
