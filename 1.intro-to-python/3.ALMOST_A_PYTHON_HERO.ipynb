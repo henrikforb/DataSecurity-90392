{
 "cells": [
  {
   "cell_type": "markdown",
   "metadata": {
    "toc-hr-collapsed": false
   },
   "source": [
    "# A very hurried course in Python\n",
    "#### Derived from [SOCS2018-PYTHON-HANDSON](https://github.com/calde12/SOSC2018-PYTHON-HANDSON) by Stefano Calderan\n",
    "  \n",
    "  \n",
    "- [Classes definition](#Classes)\n",
    "    - [Class structure](#Structure-of-a-class)\n",
    "    - [Iterators and Iterables](#Iterators,-Iterables)\n",
    "    - [Generators](#Generators)\n",
    "- [Working with dates](#Working-with-dates)"
   ]
  },
  {
   "cell_type": "markdown",
   "metadata": {
    "heading_collapsed": "false"
   },
   "source": [
    "You remember this, right?"
   ]
  },
  {
   "cell_type": "code",
   "execution_count": null,
   "metadata": {
    "heading_collapsed": "false"
   },
   "outputs": [],
   "source": [
    "l = [1, 2, 3]                   # a list\n",
    "d = {'z': 0, 'u': 1}            # a dictionary\n",
    "s = {8, 9, 2, 5, 8, 9, 2, 5}    # a set\n",
    "\n",
    "print(type(l), type(d), type(s))"
   ]
  },
  {
   "cell_type": "markdown",
   "metadata": {
    "heading_collapsed": "false",
    "toc-hr-collapsed": false
   },
   "source": [
    "## Classes"
   ]
  },
  {
   "cell_type": "markdown",
   "metadata": {
    "heading_collapsed": "false"
   },
   "source": [
    "**Classes** are objects that provide a means of bundling **data and functionality** together. \n",
    "Control flows, `with` statements, exception handling ect. is what *procedural programming* is made of.\n",
    "Classes are the foundation of what is called *Object Oriented Programming (OOP)*. This is a programming paradigm based on the concept of **\"objects\"**, which may contain **data, in the form of** fields, often known as **attributes**; and **code, in the form of** procedures, often known as **methods**.  \n",
    "\n",
    "A class defines how the objects should be: their status and the actions that they can perform to create their status. \n",
    "To create a particular specimen of a certain class is said creating an **instance** of that class."
   ]
  },
  {
   "cell_type": "markdown",
   "metadata": {
    "heading_collapsed": "false"
   },
   "source": [
    "#### Structure of a class"
   ]
  },
  {
   "cell_type": "markdown",
   "metadata": {
    "heading_collapsed": "false"
   },
   "source": [
    "Creating a new type of object\n",
    "\n",
    "```python\n",
    "class ClassName():\n",
    "\n",
    "    def __init__(initial_arguments):\n",
    "        ...\n",
    "        \n",
    "    def method_1(arguments):\n",
    "        ...\n",
    "``` \n",
    "    \n",
    "Creating an instance:\n",
    "\n",
    "`instance_name = ClassName(initial_arguments)`  \n",
    "Let's see  together how to create a class"
   ]
  },
  {
   "cell_type": "code",
   "execution_count": null,
   "metadata": {
    "heading_collapsed": "false"
   },
   "outputs": [],
   "source": [
    "class Student():                      # creating the Student class \n",
    "    \n",
    "    # the __init__ method is 'special'. \n",
    "    # In it we define the initial status that\n",
    "    # new instances of this class will have.\n",
    "    def __init__(self, name, age):\n",
    "        # self is a protected keyword referring to the to-be-created instance.\n",
    "        self.age = age                \n",
    "        self.name = name\n",
    "        # age and name are ATTRIBUTES"
   ]
  },
  {
   "cell_type": "code",
   "execution_count": null,
   "metadata": {
    "heading_collapsed": "false"
   },
   "outputs": [],
   "source": [
    "student = Student('Steve Rogers', 33)    # student is an instance of Student\n",
    "\n",
    "print(student.name, '---', student.age)"
   ]
  },
  {
   "cell_type": "code",
   "execution_count": null,
   "metadata": {
    "heading_collapsed": "false"
   },
   "outputs": [],
   "source": [
    "# Adding new methods\n",
    "\n",
    "class Student():                    \n",
    "    \n",
    "    # initial arguments can have DEFAULT values, as functions!\n",
    "    def __init__(self, name, age=33):\n",
    "                                     \n",
    "        self.age = age                \n",
    "        self.name = name\n",
    "        \n",
    "    # by passing self, we give access to ALL the attributes of the instance!\n",
    "    def upper_name(self):\n",
    "        up_name = self.name.upper()\n",
    "        return up_name\n",
    "    \n",
    "    \n",
    "student = Student(\"Steve Rogers\")\n",
    "big_name = student.upper_name()\n",
    "print(big_name)"
   ]
  },
  {
   "cell_type": "markdown",
   "metadata": {
    "heading_collapsed": "false"
   },
   "source": [
    "The `self` keyword is a placeholder for the class instance yet-to-be-created.  \n",
    "That's why we add it in our methods, that will apply on an instance. When you create a class instance, and call the method with the syntax\n",
    "> `instance_name.method_name()`  \n",
    "\n",
    "the class object fills the place required by the `self` argument. That's why in the example above, `upper_name()` was defined with a `self` argument but when we invoked it on *student*, we passed no arguments: *student* filled the `self`!"
   ]
  },
  {
   "cell_type": "code",
   "execution_count": 1,
   "metadata": {
    "heading_collapsed": "false"
   },
   "outputs": [],
   "source": [
    "# Methods that can CHANGE ATTRIBUTES\n",
    "\n",
    "class Student():                    \n",
    "    \n",
    "    def __init__(self, name, age=33, passed_exams=0):    \n",
    "                                     \n",
    "        self.age = age                \n",
    "        self.name = name\n",
    "        self.passed_exams = passed_exams\n",
    "        \n",
    "    def upper_name(self):                \n",
    "        up_name = self.name.upper()\n",
    "        return up_name\n",
    "    \n",
    "    \n",
    "    def increase_exams(self, n):\n",
    "        \n",
    "        # this means we're adding the number n to the passed_exams attribute\n",
    "        self.passed_exams += n\n",
    "        print('Yeeeeah!')"
   ]
  },
  {
   "cell_type": "code",
   "execution_count": null,
   "metadata": {
    "heading_collapsed": "false"
   },
   "outputs": [],
   "source": [
    "st = Student(\"Steve Rogers\")\n",
    "print(st.passed_exams)\n",
    "\n",
    "# note that we don't pass the self argument: \n",
    "# it is given by the instance itself!\n",
    "st.increase_exams(2)\n",
    "print(st.passed_exams)"
   ]
  },
  {
   "cell_type": "code",
   "execution_count": null,
   "metadata": {
    "heading_collapsed": "false"
   },
   "outputs": [],
   "source": [
    "# TO DO: create a class Dog that accept this initial arguments: \n",
    "# name (string) and bark_length (int) with default value 1.\n",
    "# Add a method .barking that prints the string 'Wof!' with as many 'o' as the \n",
    "# number in bark_length. Add a method .increase_barking that accepts an int \n",
    "# and MODIFIES the bark_length.\n",
    "# Create an instance of dog and try your methods.\n",
    "\n",
    "# YOUR CODE HERE"
   ]
  },
  {
   "cell_type": "markdown",
   "metadata": {
    "heading_collapsed": "false"
   },
   "source": [
    "### Iterators, Iterables"
   ]
  },
  {
   "cell_type": "markdown",
   "metadata": {
    "heading_collapsed": "false"
   },
   "source": [
    "An **Iterator** is an object that represents a stream of data. More precisely, an objects that has the `__next__` method which returns the next item from the iterator or raises `StopIteration` exception if there are no further item. When you use a for loop, list comprehension or anything else that iterates over an object, in the background the `__next__` method is being called on an iterator.\n",
    "\n",
    "An **Iterable** is anything that is able to iterate. In practice, an object that has the `__iter__` method, which returns an iterator. To clarify, strings, lists, files, and dictionaries are all examples of iteables that return an iterator on themselves.\n",
    "\n",
    "Here an awesome article that explain the differences https://hackaday.com/2018/09/19/learn-to-loop-the-python-way-iterators-and-generators-explained/"
   ]
  },
  {
   "cell_type": "code",
   "execution_count": null,
   "metadata": {
    "heading_collapsed": "false"
   },
   "outputs": [],
   "source": [
    "from math import gcd\n",
    "\n",
    "# define the iterator object\n",
    "class Multiple():\n",
    "    \n",
    "    # as any class it supports the __init__ method\n",
    "    def __init__(self, number, maximum=1000):\n",
    "        self.number = number\n",
    "        self.maximum = maximum\n",
    "        self.counter = 0\n",
    "    \n",
    "    # __iter__ method makes the class an iterable\n",
    "    def __iter__(self):\n",
    "        return self\n",
    "        \n",
    "    # __next__ method makes the class an iterator\n",
    "    def __next__(self):\n",
    "        self.counter += 1\n",
    "        value = self.number * self.counter\n",
    "        if value > self.maximum:\n",
    "            raise StopIteration\n",
    "        return value"
   ]
  },
  {
   "cell_type": "code",
   "execution_count": null,
   "metadata": {
    "heading_collapsed": "false"
   },
   "outputs": [],
   "source": [
    "# use it in a for loop\n",
    "for number in Multiple(79):\n",
    "    print(number)"
   ]
  },
  {
   "cell_type": "markdown",
   "metadata": {
    "heading_collapsed": "false"
   },
   "source": [
    "**Why it is good to be able to write your own iterator?**\n",
    "\n",
    "Many programs have a need to iterate over a large list of generated data and iterators can work on the principle of **lazy evaluation**: as you loop over an iterator, values are generated as required. In many situations, the simple choice to use an iterator can markedly improve performance."
   ]
  },
  {
   "cell_type": "code",
   "execution_count": null,
   "metadata": {
    "heading_collapsed": "false"
   },
   "outputs": [],
   "source": [
    "# TO DO: create a class Dice whose __next__ method returns a random number\n",
    "# that ranges from 1 to 6. Then, create two instances of Dice and iter over \n",
    "# them until they draw the same number.\n",
    "# HINT: use randint (from the random library) to draw a random integer and\n",
    "# use zip to iter over the two iterables in a single for\n",
    "\n",
    "# YOUR CODE HERE"
   ]
  },
  {
   "cell_type": "markdown",
   "metadata": {
    "heading_collapsed": "false"
   },
   "source": [
    "### Generators"
   ]
  },
  {
   "cell_type": "markdown",
   "metadata": {
    "heading_collapsed": "false"
   },
   "source": [
    "You may have noticed that there is a fair amount of boilerplate code in the example above. **Generators** make it far easier to build your own iterators. There is no fussing aroung `__iter__` and `__next__`, and we don't have to keep track of an internal state or worry about raising exceptions."
   ]
  },
  {
   "cell_type": "code",
   "execution_count": null,
   "metadata": {
    "heading_collapsed": "false"
   },
   "outputs": [],
   "source": [
    "# generators are defined as a function\n",
    "def multiple_gen(number, maximum=1000):\n",
    "    counter = 1\n",
    "    value = number * counter\n",
    "    while value <= maximum:\n",
    "        # yield is the keyword that makes the function a generator\n",
    "        yield value\n",
    "        counter += 1\n",
    "        value = number * counter"
   ]
  },
  {
   "cell_type": "code",
   "execution_count": null,
   "metadata": {
    "heading_collapsed": "false"
   },
   "outputs": [],
   "source": [
    "# use it in a for loop\n",
    "for number in multiple_gen(79):\n",
    "    print(number)"
   ]
  },
  {
   "cell_type": "markdown",
   "metadata": {
    "heading_collapsed": "false"
   },
   "source": [
    "`yield` keyword is similar to `return`, but instead of terminating the function, it simply pauses execution until another values is required."
   ]
  },
  {
   "cell_type": "code",
   "execution_count": null,
   "metadata": {
    "heading_collapsed": "false"
   },
   "outputs": [],
   "source": [
    "# TO DO: create a generator dice_gen that, in a for loop, has the same \n",
    "# behaviour of the Dice class.\n",
    "\n",
    "# YOUR CODE HERE"
   ]
  }
 ],
 "metadata": {
  "kernelspec": {
   "display_name": "Python 3",
   "language": "python",
   "name": "python3"
  },
  "language_info": {
   "codemirror_mode": {
    "name": "ipython",
    "version": 3
   },
   "file_extension": ".py",
   "mimetype": "text/x-python",
   "name": "python",
   "nbconvert_exporter": "python",
   "pygments_lexer": "ipython3",
   "version": "3.8.5"
  }
 },
 "nbformat": 4,
 "nbformat_minor": 4
}
